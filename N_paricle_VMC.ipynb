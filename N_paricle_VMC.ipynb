{
 "cells": [
  {
   "cell_type": "markdown",
   "metadata": {},
   "source": [
    "# Variational Monte Carlo Using Steepest Descent for Arbitrary N Particles"
   ]
  },
  {
   "cell_type": "code",
   "execution_count": 6,
   "metadata": {},
   "outputs": [],
   "source": [
    "import numpy as np\n",
    "import random\n",
    "import math\n",
    "from matplotlib import pyplot as plt\n",
    "from IPython.display import clear_output\n",
    "from math import exp\n",
    "\n",
    "from pdb import set_trace"
   ]
  },
  {
   "cell_type": "markdown",
   "metadata": {},
   "source": [
    "## Monte Carlo Functions"
   ]
  },
  {
   "cell_type": "code",
   "execution_count": 8,
   "metadata": {},
   "outputs": [],
   "source": [
    "# these are all the possible ground configurations that might\n",
    "# contribute to the ground states\n",
    "\n",
    "def get_random_state(num_particles):\n",
    "    state = []\n",
    "    positive_positions = random.sample(range(0, num_particles - 1), int(num_particles/2))\n",
    "    for i in range(num_particles):\n",
    "        if i in positive_positions:\n",
    "            state.append(1)\n",
    "        else:\n",
    "            state.append(-1)\n",
    "    return np.asarray(state)"
   ]
  },
  {
   "cell_type": "code",
   "execution_count": 9,
   "metadata": {},
   "outputs": [],
   "source": [
    "def get_variational_projection(state, alpha):\n",
    "    \"\"\"\n",
    "    This function computes the projection of state in the spin basis\n",
    "    onto the varitional wave function\n",
    "    \"\"\"\n",
    "    exponent = 0 \n",
    "    # FOO DO WE COUNT THE SUMS TWICE?\n",
    "    for i in range(len(state)):\n",
    "        for j in range(len(state)):\n",
    "            if i is not j:\n",
    "                new_exp_term = (alpha/(min(abs(i-j),abs((i-len(state)) - j), abs(i - (j-len(state))))))*state[i]*state[j]/4 # need the \"/4\" because spin 1/2 particles\n",
    "                exponent += new_exp_term\n",
    "    return math.exp(exponent)"
   ]
  },
  {
   "cell_type": "code",
   "execution_count": 10,
   "metadata": {},
   "outputs": [
    {
     "data": {
      "text/plain": [
       "0.004144227151239332"
      ]
     },
     "execution_count": 10,
     "metadata": {},
     "output_type": "execute_result"
    }
   ],
   "source": [
    "state = get_random_state(32)\n",
    "get_variational_projection(state, 1)"
   ]
  },
  {
   "cell_type": "code",
   "execution_count": 11,
   "metadata": {},
   "outputs": [],
   "source": [
    "def get_off_diagonal_configurations(state):\n",
    "    \"\"\"\n",
    "    This function generates a list of configurations that could\n",
    "    be flipped into the inputted by state by the application of\n",
    "    Raising or lowering operators (Check the hamiltonian equation)\n",
    "    \n",
    "    returns a list of configurations\n",
    "    \n",
    "    ***NOTE: This solution is computational intractable and might not\n",
    "    be the most optimal one\n",
    "    \"\"\"\n",
    "    state_copy = state.copy()\n",
    "    off_diagonal_configurations = list()\n",
    "    for i in range(len(state)):\n",
    "        if i == len(state) - 1:\n",
    "            if state[i] != state[0]:\n",
    "                state_copy[i] *= -1\n",
    "                state_copy[0] *= -1\n",
    "                off_diagonal_configurations.append(state_copy)\n",
    "            return off_diagonal_configurations\n",
    "        if state[i] != state[i+1]:\n",
    "            state_copy[i] *= -1\n",
    "            state_copy[i+1] *= -1\n",
    "            off_diagonal_configurations.append(state_copy)\n",
    "            state_copy = state.copy()\n",
    "    return state.copy()"
   ]
  },
  {
   "cell_type": "code",
   "execution_count": 12,
   "metadata": {},
   "outputs": [],
   "source": [
    "def calculate_local_energy(state, alpha):\n",
    "    \"\"\"\n",
    "    This function calculates the local energy of a state\n",
    "    \"\"\"\n",
    "    # contribution from Z direction spin terms\n",
    "    energy = 0\n",
    "    state_proj = get_variational_projection(state, alpha)\n",
    "    for i in range(len(state)):\n",
    "        if i == len(state) - 1:\n",
    "            energy += (state_proj*state[i] * state[0])/4\n",
    "        else:\n",
    "            energy += (state_proj*state[i] * state[i+1])/4\n",
    "            \n",
    "    # contributions from off diagonal terms\n",
    "    non_diagonal_energies = 0\n",
    "    off_diag_config_states = get_off_diagonal_configurations(state)\n",
    "    for configuration in off_diag_config_states:\n",
    "        non_diagonal_energies += (-0.5)*get_variational_projection(configuration, alpha)\n",
    "    energy += non_diagonal_energies\n",
    "    return energy / state_proj"
   ]
  },
  {
   "cell_type": "code",
   "execution_count": 13,
   "metadata": {},
   "outputs": [],
   "source": [
    "def compute_R(trial_state, initial_state, alpha):\n",
    "    \"\"\"\n",
    "    Function compute \"R\", which is the ratio between the weight functions\n",
    "    of the initial state and the trial state.\n",
    "    \"\"\"\n",
    "    numerator = get_variational_projection(trial_state, alpha) **2\n",
    "    denominator = get_variational_projection(initial_state, alpha) **2\n",
    "    return numerator / denominator"
   ]
  },
  {
   "cell_type": "code",
   "execution_count": 14,
   "metadata": {},
   "outputs": [],
   "source": [
    "def random_flip(state):\n",
    "    \"\"\"\n",
    "    Randomly flips two bits of a state such\n",
    "    that there are still two up and two down\n",
    "    \"\"\"\n",
    "    choices = random.sample(list(range(0,len(state))), len(state))\n",
    "    flip1_index = choices.pop()\n",
    "    flip1_value = state[flip1_index]\n",
    "    state[flip1_index] *= -1\n",
    "    cont = True\n",
    "    while(cont):\n",
    "        flip2_index = choices.pop()\n",
    "        if state[flip2_index] != flip1_value:\n",
    "            state[flip2_index] *= -1\n",
    "            cont = False\n",
    "    return state"
   ]
  },
  {
   "cell_type": "code",
   "execution_count": 29,
   "metadata": {},
   "outputs": [],
   "source": [
    "def monte_carlo_estimation(alpha, num_steps, num_particles):\n",
    "    # only works for even number of particles\n",
    "    assert num_particles %2 == 0, \"Number of particles must be even\"\n",
    "\n",
    "    x_initial = get_random_state(num_particles)\n",
    "    running_total = 0\n",
    "    for i in range(num_steps):\n",
    "        clear_output(wait=True)\n",
    "        print(f\"Alpha: {alpha} -- Step: {i+1}/{num_steps}\")\n",
    "        x_trial = random_flip(x_initial.copy())\n",
    "        R = compute_R(x_trial, x_initial, alpha)\n",
    "        r = random.uniform(0,1)\n",
    "        if R > r:\n",
    "            x_initial = x_trial.copy()\n",
    "        running_total += calculate_local_energy(x_initial, alpha)\n",
    "    return running_total / num_steps"
   ]
  },
  {
   "cell_type": "markdown",
   "metadata": {},
   "source": [
    "## Scan The Solution Space to find the Optimal Alpha and the Minimum Energy\n"
   ]
  },
  {
   "cell_type": "code",
   "execution_count": 30,
   "metadata": {},
   "outputs": [],
   "source": [
    "# This function was derived analytically, and represents\n",
    "# what we should expect out of the energy curve\n",
    "\n",
    "def ground_truth_variational_energy(alpha):\n",
    "    \"\"\"\n",
    "    with respect to alpha\n",
    "    \"\"\"\n",
    "    numerator = -4*exp(-2*alpha) + -1*exp(-3*alpha)\n",
    "    denominator = 2*exp(-1*alpha) + exp(-3*alpha)\n",
    "    \n",
    "    return numerator/denominator"
   ]
  },
  {
   "cell_type": "code",
   "execution_count": 31,
   "metadata": {},
   "outputs": [],
   "source": [
    "def get_optimal_alpha(alphas, num_particles, num_steps=5000):\n",
    "    energies = list()\n",
    "    for i, alpha in enumerate(alphas):\n",
    "        energies.append(monte_carlo_estimation(alpha, num_steps, num_particles))\n",
    "    return alphas[np.argmin(energies)], np.argmin(energies), energies"
   ]
  },
  {
   "cell_type": "code",
   "execution_count": 32,
   "metadata": {},
   "outputs": [
    {
     "name": "stdout",
     "output_type": "stream",
     "text": [
      "[-5.0, -4.5, -4.0, -3.5, -3.0, -2.5, -2.0, -1.5, -1.0, -0.5, 0.0, 0.5, 1.0, 1.5, 2.0, 2.5, 3.0, 3.5, 4.0, 4.5]\n"
     ]
    }
   ],
   "source": [
    "alphas = [i*0.5 for i in range(-10,10)]; print(alphas)"
   ]
  },
  {
   "cell_type": "markdown",
   "metadata": {},
   "source": [
    "## Test for 4 Particle System"
   ]
  },
  {
   "cell_type": "code",
   "execution_count": 34,
   "metadata": {},
   "outputs": [
    {
     "name": "stdout",
     "output_type": "stream",
     "text": [
      "Alpha: 4.5 -- Step: 4641/5000\n"
     ]
    },
    {
     "name": "stderr",
     "output_type": "stream",
     "text": [
      "IOPub message rate exceeded.\n",
      "The notebook server will temporarily stop sending output\n",
      "to the client in order to avoid crashing it.\n",
      "To change this limit, set the config variable\n",
      "`--NotebookApp.iopub_msg_rate_limit`.\n",
      "\n",
      "Current values:\n",
      "NotebookApp.iopub_msg_rate_limit=1000.0 (msgs/sec)\n",
      "NotebookApp.rate_limit_window=3.0 (secs)\n",
      "\n"
     ]
    }
   ],
   "source": [
    "## alphas = [i*0.05 for i in range(20,40)]\n",
    "num_steps = 5000\n",
    "num_particles = 4\n",
    "alphas = [i*0.5 for i in range(-10,10)]\n",
    "xs = np.asarray([i*0.1 for i in range(-5, 5)])\n",
    "ys = np.asarray([ground_truth_variational_energy(x) for x in xs])\n",
    "\n",
    "optimal_alpha, index, energies = get_optimal_alpha(alphas, num_particles, num_steps=num_steps)\n",
    "\n",
    "plt.plot(xs, ys)\n",
    "plt.plot(alphas, energies)\n",
    "# plt.xlim(1,2)\n",
    "plt.ylim()\n",
    "plt.ylabel(\"Variational Energy\")\n",
    "plt.xlabel(\"Alpha\")\n",
    "plt.title(f\"Variational Energy at Various Alphas ({num_steps})\")\n",
    "plt.show()\n",
    "print(f\"Optimal Alpha found at {optimal_alpha}\")\n",
    "print(f\"Minimum Energy: {energies[index]}\")"
   ]
  },
  {
   "cell_type": "code",
   "execution_count": 35,
   "metadata": {},
   "outputs": [
    {
     "name": "stdout",
     "output_type": "stream",
     "text": [
      "Optimal Alpha found at -0.5\n",
      "Minimum Energy: -1.9777315191067935\n"
     ]
    }
   ],
   "source": [
    "print(f\"Optimal Alpha found at {optimal_alpha}\")\n",
    "print(f\"Minimum Energy: {energies[index]}\")"
   ]
  },
  {
   "cell_type": "markdown",
   "metadata": {},
   "source": [
    "## Run on 32 Particle System"
   ]
  },
  {
   "cell_type": "code",
   "execution_count": null,
   "metadata": {},
   "outputs": [
    {
     "name": "stdout",
     "output_type": "stream",
     "text": [
      "Alpha: -0.5 -- Step: 2785/5000\n"
     ]
    }
   ],
   "source": [
    "## alphas = [i*0.05 for i in range(20,40)]\n",
    "num_steps = 5000\n",
    "num_particles = 32\n",
    "alphas = [i*0.5 for i in range(-10,10)]\n",
    "xs = np.asarray([i*0.1 for i in range(-5, 5)])\n",
    "ys = np.asarray([ground_truth_variational_energy(x) for x in xs])\n",
    "\n",
    "optimal_alpha, index, energies = get_optimal_alpha(alphas, num_particles, num_steps=num_steps)\n",
    "\n",
    "plt.plot(xs, ys)\n",
    "plt.plot(alphas, energies)\n",
    "# plt.xlim(1,2)\n",
    "plt.ylim()\n",
    "plt.ylabel(\"Variational Energy\")\n",
    "plt.xlabel(\"Alpha\")\n",
    "plt.title(f\"Variational Energy at Various Alphas ({num_steps})\")\n",
    "plt.show()\n",
    "print(f\"Optimal Alpha found at {optimal_alpha}\")\n",
    "print(f\"Minimum Energy: {energies[index]}\")"
   ]
  },
  {
   "cell_type": "markdown",
   "metadata": {},
   "source": [
    "## Sorella's Derivative Estimation Function"
   ]
  },
  {
   "cell_type": "code",
   "execution_count": 18,
   "metadata": {},
   "outputs": [],
   "source": [
    "def get_variational_gradient(local_energy, delta_star,\n",
    "            ):\n",
    "    \"\"\"\n",
    "    This function gets the variational energy gradient,\n",
    "    where each element of the gradient corresponds to \n",
    "    the wave function derivative with respect to the\n",
    "    indexed variational parameter\n",
    "    Args:\n",
    "    -\n",
    "    \"\"\"\n",
    "    "
   ]
  },
  {
   "cell_type": "code",
   "execution_count": null,
   "metadata": {},
   "outputs": [],
   "source": [
    "def generate_all_states(num_particles):\n",
    "    \"\"\"\n",
    "    This function generates all the possible states of a system in which\n",
    "    the total number of spin up particles equals the total number of\n",
    "    spin down particles.\n",
    "    \"\"\"\n",
    "    \n",
    "    # this is a helper function that will be called recursively to generate\n",
    "    # all states\n",
    "    def generate_substates(head, remaining_1s, remaining_0s):\n",
    "        if len(head) == num_particles:\n",
    "            return [head]\n",
    "        if not remaining_1s:\n",
    "            return [np.append(head, np.zeros(num_particles - len(head)))]\n",
    "        if not remaining_0s:\n",
    "            return [np.append(head, np.ones(num_particles - len(head)))]\n",
    "        branch0 = np.append(head, [0])\n",
    "        branch1 = np.append(head, [1])\n",
    "        states0 = generate_substates(branch0, remaining_1s, remaining_0s - 1)\n",
    "        states1 = generate_substates(branch1, remaining_1s - 1, remaining_0s)\n",
    "        return states0 + states1\n",
    "    \n",
    "    head = np.asarray([])\n",
    "    return generate_substates(head, num_particles/2, num_particles/2)"
   ]
  },
  {
   "cell_type": "code",
   "execution_count": null,
   "metadata": {},
   "outputs": [],
   "source": [
    "x = np.asarray([10])"
   ]
  },
  {
   "cell_type": "code",
   "execution_count": null,
   "metadata": {},
   "outputs": [],
   "source": [
    "def calculate_expectation_OH(alpha, num_particles, all_states):\n",
    "    \n",
    "    "
   ]
  },
  {
   "cell_type": "code",
   "execution_count": null,
   "metadata": {},
   "outputs": [],
   "source": [
    "def calculate_expectation_O(alpha, num_particles, all_states):\n",
    "    \"\"\"\n",
    "    Ths function calculates the expectation value of <O> for an arbitrary numeber\n",
    "    of particles, where O is the operator Sorella introduces and resides in the\n",
    "    exponent of the variational wave functions projections.\n",
    "    \n",
    "    This function should only be called once, and saved in a variable to reduce\n",
    "    computation time.\n",
    "    \"\"\"\n",
    "    for state in all_states:\n",
    "        for i in len(state):\n",
    "            for j in len(state)\n",
    "    \n",
    "    return alpha * "
   ]
  },
  {
   "cell_type": "code",
   "execution_count": 31,
   "metadata": {},
   "outputs": [],
   "source": [
    "def find_optimal_alpha(lr = 0.03, num_steps =1000):\n",
    "    \"\"\"\n",
    "    Note: only finds local minimums\n",
    "    \n",
    "    Algorithm will continue an additional 10 iterations\n",
    "    after finding what it thinks is the optimal value\n",
    "    \"\"\"\n",
    "    \n",
    "    # cap the change in alpha\n",
    "    d_alpha_cap = 0.3\n",
    "    \n",
    "    # get inital condition\n",
    "    alphas = [] # list of all alphas that we test\n",
    "    energies = [] # list of all energies corresponding to those alphas\n",
    "    alpha = random.randint(-1000,1000)/100 # initial guess at alpha\n",
    "    \n",
    "    # pre loop conditions\n",
    "    cont = True\n",
    "    min_energy = 99999999999\n",
    "    i = 0\n",
    "    loop_count = 0\n",
    "    plt.axis([0, 10, 0, 1])\n",
    "    while(cont):\n",
    "        clear_output(wait=True)\n",
    "        # print(f\"Loop Number: {loop_count} \\nEnd Count: {i} \\nAlpha: {alpha} \\nMin Energy: {min_energy}\")\n",
    "        energy = monte_carlo_estimation(alpha, num_steps)\n",
    "        derivative = get_variational_energy_derivative(energy, alpha)\n",
    "        plt.plot(alphas, energies)\n",
    "        plt.show()\n",
    "        # update logs\n",
    "        alphas.append(alpha)\n",
    "        energies.append(energy)\n",
    "        \n",
    "        # if this energy is lowest, update optimal measurements,\n",
    "        # and assume you can do better (set end count, i, to zero)\n",
    "        if energy < min_energy:\n",
    "                min_energy = energy\n",
    "                opt_alpha = alpha\n",
    "                i = 0\n",
    "        # if not, inncrement the end count. If you don't get better\n",
    "        # after 100 tries, it's probably time to stop\n",
    "        else:\n",
    "            i += 1\n",
    "            if i == 400:\n",
    "                cont = False\n",
    "        # in case our derivative is close to zero\n",
    "        if abs(lr*energy/derivative) > d_alpha_cap:\n",
    "            derivative = lr*energy/d_alpha_cap\n",
    "        \n",
    "        try:\n",
    "            alpha = alpha + lr*energy/derivative\n",
    "        except ZeroDivisionError:\n",
    "            alpha = alpha + lr*energy/(derivative+2)\n",
    "            \n",
    "        loop_count += 1\n",
    "            \n",
    "    print(\"Optimal Alpha: %3.2f\" % opt_alpha)\n",
    "    print(\"Optimal Energy: %3.2f\" % min_energy)\n",
    "\n",
    "    return opt_alpha, min_energy, alphas, energies"
   ]
  },
  {
   "cell_type": "code",
   "execution_count": 33,
   "metadata": {},
   "outputs": [
    {
     "data": {
      "image/png": "[encoded data removed]",
      "text/plain": [
       "<Figure size 432x288 with 1 Axes>"
      ]
     },
     "metadata": {
      "needs_background": "light"
     },
     "output_type": "display_data"
    },
    {
     "name": "stdout",
     "output_type": "stream",
     "text": [
      "Optimal Alpha: -0.84\n",
      "Optimal Energy: -2.01\n"
     ]
    }
   ],
   "source": [
    "opt_alpha, min_energy, alphas, energies = find_optimal_alpha()"
   ]
  }
 ],
 "metadata": {
  "kernelspec": {
   "display_name": "Python 3",
   "language": "python",
   "name": "python3"
  },
  "language_info": {
   "codemirror_mode": {
    "name": "ipython",
    "version": 3
   },
   "file_extension": ".py",
   "mimetype": "text/x-python",
   "name": "python",
   "nbconvert_exporter": "python",
   "pygments_lexer": "ipython3",
   "version": "3.7.0"
  }
 },
 "nbformat": 4,
 "nbformat_minor": 2
}

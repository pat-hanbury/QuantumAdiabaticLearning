{
 "cells": [
  {
   "cell_type": "code",
   "execution_count": 1,
   "metadata": {},
   "outputs": [],
   "source": [
    "from matplotlib import pyplot as plt-4.72"
   ]
  },
  {
   "cell_type": "code",
   "execution_count": 6,
   "metadata": {},
   "outputs": [],
   "source": [
    "xs = [x/20 for x in range(20)]\n",
    "ys = [-3.22, -3.33, -3.43, -3.56, -3.69, -3.81, -3.94, -4.07, \n",
    "      -4.21, -4.34, -4.47, -4.60, -4.74, -4.85, -4.91, -4.91, \n",
    "      -4.72, -4.39, -3.71, -5.85]"
   ]
  },
  {
   "cell_type": "code",
   "execution_count": 8,
   "metadata": {},
   "outputs": [
    {
     "data": {
      "text/plain": [
       "Text(0.5, 1.0, '20,000 samples per monte carlo')"
      ]
     },
     "execution_count": 8,
     "metadata": {},
     "output_type": "execute_result"
    },
    {
     "data": {
      "image/png": "[encoded data removed]",
      "text/plain": [
       "<Figure size 432x288 with 1 Axes>"
      ]
     },
     "metadata": {
      "needs_background": "light"
     },
     "output_type": "display_data"
    }
   ],
   "source": [
    "plt.plot(xs, ys)\n",
    "plt.title(\"20,000 samples per monte carlo\")"
   ]
  },
  {
   "cell_type": "code",
   "execution_count": 32,
   "metadata": {},
   "outputs": [],
   "source": [
    "deltas = [0.95-(x/20) for x in range(20)]"
   ]
  },
  {
   "cell_type": "code",
   "execution_count": 33,
   "metadata": {},
   "outputs": [],
   "source": [
    "deltas2 = [0.975-(x/20) for x in range(6)]\n"
   ]
  },
  {
   "cell_type": "code",
   "execution_count": 34,
   "metadata": {},
   "outputs": [
    {
     "data": {
      "text/plain": [
       "[0.975, 0.9249999999999999, 0.875, 0.825, 0.7749999999999999, 0.725]"
      ]
     },
     "execution_count": 34,
     "metadata": {},
     "output_type": "execute_result"
    }
   ],
   "source": [
    "deltas2"
   ]
  },
  {
   "cell_type": "code",
   "execution_count": 35,
   "metadata": {},
   "outputs": [],
   "source": [
    "deltas = (deltas + deltas2)"
   ]
  },
  {
   "cell_type": "code",
   "execution_count": 36,
   "metadata": {},
   "outputs": [
    {
     "data": {
      "text/plain": [
       "[0.975,\n",
       " 0.95,\n",
       " 0.9249999999999999,\n",
       " 0.8999999999999999,\n",
       " 0.875,\n",
       " 0.85,\n",
       " 0.825,\n",
       " 0.7999999999999999,\n",
       " 0.7749999999999999,\n",
       " 0.75,\n",
       " 0.725,\n",
       " 0.7,\n",
       " 0.6499999999999999,\n",
       " 0.6,\n",
       " 0.5499999999999999,\n",
       " 0.49999999999999994,\n",
       " 0.44999999999999996,\n",
       " 0.3999999999999999,\n",
       " 0.35,\n",
       " 0.29999999999999993,\n",
       " 0.25,\n",
       " 0.19999999999999996,\n",
       " 0.1499999999999999,\n",
       " 0.09999999999999998,\n",
       " 0.04999999999999993,\n",
       " 0.0]"
      ]
     },
     "execution_count": 36,
     "metadata": {},
     "output_type": "execute_result"
    }
   ],
   "source": [
    "deltas.sort(reverse=True); deltas"
   ]
  },
  {
   "cell_type": "code",
   "execution_count": null,
   "metadata": {},
   "outputs": [],
   "source": []
  }
 ],
 "metadata": {
  "kernelspec": {
   "display_name": "Python 3",
   "language": "python",
   "name": "python3"
  },
  "language_info": {
   "codemirror_mode": {
    "name": "ipython",
    "version": 3
   },
   "file_extension": ".py",
   "mimetype": "text/x-python",
   "name": "python",
   "nbconvert_exporter": "python",
   "pygments_lexer": "ipython3",
   "version": "3.7.0"
  }
 },
 "nbformat": 4,
 "nbformat_minor": 2
}

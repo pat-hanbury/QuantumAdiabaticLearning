{
 "cells": [
  {
   "cell_type": "code",
   "execution_count": 7,
   "metadata": {},
   "outputs": [],
   "source": [
    "import numpy as np\n",
    "import matplotlib as mpl\n",
    "from pprint import pprint\n",
    "\n",
    "from matplotlib import pyplot as plt\n",
    "mpl.use(\"Agg\")\n",
    "import time\n",
    "\n",
    "from pprint import pprint\n",
    "\n",
    "from lib.qvmc.hamiltonian import Hamiltonian\n",
    "from lib.qvmc.state import State\n",
    "from lib.qvmc.optimizer import Optimizer\n",
    "from lib.qvmc.debug import Plotter\n",
    "from lib.qvmc.utils import get_initial_w\n",
    "\n",
    "import pickle\n",
    "\n",
    "from configs import cfg\n",
    "\n",
    "import os\n",
    "import datetime\n",
    "\n",
    "import random\n",
    "\n",
    "from pdb import set_trace"
   ]
  },
  {
   "cell_type": "markdown",
   "metadata": {},
   "source": [
    "## 16 Particle Simulation Using Monte Carlo"
   ]
  },
  {
   "cell_type": "code",
   "execution_count": 10,
   "metadata": {},
   "outputs": [],
   "source": [
    "with open('common_parameters.pickle', 'rb') as fb:\n",
    "    w_parameters = pickle.load(fb)\n",
    "\n",
    "initial_parameters = {\n",
    "                \"a\" : np.asarray([0 for i in range(cfg['num_particles'])]),\n",
    "                \"b\" : np.asarray([0 for i in range(cfg['num_particles'])]) ,\n",
    "                \"w\" : w_parameters\n",
    "                }\n",
    "        \n",
    "cfg['fixed_params'] =  {\"a\" : initial_parameters['a'],\n",
    "                         \"b\" : initial_parameters['b']}\n",
    "\n",
    "plotter = None\n",
    "delta=0.00\n",
    "num_steps = 10000\n",
    "\n",
    "H = Hamiltonian(16, delta=delta)\n",
    "\n",
    "opt = Optimizer(H , num_steps, cfg=cfg, plotter=plotter,\n",
    "                        parameters = initial_parameters, lr = 0.02, random_noise_scale=None,\n",
    "                        fixed_parameters = cfg['fixed_params'])"
   ]
  },
  {
   "cell_type": "code",
   "execution_count": 11,
   "metadata": {},
   "outputs": [
    {
     "name": "stdout",
     "output_type": "stream",
     "text": [
      "First Energy: (-5.967790998845737+0.0012396254187187349j)\n",
      "Derivative[12][6]: (-0.0024162709011840144+0.011859523517944948j)\n",
      "Second energy: (-5.991962435028827+0.0016216878534693801j)\n",
      "Numerical Derivative: (-0.24171436183090478+0.0038206243475064528j)\n"
     ]
    }
   ],
   "source": [
    "energy1, x, q = opt.monte_carlo_simulation()\n",
    "print(f\"First Energy: {energy1:.4f}\")\n",
    "f = {}\n",
    "for key in opt.parameters.keys():\n",
    "    f[key] = 2*(q[key] - x[key]*energy1) # derivatives vector\n",
    "x = random.randint(0,15)\n",
    "y = random.randint(0,15)\n",
    "print(f\"Derivative[{x}][{y}]: {f['w'][x][y]:.4f}\")\n",
    "      \n",
    "opt.parameters['w'][x][y] = opt.parameters['w'][x][y] + 0.1\n",
    "energy2, _, _ = opt.monte_carlo_simulation()\n",
    "print(f\"Second energy: {energy2:.4f}\")\n",
    "print(f\"Numerical Derivative: {(energy2-energy1)/0.1:.4f}\")"
   ]
  },
  {
   "cell_type": "markdown",
   "metadata": {},
   "source": [
    "## 16 Particle Simulation Using Monte Enumeration"
   ]
  },
  {
   "cell_type": "code",
   "execution_count": 12,
   "metadata": {},
   "outputs": [],
   "source": [
    "from lib.enumeration_qvmc.hamiltonian import Hamiltonian\n",
    "from lib.enumeration_qvmc.state import State\n",
    "from lib.enumeration_qvmc.optimizer import Optimizer\n",
    "from lib.enumeration_qvmc.debug import Plotter\n",
    "from lib.enumeration_qvmc.utils import get_initial_w"
   ]
  },
  {
   "cell_type": "code",
   "execution_count": 25,
   "metadata": {},
   "outputs": [],
   "source": [
    "with open('common_parameters.pickle', 'rb') as fb:\n",
    "    w_parameters = pickle.load(fb)\n",
    "\n",
    "initial_parameters = {\n",
    "                \"a\" : np.asarray([0 for i in range(cfg['num_particles'])]),\n",
    "                \"b\" : np.asarray([0 for i in range(cfg['num_particles'])]) ,\n",
    "                \"w\" : w_parameters\n",
    "                }\n",
    "        \n",
    "cfg['fixed_params'] =  {\"a\" : initial_parameters['a'],\n",
    "                         \"b\" : initial_parameters['b']}\n",
    "\n",
    "plotter = None\n",
    "delta=0.00\n",
    "#  num_steps = 10000\n",
    "\n",
    "H = Hamiltonian(16, delta=delta)\n",
    "\n",
    "opt = Optimizer(H , cfg=cfg, plotter=plotter,\n",
    "                        parameters = initial_parameters, lr = 0.02, random_noise_scale=None,\n",
    "                        fixed_parameters = cfg['fixed_params'])"
   ]
  },
  {
   "cell_type": "code",
   "execution_count": 26,
   "metadata": {},
   "outputs": [
    {
     "name": "stdout",
     "output_type": "stream",
     "text": [
      "First Energy: (-5.992034655890999+8.106170083000194e-18j)\n",
      "Derivative[12][6]: (0.003128749213722082-0.004774888176606817j)\n",
      "Second energy: (-5.991988492802274-1.276524095653105e-17j)\n",
      "Numerical Derivative: (0.004616308872495978-2.0871411039531244e-15j)\n"
     ]
    }
   ],
   "source": [
    "energy1, delta, q = opt.monte_carlo_simulation()\n",
    "print(f\"First Energy: {energy1:.4f}\")\n",
    "f = {}\n",
    "for key in opt.parameters.keys():\n",
    "    f[key] = 2*(q[key] - delta[key]*energy1) # derivatives vector\n",
    "print(f\"Derivative[{x}][{y}]: {f['w'][x][y]:.4f}\")\n",
    "      \n",
    "opt.parameters['w'][x][y] = opt.parameters['w'][x][y] + 0.01\n",
    "energy2, _, _ = opt.monte_carlo_simulation()\n",
    "print(f\"Second energy: {energy2:.4f}\")\n",
    "print(f\"Numerical Derivative: {(energy2-energy1)/0.01:.4f}\")"
   ]
  }
 ],
 "metadata": {
  "kernelspec": {
   "display_name": "Python 3",
   "language": "python",
   "name": "python3"
  },
  "language_info": {
   "codemirror_mode": {
    "name": "ipython",
    "version": 3
   },
   "file_extension": ".py",
   "mimetype": "text/x-python",
   "name": "python",
   "nbconvert_exporter": "python",
   "pygments_lexer": "ipython3",
   "version": "3.7.1"
  }
 },
 "nbformat": 4,
 "nbformat_minor": 2
}

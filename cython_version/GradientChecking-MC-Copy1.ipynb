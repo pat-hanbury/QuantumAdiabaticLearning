{
 "cells": [
  {
   "cell_type": "code",
   "execution_count": 12,
   "metadata": {},
   "outputs": [],
   "source": [
    "import numpy as np\n",
    "import matplotlib as mpl\n",
    "from pprint import pprint\n",
    "\n",
    "from matplotlib import pyplot as plt\n",
    "mpl.use(\"Agg\")\n",
    "import time\n",
    "\n",
    "from pprint import pprint\n",
    "\n",
    "from lib.qvmc.hamiltonian import Hamiltonian\n",
    "from lib.qvmc.state import State\n",
    "from lib.qvmc.optimizer import Optimizer\n",
    "from lib.qvmc.debug import Plotter\n",
    "from lib.qvmc.utils import get_initial_w\n",
    "\n",
    "from configs import cfg\n",
    "\n",
    "import os\n",
    "import datetime\n",
    "\n",
    "import random\n",
    "\n",
    "from pdb import set_trace"
   ]
  },
  {
   "cell_type": "code",
   "execution_count": 13,
   "metadata": {},
   "outputs": [],
   "source": [
    "# 16 Particle Simulation Running..."
   ]
  },
  {
   "cell_type": "code",
   "execution_count": 14,
   "metadata": {},
   "outputs": [],
   "source": [
    "initial_parameters = {\n",
    "                \"a\" : np.asarray([0 for i in range(cfg['num_particles'])]),\n",
    "                \"b\" : np.asarray([0 for i in range(cfg['num_particles'])]) ,\n",
    "                \"w\" : get_initial_w(16)\n",
    "                }\n",
    "        \n",
    "cfg['fixed_params'] =  {\"a\" : initial_parameters['a'],\n",
    "                         \"b\" : initial_parameters['b']}\n",
    "\n",
    "plotter = None\n",
    "delta=0.00\n",
    "num_steps = 150000\n",
    "\n",
    "H = Hamiltonian(16, delta=delta)\n",
    "\n",
    "opt = Optimizer(H , num_steps, cfg=cfg, plotter=plotter,\n",
    "                        parameters = initial_parameters, lr = 0.02, random_noise_scale=0.02,\n",
    "                        fixed_parameters = cfg['fixed_params'])\n",
    "\n"
   ]
  },
  {
   "cell_type": "code",
   "execution_count": 15,
   "metadata": {},
   "outputs": [
    {
     "data": {
      "text/plain": [
       "(-5.971288534352629+0.002345316031822209j)"
      ]
     },
     "execution_count": 15,
     "metadata": {},
     "output_type": "execute_result"
    }
   ],
   "source": [
    "energy1, x, q = opt.monte_carlo_simulation()\n",
    "energy1"
   ]
  },
  {
   "cell_type": "code",
   "execution_count": 16,
   "metadata": {},
   "outputs": [],
   "source": [
    "first_params = dict()\n",
    "for key, value in opt.parameters.items():\n",
    "    first_params[key] = value.copy()"
   ]
  },
  {
   "cell_type": "code",
   "execution_count": 17,
   "metadata": {},
   "outputs": [],
   "source": [
    "f = {}\n",
    "for key in opt.parameters.keys():\n",
    "    f[key] = (q[key] - x[key]*energy1) # derivatives vector"
   ]
  },
  {
   "cell_type": "code",
   "execution_count": 18,
   "metadata": {},
   "outputs": [
    {
     "data": {
      "text/plain": [
       "(0.005085127940859913-0.02180649583859197j)"
      ]
     },
     "execution_count": 18,
     "metadata": {},
     "output_type": "execute_result"
    }
   ],
   "source": [
    "x = random.randint(0,15)\n",
    "y = random.randint(0,15)\n",
    "x =2 \n",
    "y = 3\n",
    "2*f['w'][x][y]"
   ]
  },
  {
   "cell_type": "code",
   "execution_count": 19,
   "metadata": {},
   "outputs": [],
   "source": [
    "opt.parameters['w'][x][y] = opt.parameters['w'][x][y] + 0.1"
   ]
  },
  {
   "cell_type": "code",
   "execution_count": 20,
   "metadata": {},
   "outputs": [
    {
     "data": {
      "text/plain": [
       "(-5.976361422180595+0.0039001373365434005j)"
      ]
     },
     "execution_count": 20,
     "metadata": {},
     "output_type": "execute_result"
    }
   ],
   "source": [
    "energy2, _, _ = opt.monte_carlo_simulation()\n",
    "energy2"
   ]
  },
  {
   "cell_type": "code",
   "execution_count": 21,
   "metadata": {},
   "outputs": [],
   "source": [
    "derivative = (energy2-energy1)/0.1"
   ]
  },
  {
   "cell_type": "code",
   "execution_count": 26,
   "metadata": {},
   "outputs": [
    {
     "name": "stdout",
     "output_type": "stream",
     "text": [
      "(-0.050728878279659995+0.015548213047211915j)\n"
     ]
    }
   ],
   "source": [
    "print(derivative)"
   ]
  },
  {
   "cell_type": "code",
   "execution_count": 25,
   "metadata": {},
   "outputs": [
    {
     "data": {
      "text/plain": [
       "2"
      ]
     },
     "execution_count": 25,
     "metadata": {},
     "output_type": "execute_result"
    }
   ],
   "source": [
    "x"
   ]
  },
  {
   "cell_type": "code",
   "execution_count": 24,
   "metadata": {},
   "outputs": [
    {
     "data": {
      "text/plain": [
       "((-5.971288534352629+0.002345316031822209j),\n",
       " (-5.976361422180595+0.0039001373365434005j))"
      ]
     },
     "execution_count": 24,
     "metadata": {},
     "output_type": "execute_result"
    }
   ],
   "source": [
    "energy1, energy2"
   ]
  },
  {
   "cell_type": "code",
   "execution_count": null,
   "metadata": {},
   "outputs": [],
   "source": []
  },
  {
   "cell_type": "code",
   "execution_count": null,
   "metadata": {},
   "outputs": [],
   "source": []
  }
 ],
 "metadata": {
  "kernelspec": {
   "display_name": "Python 3",
   "language": "python",
   "name": "python3"
  },
  "language_info": {
   "codemirror_mode": {
    "name": "ipython",
    "version": 3
   },
   "file_extension": ".py",
   "mimetype": "text/x-python",
   "name": "python",
   "nbconvert_exporter": "python",
   "pygments_lexer": "ipython3",
   "version": "3.7.1"
  }
 },
 "nbformat": 4,
 "nbformat_minor": 2
}

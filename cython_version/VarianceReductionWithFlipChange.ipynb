{
 "cells": [
  {
   "cell_type": "markdown",
   "metadata": {},
   "source": [
    "# Tests what changing the Way we Flip Spins Does"
   ]
  },
  {
   "cell_type": "code",
   "execution_count": 7,
   "metadata": {},
   "outputs": [],
   "source": [
    "import numpy as np\n",
    "import matplotlib as mpl\n",
    "from pprint import pprint\n",
    "\n",
    "from matplotlib import pyplot as plt\n",
    "# mpl.use(\"Agg\")\n",
    "import time\n",
    "\n",
    "from pprint import pprint\n",
    "\n",
    "from lib.qvmc.hamiltonian import Hamiltonian\n",
    "from lib.qvmc.state import State\n",
    "from lib.qvmc.optimizer import Optimizer\n",
    "from lib.qvmc.debug import Plotter\n",
    "from lib.qvmc.utils import get_initial_w\n",
    "\n",
    "import pickle\n",
    "\n",
    "from configs import cfg\n",
    "\n",
    "import os\n",
    "import datetime\n",
    "\n",
    "import random\n",
    "\n",
    "from pdb import set_trace"
   ]
  },
  {
   "cell_type": "code",
   "execution_count": 8,
   "metadata": {},
   "outputs": [],
   "source": [
    "# 16 Particle Simulation Running..."
   ]
  },
  {
   "cell_type": "code",
   "execution_count": 11,
   "metadata": {},
   "outputs": [],
   "source": [
    "initial_parameters = {\n",
    "                \"a\" : np.asarray([0 for i in range(cfg['num_particles'])]),\n",
    "                \"b\" : np.asarray([0 for i in range(cfg['num_particles'])]) ,\n",
    "                \"w\" : get_initial_w(16)\n",
    "                }\n",
    "        \n",
    "cfg['fixed_params'] =  {\"a\" : initial_parameters['a'],\n",
    "                         \"b\" : initial_parameters['b']}\n",
    "\n",
    "plotter = None\n",
    "delta=0.00\n",
    "num_steps = 2000\n",
    "\n",
    "with open(\"common_parameters.pickle\", 'rb') as fb:\n",
    "    parameters = pickle.load(fb)\n",
    "    \n",
    "initial_parameters = {\n",
    "                \"a\" : np.asarray([0 for i in range(cfg['num_particles'])]),\n",
    "                \"b\" : np.asarray([0 for i in range(cfg['num_particles'])]) ,\n",
    "                \"w\" : parameters\n",
    "                }\n",
    "\n",
    "H = Hamiltonian(16, delta=delta)\n",
    "\n",
    "opt = Optimizer(H , num_steps, cfg=cfg, plotter=plotter,\n",
    "                        parameters = initial_parameters, lr = 0.02, random_noise_scale=None,\n",
    "                        fixed_parameters = cfg['fixed_params'])\n"
   ]
  },
  {
   "cell_type": "code",
   "execution_count": null,
   "metadata": {},
   "outputs": [
    {
     "data": {
      "image/png": "[encoded data removed]",
      "text/plain": [
       "<Figure size 432x288 with 1 Axes>"
      ]
     },
     "metadata": {
      "needs_background": "light"
     },
     "output_type": "display_data"
    }
   ],
   "source": [
    "energies = []\n",
    "for i in range(1):\n",
    "    energy1, x, q = opt.monte_carlo_simulation()\n",
    "    print(energy1)\n",
    "    energies.append(energy1)\n",
    "energies = np.asarray(energies)\n",
    "print(\"Standard deviation of energies\")\n",
    "np.std(energies)"
   ]
  },
  {
   "cell_type": "markdown",
   "metadata": {},
   "source": [
    "# Exact Energy"
   ]
  },
  {
   "cell_type": "code",
   "execution_count": 8,
   "metadata": {},
   "outputs": [],
   "source": [
    "from lib.enumeration_qvmc.hamiltonian import Hamiltonian\n",
    "from lib.enumeration_qvmc.state import State\n",
    "from lib.enumeration_qvmc.optimizer import Optimizer\n",
    "from lib.enumeration_qvmc.debug import Plotter\n",
    "from lib.enumeration_qvmc.utils import get_initial_w"
   ]
  },
  {
   "cell_type": "code",
   "execution_count": 9,
   "metadata": {},
   "outputs": [],
   "source": [
    "initial_parameters = opt.parameters\n",
    "        \n",
    "cfg['fixed_params'] =  {\"a\" : initial_parameters['a'],\n",
    "                         \"b\" : initial_parameters['b']}\n",
    "\n",
    "plotter = None\n",
    "delta=0.00\n",
    "num_steps = 10000\n",
    "\n",
    "H = Hamiltonian(16, delta=delta)\n",
    "\n",
    "opt = Optimizer(H, cfg=cfg, plotter=plotter,\n",
    "                        parameters = initial_parameters, lr = 0.02, random_noise_scale=None,\n",
    "                        fixed_parameters = cfg['fixed_params'])"
   ]
  },
  {
   "cell_type": "code",
   "execution_count": 1,
   "metadata": {},
   "outputs": [
    {
     "ename": "NameError",
     "evalue": "name 'opt' is not defined",
     "output_type": "error",
     "traceback": [
      "\u001b[0;31m---------------------------------------------------------------------------\u001b[0m",
      "\u001b[0;31mNameError\u001b[0m                                 Traceback (most recent call last)",
      "\u001b[0;32m<ipython-input-1-ab9d177f9f2c>\u001b[0m in \u001b[0;36m<module>\u001b[0;34m\u001b[0m\n\u001b[0;32m----> 1\u001b[0;31m \u001b[0menergy\u001b[0m\u001b[0;34m,\u001b[0m \u001b[0m_\u001b[0m\u001b[0;34m,\u001b[0m\u001b[0m_\u001b[0m \u001b[0;34m=\u001b[0m \u001b[0mopt\u001b[0m\u001b[0;34m.\u001b[0m\u001b[0mmonte_carlo_simulation\u001b[0m\u001b[0;34m(\u001b[0m\u001b[0;34m)\u001b[0m\u001b[0;34m\u001b[0m\u001b[0;34m\u001b[0m\u001b[0m\n\u001b[0m\u001b[1;32m      2\u001b[0m \u001b[0menergy\u001b[0m\u001b[0;34m\u001b[0m\u001b[0;34m\u001b[0m\u001b[0m\n",
      "\u001b[0;31mNameError\u001b[0m: name 'opt' is not defined"
     ]
    }
   ],
   "source": [
    "energy, _,_ = opt.monte_carlo_simulation()\n",
    "energy"
   ]
  },
  {
   "cell_type": "code",
   "execution_count": null,
   "metadata": {},
   "outputs": [],
   "source": []
  }
 ],
 "metadata": {
  "kernelspec": {
   "display_name": "Python 3",
   "language": "python",
   "name": "python3"
  },
  "language_info": {
   "codemirror_mode": {
    "name": "ipython",
    "version": 3
   },
   "file_extension": ".py",
   "mimetype": "text/x-python",
   "name": "python",
   "nbconvert_exporter": "python",
   "pygments_lexer": "ipython3",
   "version": "3.7.1"
  }
 },
 "nbformat": 4,
 "nbformat_minor": 2
}

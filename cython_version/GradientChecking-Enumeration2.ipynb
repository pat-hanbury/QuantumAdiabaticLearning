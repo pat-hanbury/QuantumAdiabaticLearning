{
 "cells": [
  {
   "cell_type": "code",
   "execution_count": 1,
   "metadata": {},
   "outputs": [],
   "source": [
    "import numpy as np\n",
    "import matplotlib as mpl\n",
    "from pprint import pprint\n",
    "\n",
    "from matplotlib import pyplot as plt\n",
    "mpl.use(\"Agg\")\n",
    "import time\n",
    "\n",
    "from pprint import pprint\n",
    "\n",
    "from lib.enumeration_qvmc.hamiltonian import Hamiltonian\n",
    "from lib.enumeration_qvmc.state import State\n",
    "from lib.enumeration_qvmc.optimizer import Optimizer\n",
    "from lib.enumeration_qvmc.debug import Plotter\n",
    "from lib.enumeration_qvmc.utils import get_initial_w\n",
    "\n",
    "from configs import cfg\n",
    "\n",
    "import os\n",
    "import datetime\n",
    "\n",
    "import random\n",
    "\n",
    "from pdb import set_trace"
   ]
  },
  {
   "cell_type": "code",
   "execution_count": 2,
   "metadata": {},
   "outputs": [],
   "source": [
    "# 16 Particle Simulation Running..."
   ]
  },
  {
   "cell_type": "code",
   "execution_count": 3,
   "metadata": {},
   "outputs": [],
   "source": [
    "initial_parameters = {\n",
    "                \"a\" : np.asarray([0 for i in range(cfg['num_particles'])]),\n",
    "                \"b\" : np.asarray([0 for i in range(cfg['num_particles'])]) ,\n",
    "                \"w\" : get_initial_w(16)\n",
    "                }\n",
    "        \n",
    "cfg['fixed_params'] =  {\"a\" : initial_parameters['a'],\n",
    "                         \"b\" : initial_parameters['b']}\n",
    "\n",
    "plotter = None\n",
    "delta=0.00\n",
    "num_steps = 10000\n",
    "\n",
    "H = Hamiltonian(16, delta=delta)\n",
    "\n",
    "opt = Optimizer(H , cfg=cfg, plotter=plotter,\n",
    "                        parameters = initial_parameters, lr = 0.02, random_noise_scale=0.02,\n",
    "                        fixed_parameters = cfg['fixed_params'])\n",
    "\n"
   ]
  },
  {
   "cell_type": "code",
   "execution_count": 4,
   "metadata": {},
   "outputs": [
    {
     "data": {
      "text/plain": [
       "(-5.968175847358678-3.51656375611266e-17j)"
      ]
     },
     "execution_count": 4,
     "metadata": {},
     "output_type": "execute_result"
    }
   ],
   "source": [
    "energy1, x, q = opt.monte_carlo_simulation()\n",
    "energy1"
   ]
  },
  {
   "cell_type": "code",
   "execution_count": 5,
   "metadata": {},
   "outputs": [],
   "source": [
    "first_params = dict()\n",
    "for key, value in opt.parameters.items():\n",
    "    first_params[key] = value.copy()"
   ]
  },
  {
   "cell_type": "code",
   "execution_count": 6,
   "metadata": {},
   "outputs": [],
   "source": [
    "f = {}\n",
    "for key in opt.parameters.keys():\n",
    "    f[key] = (q[key] - x[key]*energy1) # derivatives vector"
   ]
  },
  {
   "cell_type": "code",
   "execution_count": 7,
   "metadata": {},
   "outputs": [
    {
     "data": {
      "text/plain": [
       "(-0.025760129490407763-0.0010748985183367255j)"
      ]
     },
     "execution_count": 7,
     "metadata": {},
     "output_type": "execute_result"
    }
   ],
   "source": [
    "x = random.randint(0,15)\n",
    "y = random.randint(0,15)\n",
    "x = 2\n",
    "y = 3\n",
    "2*f['w'][x][y]"
   ]
  },
  {
   "cell_type": "code",
   "execution_count": 8,
   "metadata": {},
   "outputs": [],
   "source": [
    "opt.parameters['w'][x][y] = opt.parameters['w'][x][y] + 0.1"
   ]
  },
  {
   "cell_type": "code",
   "execution_count": 9,
   "metadata": {},
   "outputs": [
    {
     "data": {
      "text/plain": [
       "(-5.968300530409728+8.174300598523567e-19j)"
      ]
     },
     "execution_count": 9,
     "metadata": {},
     "output_type": "execute_result"
    }
   ],
   "source": [
    "energy2, _, _ = opt.monte_carlo_simulation()\n",
    "energy2"
   ]
  },
  {
   "cell_type": "code",
   "execution_count": 10,
   "metadata": {},
   "outputs": [],
   "source": [
    "derivative = (energy2-energy1)/0.1"
   ]
  },
  {
   "cell_type": "code",
   "execution_count": 11,
   "metadata": {},
   "outputs": [
    {
     "name": "stdout",
     "output_type": "stream",
     "text": [
      "-0.024936610209991272\n"
     ]
    }
   ],
   "source": [
    "print(derivative.real)"
   ]
  },
  {
   "cell_type": "code",
   "execution_count": 12,
   "metadata": {},
   "outputs": [
    {
     "name": "stdout",
     "output_type": "stream",
     "text": [
      "2 3\n"
     ]
    }
   ],
   "source": [
    "print(x, y)"
   ]
  },
  {
   "cell_type": "code",
   "execution_count": 13,
   "metadata": {},
   "outputs": [
    {
     "data": {
      "text/plain": [
       "((-5.968175847358678-3.51656375611266e-17j),\n",
       " (-5.968300530409728+8.174300598523567e-19j))"
      ]
     },
     "execution_count": 13,
     "metadata": {},
     "output_type": "execute_result"
    }
   ],
   "source": [
    "energy1, energy2"
   ]
  },
  {
   "cell_type": "code",
   "execution_count": null,
   "metadata": {},
   "outputs": [],
   "source": []
  }
 ],
 "metadata": {
  "kernelspec": {
   "display_name": "Python 3",
   "language": "python",
   "name": "python3"
  },
  "language_info": {
   "codemirror_mode": {
    "name": "ipython",
    "version": 3
   },
   "file_extension": ".py",
   "mimetype": "text/x-python",
   "name": "python",
   "nbconvert_exporter": "python",
   "pygments_lexer": "ipython3",
   "version": "3.7.1"
  }
 },
 "nbformat": 4,
 "nbformat_minor": 2
}

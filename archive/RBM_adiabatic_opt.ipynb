{
 "cells": [
  {
   "cell_type": "markdown",
   "metadata": {},
   "source": [
    "# Monte Carlo with Adiabatic Optimization Method"
   ]
  },
  {
   "cell_type": "markdown",
   "metadata": {},
   "source": [
    "This code uses the new optimization method which incrementall adjusts the solution landscape."
   ]
  },
  {
   "cell_type": "code",
   "execution_count": 2,
   "metadata": {},
   "outputs": [],
   "source": [
    "import numpy as np\n",
    "import random\n",
    "import math\n",
    "from matplotlib import pyplot as plt\n",
    "from IPython.display import clear_output\n",
    "from math import exp\n",
    "import time\n",
    "\n",
    "from pdb import set_trace"
   ]
  },
  {
   "cell_type": "code",
   "execution_count": null,
   "metadata": {},
   "outputs": [],
   "source": []
  },
  {
   "cell_type": "markdown",
   "metadata": {},
   "source": [
    "## The Hamiltonian "
   ]
  },
  {
   "cell_type": "markdown",
   "metadata": {},
   "source": [
    "We'll use the adiabatic Hamiltonian (We might need the positive)\n",
    "![alt text](images/adiabatic_hamiltonian2.png \"Adiabatic Hamiltonian\")"
   ]
  },
  {
   "cell_type": "code",
   "execution_count": 3,
   "metadata": {},
   "outputs": [],
   "source": [
    "class Hamiltonian:\n",
    "    def __init__(self, num_particles, delta = 0.0):\n",
    "        self.num_particles = num_particles\n",
    "        self.delta = delta\n",
    "        \n",
    "        self.debug = False\n",
    "    \n",
    "    def calculate_local_energy(self, state):\n",
    "        \"\"\"\n",
    "        This function calculates the local energy of a state\n",
    "        \"\"\"\n",
    "        config = state.configuration\n",
    "        # print(f\"State for calc local energy: {state}\")\n",
    "        # contribution from Z direction spin terms\n",
    "        energy = 0\n",
    "        state_proj = state.get_variational_projection()\n",
    "            \n",
    "        for i in range(self.num_particles):\n",
    "            energy += (1-self.delta - self.delta*pow(-1, i))*(state_proj*config[i] * config[(i+1) % self.num_particles])/4\n",
    "        diagonal_energies = energy\n",
    "\n",
    "        # contributions from off diagonal terms\n",
    "        non_diagonal_energies = 0\n",
    "        off_diag_states = state.get_off_diagonal_configurations()\n",
    "        for state in off_diag_states:\n",
    "            non_diagonal_energies += (1-self.delta-self.delta*pow(-1, i))*(-0.5)*state.get_variational_projection()\n",
    "        energy += non_diagonal_energies\n",
    "\n",
    "        if self.debug:\n",
    "            print(f\"Non-diag config: {off_diag_config_states}\")\n",
    "            print(f\"Diag Energy: {diagonal_energies}\")\n",
    "            print(f\"Non Diag energies: {non_diagonal_energies}\")\n",
    "\n",
    "\n",
    "        return energy / state_proj"
   ]
  },
  {
   "cell_type": "markdown",
   "metadata": {},
   "source": [
    "## The State"
   ]
  },
  {
   "cell_type": "markdown",
   "metadata": {},
   "source": [
    "We'll use the Jastrow Wave Function with Two Biases. Total of 2N + 1 variational Parameters\n",
    "\n",
    "[Insert Pic]"
   ]
  },
  {
   "cell_type": "markdown",
   "metadata": {},
   "source": [
    "variational parameters will be organized like this:\n",
    "\n",
    "[alpha 1 even, alpha 2 even, alpha3 even...., alpha1 odd, alpha2 odd, alpha3 odd......, beta]"
   ]
  },
  {
   "cell_type": "code",
   "execution_count": 4,
   "metadata": {},
   "outputs": [],
   "source": [
    "class State:\n",
    "    def __init__(self, num_particles, variational_parameters, configuration = None):\n",
    "        \n",
    "        self.num_particles = num_particles\n",
    "        self.parameters = variational_parameters # np array of variational parameters\n",
    "        \n",
    "        # inialize these to None. Only calulate if need be\n",
    "        self.off_diagonal_configurations = None\n",
    "        self.coefficient = None\n",
    "        self.delta_x = None\n",
    "        self.Q_of_x = None\n",
    "        \n",
    "        if not configuration:\n",
    "            self.randomize_state()\n",
    "        else:\n",
    "            self.configuration = configuration\n",
    "        \n",
    "    def randomize_state(self):\n",
    "        state = []\n",
    "        positive_positions = random.sample(range(0, num_particles - 1), int(num_particles/2))\n",
    "        for i in range(num_particles):\n",
    "            if i in positive_positions:\n",
    "                state.append(1)\n",
    "            else:\n",
    "                state.append(-1)\n",
    "        self.configuration = state\n",
    "    \n",
    "    def generate_coefficient(self):\n",
    "        \"\"\"\n",
    "        This function generates the variational \n",
    "        projection for this particular state.\n",
    "        \"\"\"\n",
    "        N = self.num_particles\n",
    "        \n",
    "        config = self.configuration\n",
    "        try:\n",
    "            even_contribution = 0\n",
    "            odd_contribution = 0\n",
    "            \n",
    "            # determine even parameter contributions\n",
    "            for idx, param in enumerate(self.parameters[:int(N/2) - 1]): ## all the even parameters\n",
    "                r = idx+1 # 1, 2, 3, .... N/2\n",
    "                for i in range(0, self.num_particles,2):\n",
    "                    even_contribution += 0.25*param*config[i]*config[(i+r)%self.num_particles]\n",
    "            \n",
    "            # determine even parameter contributions\n",
    "            for idx, param in enumerate(self.parameters[int(N/2):-1]): ## all the even parameters\n",
    "                r = idx % int(N/2) + 1 # 1, 2, 3, .... N/2\n",
    "                for i in range(0, self.num_particles,2):\n",
    "                    even_contribution += 0.25*param*config[i]*config[(i+r)%self.num_particles]\n",
    "        \n",
    "            self.coefficient = exp(even_contribution + odd_contribution - self.parameters[-1])\n",
    "        \n",
    "        \n",
    "        except OverflowError:\n",
    "            print(f\"Error: Overflow. State = {config}   alpha = {self.parameters}\")\n",
    "            \n",
    "    def generate_off_diagonal_configurations(self):\n",
    "        \"\"\"\n",
    "        This function generates a list of configurations that could\n",
    "        be flipped into the inputted by state by the application of\n",
    "        Raising or lowering operators (Check the hamiltonian equation)\n",
    "\n",
    "        returns a list of configurations\n",
    "\n",
    "        ***NOTE: This solution is computationally intractable and might not\n",
    "        be the most optimal one\n",
    "        \n",
    "        \"\"\"\n",
    "        config_copy = self.configuration.copy()\n",
    "        config = self.configuration\n",
    "\n",
    "        off_diagonal_configurations = list()\n",
    "        for i in range(len(config)):\n",
    "            if i == self.num_particles - 1:\n",
    "                if config[i] != config[0]:\n",
    "                    config_copy[i] *= -1\n",
    "                    config_copy[0] *= -1\n",
    "                    off_diagonal_configurations.append(State(self.num_particles, \n",
    "                                self.parameters, configuration = config_copy))\n",
    "                del config_copy # I think numpy does this automatically but just in case\n",
    "                self.off_diagonal_configurations = off_diagonal_configurations\n",
    "                return\n",
    "            if config[i] != config[i+1]:\n",
    "                config_copy[i] *= -1\n",
    "                config_copy[i+1] *= -1\n",
    "                off_diagonal_configurations.append(State(self.num_particles, \n",
    "                                self.parameters, configuration = config_copy))\n",
    "                config_copy = config.copy()\n",
    "                \n",
    "    def get_off_diagonal_configurations(self):\n",
    "        if not self.off_diagonal_configurations:\n",
    "            self.generate_off_diagonal_configurations()\n",
    "        return self.off_diagonal_configurations\n",
    "    \n",
    "    def get_variational_projection(self):\n",
    "        if not self.coefficient:\n",
    "            self.generate_coefficient()\n",
    "        return self.coefficient\n",
    "    \n",
    "    def clear_state(self):\n",
    "        self.off_diagonal_configurations = None\n",
    "        self.coefficient = None\n",
    "        self.delta_x = None\n",
    "        self.Q_of_x = None\n",
    "    \n",
    "    def update_state(self):\n",
    "        \n",
    "        def random_flip(config):\n",
    "            \"\"\"\n",
    "            Input is a state configuration -- (numpy array)\n",
    "            \n",
    "            Randomly flips two bits of a state such\n",
    "            that there are still two up and two down\n",
    "            \"\"\"\n",
    "            choices = random.sample(list(range(0,self.num_particles)), num_particles)\n",
    "            flip1_index = choices.pop()\n",
    "            flip1_value = config[flip1_index]\n",
    "            config[flip1_index] *= -1\n",
    "            cont = True\n",
    "            while(cont):\n",
    "                flip2_index = choices.pop()\n",
    "                if config[flip2_index] != flip1_value:\n",
    "                    config[flip2_index] *= -1\n",
    "                    cont = False\n",
    "            return State(self.num_particles, self.parameters, configuration = config)\n",
    "        \n",
    "        def compute_R(trial_state):\n",
    "            \"\"\"\n",
    "            Function compute \"R\", which is the ratio between the weight functions\n",
    "            of the initial state and the trial state.\n",
    "            \"\"\"\n",
    "            numerator = trial_state.get_variational_projection()**2\n",
    "            denominator = self.get_variational_projection() **2\n",
    "            if denominator < numerator:\n",
    "                return 2.0\n",
    "            return numerator / denominator\n",
    "        \n",
    "        trial_state = random_flip(self.configuration.copy())\n",
    "        R = compute_R(trial_state)\n",
    "        r = random.uniform(0,1)\n",
    "        if R > r:\n",
    "            self.clear_state()\n",
    "            self.configuration = trial_state.configuration\n",
    "            self.coefficient = trial_state.coefficient\n",
    "            \n",
    "    def calculate_delta_x(self):\n",
    "        \"\"\"\n",
    "        This function gives the delta vector for a particular\n",
    "        state. The delta vector is a vector with the derivative\n",
    "        of the wave function with respect to the particular\n",
    "        indexed paramater. The len the vector is the \n",
    "        number of particles - 1 which the number of \n",
    "        variational paramters.\n",
    "        args:\n",
    "        state - number array length N\n",
    "        return:\n",
    "        - delta_x : array length N-1 fo derivatives\n",
    "        \"\"\"\n",
    "\n",
    "        delta = np.zeros(len(self.parameters))\n",
    "        even_paramter_range = range(int(self.num_particles/2))\n",
    "        odd_parameter_range = range(int(self.num_particles/2),self.num_particles)\n",
    "        \n",
    "        # calculate omega for all the \"even\" parameters\n",
    "        for idx in even_paramter_range:\n",
    "            r = (idx % int(self.num_particles/2)) + 1 \n",
    "            for i in range(0, num_particles, 2):\n",
    "                delta[idx] += 0.25*self.configuration[i]*self.configuration[(i+r)%self.num_particles]\n",
    "            \n",
    "        # calculate omega for all the \"odd\" parameters\n",
    "        for idx in odd_parameter_range:\n",
    "            r = (idx % int(self.num_particles/2)) + 1 \n",
    "            for i in range(1, num_particles, 2):\n",
    "                delta[idx] += 0.25*self.configuration[i]*self.configuration[(i+r)%self.num_particles]\n",
    "        # for beta (constant value)\n",
    "        delta[-1] = -1\n",
    "        \n",
    "        self.delta_x = delta\n",
    "\n",
    "    def get_delta_x(self):\n",
    "        if self.delta_x is None:\n",
    "            self.calculate_delta_x()\n",
    "        return self.delta_x\n",
    "            \n",
    "    \n",
    "    def get_Q_of_x(self, energy):\n",
    "        delta_x = self.get_delta_x()\n",
    "        return energy*delta_x"
   ]
  },
  {
   "cell_type": "markdown",
   "metadata": {},
   "source": [
    "## Test the State"
   ]
  },
  {
   "cell_type": "code",
   "execution_count": 5,
   "metadata": {},
   "outputs": [
    {
     "data": {
      "text/plain": [
       "array([-0.5,  0.5, -0.5,  0.5, -1. ])"
      ]
     },
     "execution_count": 5,
     "metadata": {},
     "output_type": "execute_result"
    }
   ],
   "source": [
    "num_particles = 4\n",
    "variational_parameters = [1,-3,1,-3,1]\n",
    "\n",
    "state_test = State(num_particles, variational_parameters, configuration = [-1,1,-1,1])\n",
    "state_test.get_delta_x()"
   ]
  },
  {
   "cell_type": "markdown",
   "metadata": {},
   "source": [
    "\"\"\"\n",
    "class AdiabaticState(State):\n",
    "    \"\"\"\n",
    "    Specif\n",
    "    \n",
    "    def __init__(self, num_particles, variational_parameters, configuration = None):\n",
    "        super().__init__(num_particles, variational_parameters, configuration = None)\n",
    "        \n",
    "    def generate_coefficient(self):\n",
    "        \"\"\"\n",
    "        This function generates the variational \n",
    "        projection for this particular state.\n",
    "        \"\"\"\n",
    "        N = self.num_particles\n",
    "        \n",
    "        config = self.configuration\n",
    "        try:\n",
    "            even_contribution = 0\n",
    "            odd_contribution = 0\n",
    "            \n",
    "            # determine even parameter contributions\n",
    "            for param in self.parameters[:int(N/2) - 1]: ## all the even parameters\n",
    "                for i in range(0, self.num_particles,2):\n",
    "                    even_contribution += 0.25*param*config[i]*config[(i+r)%self.num_particles]\n",
    "            \n",
    "            # determine even parameter contributions\n",
    "            for param in self.parameters[int(N/2):-1]: ## all the even parameters\n",
    "                for i in range(0, self.num_particles,2):\n",
    "                    even_contribution += 0.25*param*config[i]*config[(i+r)%self.num_particles]\n",
    "        \n",
    "            self.coefficient = exp(even_contribution + odd_contribution - self.parameters[-1])\n",
    "        \n",
    "        \n",
    "        except OverflowError:\n",
    "            print(f\"Error: Overflow. State = {config}   alpha = {self.parameters}\")\n",
    "\"\"\""
   ]
  },
  {
   "cell_type": "markdown",
   "metadata": {},
   "source": [
    "## The Optimizer"
   ]
  },
  {
   "cell_type": "code",
   "execution_count": 6,
   "metadata": {},
   "outputs": [],
   "source": [
    "class Optimizer:\n",
    "    def __init__(self, hamiltonian, num_steps, num_parameters, plotter, parameters = None, fixed_parameters = None, lr = 0.03, derivative_cap = 0.3):\n",
    "        self.H = hamiltonian\n",
    "        self.num_particles = hamiltonian.num_particles\n",
    "        self.num_parameters = num_parameters\n",
    "        self.num_steps = num_steps# number of steps for every monte carlo simulation\n",
    "        self.lr = lr # learning rate\n",
    "        self.dx_cap = derivative_cap\n",
    "        self.fixed_parameters = fixed_parameters\n",
    "        \n",
    "        # quantities for calculating derivatives\n",
    "        self.exp_Q = None #expectation of Q\n",
    "        self.exp_delta =None # expectation of the delta array (also BIg Oh in sorrellas paper)\n",
    "        self.variational_energy = None\n",
    "        \n",
    "        if parameters is None:\n",
    "            self.randomize_parameters()\n",
    "        else:\n",
    "            self.parameters = parameters\n",
    "                \n",
    "        # some debugging features\n",
    "        self.show_plot = True\n",
    "        self.debug = False\n",
    "        self.sleep = False\n",
    "        \n",
    "    def randomize_parameters(self):\n",
    "        alpha = random.sample(range(1, 100), self.num_parameters)\n",
    "        alpha = np.asarray(alpha)\n",
    "        alpha = alpha - 50\n",
    "        alpha = alpha / 25\n",
    "        self.parameters = alpha\n",
    "        \n",
    "    def update_variational_parameters(self):\n",
    "        if self.variational_energy is None or self.exp_delta is None or self.exp_Q is None:\n",
    "            print(\"OUT OF ORDER ERROR\")\n",
    "            set_trace()\n",
    "            \n",
    "        f = -1*(self.exp_Q - self.exp_delta*self.variational_energy)\n",
    "        \n",
    "        parameter_changes = self.lr*f\n",
    "        \n",
    "        for i, param in enumerate(parameter_changes):\n",
    "            if param > self.dx_cap:\n",
    "                parameter_changes[i] = self.dx_cap\n",
    "            elif param < -1*self.dx_cap:\n",
    "                parameter_changes[i] = -1*self.dx_cap\n",
    "                \n",
    "        print(f\"Current Params: {self.parameters}\")\n",
    "        print(f\"Updates: -1*{parameter_changes}\")\n",
    "        self.parameters = self.parameters + parameter_changes\n",
    "        self.clear_expectations() # this insures we pick up more bugs\n",
    "        \n",
    "        # artificially contrain certain parameters\n",
    "        self.parameters[-1] = -5\n",
    "        for idx, param in self.fixed_parameters.items():\n",
    "            self.parameters[idx] = param \n",
    "        \n",
    "    def monte_carlo_simulation(self):\n",
    "        \"\"\"\n",
    "        This function calculates expectation values for the \n",
    "        4 variables of interest P, Q, \n",
    "        \"\"\"\n",
    "\n",
    "        state = State(self.num_particles, self.parameters)\n",
    "\n",
    "        # initialize running variables\n",
    "        expectation_local_energy = 0\n",
    "        expectation_delta = 0\n",
    "        expectation_Q =0\n",
    "\n",
    "        for i in range(self.num_steps):\n",
    "            clear_output(wait=True)\n",
    "            if False:\n",
    "                if i % 500 == 0:\n",
    "                    print(f\"Alpha: {alpha[0]} -- Step: {i+1}/{num_steps}\")\n",
    "                    \n",
    "            state.update_state()\n",
    "            local_energy = self.H.calculate_local_energy(state)\n",
    "            delta_x = state.get_delta_x()\n",
    "            Q_of_x = state.get_Q_of_x(local_energy)\n",
    "            \n",
    "            \n",
    "            if self.debug:\n",
    "                print(f\"Alpha: {alpha}\")\n",
    "                print(f\"State input: {x_initial}\")\n",
    "                print(f\"Local Energy: {local_energy}\")\n",
    "                print(f\"P(x) = {P_of_x}\")\n",
    "                print(f\"Q(x) = {Q_of_x}\")\n",
    "                print(f\"delta(x) = {delta_x}\")\n",
    "            \n",
    "            if self.sleep:\n",
    "                time.sleep(5)\n",
    "\n",
    "            expectation_local_energy += local_energy\n",
    "            expectation_delta += delta_x\n",
    "            expectation_Q += Q_of_x\n",
    "        # normalize expectation values\n",
    "        num_steps = self.num_steps\n",
    "        expectation_local_energy = expectation_local_energy / num_steps\n",
    "        expectation_delta = expectation_delta / num_steps\n",
    "        expectation_Q = expectation_Q / num_steps\n",
    "        return expectation_local_energy, expectation_delta, expectation_Q\n",
    "    \n",
    "    def clear_expectations(self):\n",
    "        self.exp_Q = None\n",
    "        self.varitional_enery = None\n",
    "        self.exp_delta = None\n",
    "\n",
    "    \n",
    "    def get_ground_state(self):\n",
    "        \n",
    "        # def check_ending_conditions()\n",
    "        \n",
    "        # pre loop conditions\n",
    "        cont = True\n",
    "        min_energy = 99999999999\n",
    "        latest_energy = min_energy\n",
    "        time_caught_in_local_min = 0\n",
    "        loop_count = 0\n",
    "\n",
    "        reset_count = 0 # the number of times the alpha was randomly initialized\n",
    "        \n",
    "        while(cont):\n",
    "            try:\n",
    "                clear_output(wait=True)\n",
    "\n",
    "                if not self.show_plot:\n",
    "                    if loop_count % 1 == 0:\n",
    "                        print(f\"\"\"Optimal Energy: %3.2f \n",
    "                        \\nCurrent Energy: %3.2f \n",
    "                        \\nloop count: %i\n",
    "                        \\nCurrent Alpha: {alpha}\n",
    "                        \"\"\" % (min_energy, energy, loop_count))\n",
    "                \n",
    "\n",
    "                self.variational_energy, self.exp_delta, self.exp_Q = self.monte_carlo_simulation()\n",
    "                print(f\"var energy: {self.variational_energy} \\ndelta: {self.exp_delta}\\nQ: {self.exp_Q}\")\n",
    "\n",
    "                if self.show_plot:\n",
    "                    plotter.update_history(self.variational_energy, self.parameters)\n",
    "                    plotter.show_plot()\n",
    "                # if this energy is lowest, update optimal measurements,\n",
    "                # and assume you can do better (set end count, i, to zero)\n",
    "                if self.variational_energy < float(min_energy):\n",
    "                        min_energy = self.variational_energy\n",
    "                        optimal_parameters = self.parameters\n",
    "                \n",
    "                if self.variational_energy < (latest_energy - 0.05):\n",
    "                    latest_energy = self.variational_energy \n",
    "                    time_caught_in_local_min = 0\n",
    "                    loop_count = 0\n",
    "                # if not, inncrement the end count. If you don't get better\n",
    "                # after 400 tries, it's probably time to stop\n",
    "                else:\n",
    "                    time_caught_in_local_min += 1\n",
    "                    if time_caught_in_local_min == 100:\n",
    "                        print(\"Ending because caught in local min\")\n",
    "                        cont = False\n",
    "\n",
    "                self.update_variational_parameters()\n",
    "                \n",
    "                loop_count += 1\n",
    "                if loop_count == 100:\n",
    "                    print(\"Ending because loop count == 100\")\n",
    "                    cont = False\n",
    "            except KeyboardInterrupt:\n",
    "                cont = False\n",
    "                print(\"Ending because Keyboard interruption\")\n",
    "                \n",
    "        print(f\"Time caught in local min: {time_caught_in_local_min}\")\n",
    "        print(f\"Reset Count: {reset_count}\")\n",
    "        print(f\"Loop Count {loop_count}\")\n",
    "        print(\"Optimal Energy: %3.2f\" % min_energy)\n",
    "        print(f\"Optimal Alpha: {optimal_parameters}\" )\n",
    "\n",
    "        return min_energy, optimal_parameters\n"
   ]
  },
  {
   "cell_type": "markdown",
   "metadata": {},
   "source": [
    "## Debug Plotter\n"
   ]
  },
  {
   "cell_type": "code",
   "execution_count": 7,
   "metadata": {},
   "outputs": [],
   "source": [
    "class Plotter:\n",
    "    def __init__(self, display_parameters):\n",
    "        self.display_parameters = display_parameters\n",
    "        self.parameter_history = []\n",
    "        self.energy_history = []\n",
    "        \n",
    "    def update_history(self, energy, parameters):\n",
    "        if len(self.parameter_history ) == 0:\n",
    "            self.parameter_history = [[param] for param in parameters]\n",
    "            self.energy_history = [energy]\n",
    "        else:\n",
    "            for i, param in enumerate(parameters):\n",
    "                self.parameter_history[i].append(param)\n",
    "            self.energy_history.append(energy)\n",
    "    \n",
    "    def show_plot(self):\n",
    "        for param in self.parameter_history[:self.display_parameters - 1]:\n",
    "            plt.plot(param, self.energy_history)\n",
    "        \n",
    "        plt.xlabel(\"Parameters\")\n",
    "        plt.ylabel(\"Variational Energy\")\n",
    "        plt.title(\"Energies -- Alphas\")\n",
    "        plt.show()\n",
    "                    \n",
    "        plt.plot(self.parameter_history[-1], self.energy_history)\n",
    "        plt.xlabel(\"Parameter\")\n",
    "        plt.ylabel(\"Variational Energy\")\n",
    "        plt.title(\"Energies -- Bias Parameter\")\n",
    "        plt.show()"
   ]
  },
  {
   "cell_type": "markdown",
   "metadata": {},
   "source": [
    "## Determine Ground State Energy\n"
   ]
  },
  {
   "cell_type": "markdown",
   "metadata": {},
   "source": [
    "## This code block finds the initial parameters for the diamer state"
   ]
  },
  {
   "cell_type": "code",
   "execution_count": 8,
   "metadata": {},
   "outputs": [
    {
     "name": "stdout",
     "output_type": "stream",
     "text": [
      "var energy: -1.4987679387631 \n",
      "delta: [-0.2  -0.15 -0.15 -0.15 -1.  ]\n",
      "Q: [ 0.28999865 -0.11499865  0.57438397 -0.11499865  1.49876794]\n"
     ]
    },
    {
     "data": {
      "image/png": "[encoded data removed]",
      "text/plain": [
       "<Figure size 432x288 with 1 Axes>"
      ]
     },
     "metadata": {
      "needs_background": "light"
     },
     "output_type": "display_data"
    },
    {
     "data": {
      "image/png": "[encoded data removed]",
      "text/plain": [
       "<Figure size 432x288 with 1 Axes>"
      ]
     },
     "metadata": {
      "needs_background": "light"
     },
     "output_type": "display_data"
    },
    {
     "name": "stdout",
     "output_type": "stream",
     "text": [
      "Current Params: [ 0.        0.       -0.030805  0.       -5.      ]\n",
      "Updates: -1*[ 0.00195099  0.06796277 -0.06991376  0.06796277 -0.        ]\n",
      "Ending because loop count == 100\n",
      "Time caught in local min: 99\n",
      "Reset Count: 0\n",
      "Loop Count 100\n",
      "Optimal Energy: -1.52\n",
      "Optimal Alpha: [-1.92 -0.32  1.48  0.84  1.04]\n"
     ]
    }
   ],
   "source": [
    "num_particles = 4\n",
    "num_parameters = 5 # N + 1 for adiabatic\n",
    "num_steps = 1000\n",
    "\n",
    "# fixed_params = {1:0, 3:0} # set parameter number 2 and number 3 to zero\n",
    "fixed_params = {0:0, 1:0, 3:0}\n",
    "initial_parameters = None\n",
    "# initial_parameters = np.asarray([1.28166939, 0, -1.36436792, 0., -5.])\n",
    "\n",
    "energies = []\n",
    "deltas = [0.5]\n",
    "for delta in deltas:\n",
    "    H = Hamiltonian(num_particles, delta=delta)\n",
    "    plotter = Plotter(5)\n",
    "    opt = Optimizer(H, num_steps, num_parameters, plotter = plotter, \n",
    "                    parameters= initial_parameters,\n",
    "                    fixed_parameters=fixed_params, lr = 0.2)\n",
    "    energy, parameters = opt.get_ground_state()\n",
    "    energies.append(energy)"
   ]
  },
  {
   "cell_type": "markdown",
   "metadata": {},
   "source": [
    "## 2 paramters"
   ]
  },
  {
   "cell_type": "code",
   "execution_count": 11,
   "metadata": {},
   "outputs": [
    {
     "name": "stdout",
     "output_type": "stream",
     "text": [
      "var energy: -0.9975931202854186 \n",
      "delta: [-0.5   -0.013  0.013 -0.013 -1.   ]\n",
      "Q: [ 0.49879656 -0.24229656  0.24229656 -0.24229656  0.99759312]\n"
     ]
    },
    {
     "data": {
      "image/png": "[encoded data removed]",
      "text/plain": [
       "<Figure size 432x288 with 1 Axes>"
      ]
     },
     "metadata": {
      "needs_background": "light"
     },
     "output_type": "display_data"
    },
    {
     "data": {
      "image/png": "[encoded data removed]",
      "text/plain": [
       "<Figure size 432x288 with 1 Axes>"
      ]
     },
     "metadata": {
      "needs_background": "light"
     },
     "output_type": "display_data"
    },
    {
     "name": "stdout",
     "output_type": "stream",
     "text": [
      "Current Params: [ 1.32188402  0.         -5.14994338  0.         -5.        ]\n",
      "Updates: -1*[-0.          0.05105305 -0.05105305  0.05105305 -0.        ]\n",
      "Ending because loop count == 100\n",
      "Time caught in local min: 99\n",
      "Reset Count: 0\n",
      "Loop Count 100\n",
      "Optimal Energy: -1.62\n",
      "Optimal Alpha: [ 1.24  1.6   0.2   1.92 -1.64]\n"
     ]
    }
   ],
   "source": [
    "num_particles = 4\n",
    "num_parameters = 5 # N + 1 for adiabatic\n",
    "num_steps = 1000\n",
    "\n",
    "# fixed_params = {1:0, 3:0} # set parameter number 2 and number 3 to zero\n",
    "fixed_params = {1:0, 3:0}\n",
    "initial_parameters = None\n",
    "# initial_parameters = np.asarray([1.28166939, 0, -1.36436792, 0., -5.])\n",
    "\n",
    "energies = []\n",
    "deltas = [0.5]\n",
    "for delta in deltas:\n",
    "    H = Hamiltonian(num_particles, delta=delta)\n",
    "    plotter = Plotter(5)\n",
    "    opt = Optimizer(H, num_steps, num_parameters, plotter = plotter, \n",
    "                    parameters= initial_parameters,\n",
    "                    fixed_parameters=fixed_params, lr = 0.2)\n",
    "    energy, parameters = opt.get_ground_state()\n",
    "    energies.append(energy)"
   ]
  },
  {
   "cell_type": "markdown",
   "metadata": {},
   "source": [
    "# 4 Paramters"
   ]
  },
  {
   "cell_type": "code",
   "execution_count": 12,
   "metadata": {},
   "outputs": [
    {
     "name": "stdout",
     "output_type": "stream",
     "text": [
      "var energy: -1.4357368167017526 \n",
      "delta: [-0.455  0.167 -0.212  0.167 -1.   ]\n",
      "Q: [ 0.51244989 -0.22629316  0.43171168 -0.22629316  1.43573682]\n"
     ]
    },
    {
     "data": {
      "image/png": "[encoded data removed]",
      "text/plain": [
       "<Figure size 432x288 with 1 Axes>"
      ]
     },
     "metadata": {
      "needs_background": "light"
     },
     "output_type": "display_data"
    },
    {
     "data": {
      "image/png": "[encoded data removed]",
      "text/plain": [
       "<Figure size 432x288 with 1 Axes>"
      ]
     },
     "metadata": {
      "needs_background": "light"
     },
     "output_type": "display_data"
    },
    {
     "name": "stdout",
     "output_type": "stream",
     "text": [
      "Current Params: [ 2.61661815  2.40118915 -3.6178073   0.40118915 -5.        ]\n",
      "Updates: -1*[ 0.02816207 -0.00269498 -0.02546709 -0.00269498 -0.        ]\n",
      "Ending because loop count == 100\n",
      "Time caught in local min: 99\n",
      "Reset Count: 0\n",
      "Loop Count 100\n",
      "Optimal Energy: -1.47\n",
      "Optimal Alpha: [ 0.53635851  2.3760241  -1.5123826   0.3760241  -5.        ]\n"
     ]
    }
   ],
   "source": [
    "num_particles = 4\n",
    "num_parameters = 5 # N + 1 for adiabatic\n",
    "num_steps = 1000\n",
    "\n",
    "# fixed_params = {1:0, 3:0} # set parameter number 2 and number 3 to zero\n",
    "fixed_params = {}\n",
    "initial_parameters = None\n",
    "# initial_parameters = np.asarray([1.28166939, 0, -1.36436792, 0., -5.])\n",
    "\n",
    "energies = []\n",
    "deltas = [0.5]\n",
    "for delta in deltas:\n",
    "    H = Hamiltonian(num_particles, delta=delta)\n",
    "    plotter = Plotter(5)\n",
    "    opt = Optimizer(H, num_steps, num_parameters, plotter = plotter, \n",
    "                    parameters= initial_parameters,\n",
    "                    fixed_parameters=fixed_params, lr = 0.2)\n",
    "    energy, parameters = opt.get_ground_state()\n",
    "    energies.append(energy)"
   ]
  },
  {
   "cell_type": "markdown",
   "metadata": {},
   "source": [
    "## Find optimal parameters for 0.4"
   ]
  },
  {
   "cell_type": "code",
   "execution_count": null,
   "metadata": {},
   "outputs": [
    {
     "name": "stdout",
     "output_type": "stream",
     "text": [
      "var energy: -1.2078744139732445 \n",
      "delta: [-0.4946  0.0042 -0.0096  0.0042 -1.    ]\n",
      "Q: [ 0.54485117 -0.25061117  0.30969721 -0.25061117  1.20787441]\n"
     ]
    },
    {
     "data": {
      "image/png": "[encoded data removed]",
      "text/plain": [
       "<Figure size 432x288 with 1 Axes>"
      ]
     },
     "metadata": {
      "needs_background": "light"
     },
     "output_type": "display_data"
    },
    {
     "data": {
      "image/png": "[encoded data removed]",
      "text/plain": [
       "<Figure size 432x288 with 1 Axes>"
      ]
     },
     "metadata": {
      "needs_background": "light"
     },
     "output_type": "display_data"
    },
    {
     "name": "stdout",
     "output_type": "stream",
     "text": [
      "Current Params: [ 1.93081034  0.         -4.28616414  0.         -5.        ]\n",
      "Updates: -1*[ 0.0105127   0.04910762 -0.05962032  0.04910762 -0.        ]\n"
     ]
    }
   ],
   "source": [
    "num_particles = 4\n",
    "num_parameters = 5 # N + 1 for adiabatic\n",
    "num_steps = 5000\n",
    "\n",
    "# fixed_params = {1:0, 3:0} # set parameter number 2 and number 3 to zero\n",
    "fixed_params = {1:0, 3:0}\n",
    "initial_parameters = None\n",
    "initial_parameters = np.asarray([1.28166939, 0, -1.36436792, 0., -5.])\n",
    "\n",
    "energies = []\n",
    "deltas = [0.4]\n",
    "for delta in deltas:\n",
    "    H = Hamiltonian(num_particles, delta=delta)\n",
    "    plotter = Plotter(5)\n",
    "    opt = Optimizer(H, num_steps, num_parameters, plotter = plotter, \n",
    "                    parameters= initial_parameters,\n",
    "                    fixed_parameters=fixed_params, lr = 0.2)\n",
    "    energy, parameters = opt.get_ground_state()\n",
    "    energies.append(energy)"
   ]
  },
  {
   "cell_type": "code",
   "execution_count": null,
   "metadata": {},
   "outputs": [],
   "source": []
  },
  {
   "cell_type": "code",
   "execution_count": null,
   "metadata": {},
   "outputs": [],
   "source": []
  },
  {
   "cell_type": "code",
   "execution_count": null,
   "metadata": {},
   "outputs": [],
   "source": []
  },
  {
   "cell_type": "code",
   "execution_count": null,
   "metadata": {},
   "outputs": [],
   "source": []
  },
  {
   "cell_type": "code",
   "execution_count": null,
   "metadata": {},
   "outputs": [],
   "source": []
  },
  {
   "cell_type": "code",
   "execution_count": null,
   "metadata": {},
   "outputs": [],
   "source": []
  },
  {
   "cell_type": "code",
   "execution_count": null,
   "metadata": {},
   "outputs": [],
   "source": []
  },
  {
   "cell_type": "code",
   "execution_count": null,
   "metadata": {},
   "outputs": [],
   "source": []
  },
  {
   "cell_type": "code",
   "execution_count": null,
   "metadata": {},
   "outputs": [],
   "source": []
  },
  {
   "cell_type": "code",
   "execution_count": null,
   "metadata": {},
   "outputs": [],
   "source": []
  }
 ],
 "metadata": {
  "kernelspec": {
   "display_name": "Python 3",
   "language": "python",
   "name": "python3"
  },
  "language_info": {
   "codemirror_mode": {
    "name": "ipython",
    "version": 3
   },
   "file_extension": ".py",
   "mimetype": "text/x-python",
   "name": "python",
   "nbconvert_exporter": "python",
   "pygments_lexer": "ipython3",
   "version": "3.7.0"
  }
 },
 "nbformat": 4,
 "nbformat_minor": 2
}

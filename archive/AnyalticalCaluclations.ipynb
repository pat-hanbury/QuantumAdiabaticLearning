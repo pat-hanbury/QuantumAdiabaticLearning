{
 "cells": [
  {
   "cell_type": "markdown",
   "metadata": {},
   "source": [
    "# Analytical Derivation of Ground State Energy for Adiabatic Hamiltonian of 4 Particles"
   ]
  },
  {
   "cell_type": "code",
   "execution_count": 2,
   "metadata": {},
   "outputs": [],
   "source": [
    "import sympy as sp\n",
    "from matplotlib import pyplot as plt"
   ]
  },
  {
   "cell_type": "markdown",
   "metadata": {},
   "source": [
    "## Old Hamiltonian"
   ]
  },
  {
   "cell_type": "markdown",
   "metadata": {},
   "source": [
    "![alt text](images/adiabatic_hamiltonian2.png \"Adiabatic Hamiltonian\")"
   ]
  },
  {
   "cell_type": "code",
   "execution_count": 3,
   "metadata": {},
   "outputs": [],
   "source": [
    "#old analytical try again"
   ]
  },
  {
   "cell_type": "code",
   "execution_count": 4,
   "metadata": {},
   "outputs": [
    {
     "data": {
      "text/plain": [
       "[(-3, 1, [Matrix([\n",
       "   [0],\n",
       "   [0],\n",
       "   [1],\n",
       "   [1],\n",
       "   [1],\n",
       "   [1]])]), (-1, 2, [Matrix([\n",
       "   [ 0],\n",
       "   [ 0],\n",
       "   [-1],\n",
       "   [ 1],\n",
       "   [ 0],\n",
       "   [ 0]]), Matrix([\n",
       "   [ 0],\n",
       "   [ 0],\n",
       "   [ 0],\n",
       "   [ 0],\n",
       "   [-1],\n",
       "   [ 1]])]), (1, 3, [Matrix([\n",
       "   [1],\n",
       "   [0],\n",
       "   [0],\n",
       "   [0],\n",
       "   [0],\n",
       "   [0]]), Matrix([\n",
       "   [0],\n",
       "   [1],\n",
       "   [0],\n",
       "   [0],\n",
       "   [0],\n",
       "   [0]]), Matrix([\n",
       "   [ 0],\n",
       "   [ 0],\n",
       "   [-1],\n",
       "   [-1],\n",
       "   [ 1],\n",
       "   [ 1]])])]"
      ]
     },
     "execution_count": 4,
     "metadata": {},
     "output_type": "execute_result"
    }
   ],
   "source": [
    "d = sp.Symbol('delta')\n",
    "E = sp.Symbol('E') # energy eigen value\n",
    "H = sp.Matrix([\n",
    "    [1, 0, 0, 0, 0, 0],\n",
    "    [0, 1, 0, 0, 0, 0],\n",
    "    [0, 0, -1, 0, -1, -1],\n",
    "    [0, 0, 0, -1, -1, -1],\n",
    "    [0, 0, -1, -1, -1, 0],\n",
    "    [0, 0, -1, -1, 0, -1]\n",
    "              ])\n",
    "H\n",
    "H.eigenvects()"
   ]
  },
  {
   "cell_type": "code",
   "execution_count": 5,
   "metadata": {},
   "outputs": [
    {
     "data": {
      "text/plain": [
       "Matrix([\n",
       "[-1,  0,  0,  0, -1, -1],\n",
       "[ 0, -1,  0,  0, -1, -1],\n",
       "[ 0,  0, -1,  0,  0,  0],\n",
       "[ 0,  0,  0, -1,  0,  0],\n",
       "[-1, -1,  0,  0, -1,  0],\n",
       "[-1, -1,  0,  0,  0, -1]])"
      ]
     },
     "execution_count": 5,
     "metadata": {},
     "output_type": "execute_result"
    }
   ],
   "source": [
    "d = sp.Symbol('delta')\n",
    "E = sp.Symbol('E') # energy eigen value\n",
    "H = sp.Rational(-1,2)*sp.Matrix([\n",
    "    [2*d, 0, 0, 0, 1+d, 1+d],\n",
    "    [0, 2*d, 0 ,0, 1+d, 1+d],\n",
    "    [0, 0, 2*d, 0, 1-d, 1-d],\n",
    "    [0, 0, 0, 2*d, 1-d, 1-d],\n",
    "    [1+d, 1+d, 1-d, 1-d, 2, 0],\n",
    "    [1+d, 1+d, 1-d, 1-d, 0, 2]\n",
    "              ])\n",
    "I = sp.eye(6)\n",
    "H.subs(d, 1)"
   ]
  },
  {
   "cell_type": "code",
   "execution_count": 6,
   "metadata": {},
   "outputs": [
    {
     "name": "stdout",
     "output_type": "stream",
     "text": [
      "(-2, 1, [Matrix([\n",
      "[1/2],\n",
      "[1/2],\n",
      "[1/2],\n",
      "[1/2],\n",
      "[  1],\n",
      "[  1]])])\n",
      "(-1, 1, [Matrix([\n",
      "[ 0],\n",
      "[ 0],\n",
      "[ 0],\n",
      "[ 0],\n",
      "[-1],\n",
      "[ 1]])])\n",
      "(0, 3, [Matrix([\n",
      "[-1],\n",
      "[ 1],\n",
      "[ 0],\n",
      "[ 0],\n",
      "[ 0],\n",
      "[ 0]]), Matrix([\n",
      "[-1],\n",
      "[ 0],\n",
      "[ 1],\n",
      "[ 0],\n",
      "[ 0],\n",
      "[ 0]]), Matrix([\n",
      "[-1],\n",
      "[ 0],\n",
      "[ 0],\n",
      "[ 1],\n",
      "[ 0],\n",
      "[ 0]])])\n",
      "(1, 1, [Matrix([\n",
      "[-1],\n",
      "[-1],\n",
      "[-1],\n",
      "[-1],\n",
      "[ 1],\n",
      "[ 1]])])\n"
     ]
    }
   ],
   "source": [
    "for x in H.subs(d, 0).eigenvects():\n",
    "    print(x)"
   ]
  },
  {
   "cell_type": "code",
   "execution_count": null,
   "metadata": {},
   "outputs": [],
   "source": []
  },
  {
   "cell_type": "code",
   "execution_count": 7,
   "metadata": {},
   "outputs": [],
   "source": [
    "deltas = [x/100 for x in range(101)]"
   ]
  },
  {
   "cell_type": "code",
   "execution_count": 8,
   "metadata": {},
   "outputs": [],
   "source": [
    "energies = []\n",
    "for delta in deltas:\n",
    "    e_vals = H.subs(d, delta).eigenvals()\n",
    "    e_val_max = 1000\n",
    "    for e_val in e_vals:\n",
    "        if e_val < e_val_max:\n",
    "            e_val_max = e_val\n",
    "    energies.append(e_val_max)"
   ]
  },
  {
   "cell_type": "markdown",
   "metadata": {},
   "source": [
    "## Graph "
   ]
  },
  {
   "cell_type": "code",
   "execution_count": 9,
   "metadata": {},
   "outputs": [
    {
     "data": {
      "image/png": "[encoded data removed]",
      "text/plain": [
       "<Figure size 432x288 with 1 Axes>"
      ]
     },
     "metadata": {
      "needs_background": "light"
     },
     "output_type": "display_data"
    }
   ],
   "source": [
    "plt.plot(deltas, energies)\n",
    "plt.xlabel(\"Delta Value\")\n",
    "plt.ylabel(\"Ground State Energy\")\n",
    "plt.title(\"Analytical Energy\");"
   ]
  },
  {
   "cell_type": "code",
   "execution_count": 35,
   "metadata": {},
   "outputs": [
    {
     "name": "stdout",
     "output_type": "stream",
     "text": [
      "Energies for delta 0.0: [-2, -1, 0, 1]\n",
      "Energies for delta 0.1: [-2.04080515158756, -1.00000000000000, -0.100000000000000, 0.940805151587557]\n",
      "Energies for delta 0.2: [-2.09666295470958, -1.00000000000000, -0.200000000000000, 0.896662954709577]\n",
      "Energies for delta 0.3: [-2.16739909054935, -1.00000000000000, -0.300000000000000, 0.867399090549352]\n",
      "Energies for delta 0.4: [-2.25241746962600, -1.00000000000000, -0.400000000000000, 0.852417469626002]\n",
      "Energies for delta 0.5: [-2.35078105935821, -1.00000000000000, -0.500000000000000, 0.850781059358212]\n",
      "Energies for delta 0.6: [-2.46132477258362, -1.00000000000000, -0.600000000000000, 0.861324772583615]\n",
      "Energies for delta 0.7: [-2.58277234511635, -1.00000000000000, -0.700000000000000, 0.882772345116346]\n",
      "Energies for delta 0.8: [-2.71383571472171, -1.00000000000000, -0.800000000000000, 0.913835714721705]\n",
      "Energies for delta 0.9: [-2.85328663106743, -1.00000000000000, -0.900000000000000, 0.953286631067428]\n"
     ]
    }
   ],
   "source": [
    "deltas = [x/10 for x in range(0,10)]\n",
    "energies = []\n",
    "param0s = []\n",
    "param1s = []\n",
    "param2s = []\n",
    "param3s = []\n",
    "param4s = []\n",
    "param5s = []\n",
    "for delta in deltas:\n",
    "    e_vects = H.subs(d, delta).eigenvects()\n",
    "    e_vects = sorted(e_vects, key=lambda tup: tup[0])\n",
    "    e_val_max , _, vects = e_vects[1]\n",
    "    # print(e_vects)\n",
    "    # print(\" \")\n",
    "    print(f\"Energies for delta {delta}: {[x[0] for x in e_vects]}\")\n",
    "    \"\"\"\n",
    "    param0 = vects[0][0]\n",
    "    param1 = vects[0][1]\n",
    "    param2 = vects[0][2]\n",
    "    param3 = vects[0][3]\n",
    "    param4 = vects[0][4]\n",
    "    param5 = vects[0][5]\n",
    "    \"\"\"\n",
    "    energies.append(e_val_max)\n",
    "    param0s.append(param0)\n",
    "    param1s.append(param1)\n",
    "    param2s.append(param2)\n",
    "    param3s.append(param3)\n",
    "    param4s.append(param4)\n",
    "    param5s.append(param5)"
   ]
  },
  {
   "cell_type": "code",
   "execution_count": 33,
   "metadata": {},
   "outputs": [
    {
     "ename": "SyntaxError",
     "evalue": "EOF while scanning triple-quoted string literal (<ipython-input-33-f60bef49183f>, line 7)",
     "output_type": "error",
     "traceback": [
      "\u001b[0;36m  File \u001b[0;32m\"<ipython-input-33-f60bef49183f>\"\u001b[0;36m, line \u001b[0;32m7\u001b[0m\n\u001b[0;31m    \"\"\"\"\"\"\u001b[0m\n\u001b[0m          \n^\u001b[0m\n\u001b[0;31mSyntaxError\u001b[0m\u001b[0;31m:\u001b[0m EOF while scanning triple-quoted string literal\n"
     ]
    }
   ],
   "source": [
    "\"\"\"\n",
    "e_vects = H.subs(d, 0.5).eigenvects()\n",
    "print(e_vects)\n",
    "e_vects = sorted(e_vects, key=lambda tup: tup[0])\n",
    "print(\"new\")\n",
    "print(e_vects)\n",
    "\"\"\"\"\"\""
   ]
  },
  {
   "cell_type": "code",
   "execution_count": 34,
   "metadata": {},
   "outputs": [
    {
     "data": {
      "image/png": "[encoded data removed]",
      "text/plain": [
       "<Figure size 432x288 with 1 Axes>"
      ]
     },
     "metadata": {
      "needs_background": "light"
     },
     "output_type": "display_data"
    }
   ],
   "source": [
    "plt.plot(deltas, energies)\n",
    "plt.xlabel(\"Delta Value\")\n",
    "plt.ylabel(\"Ground State Energy\")\n",
    "plt.title(\"Analytical Energy\");"
   ]
  },
  {
   "cell_type": "markdown",
   "metadata": {},
   "source": [
    "## Plot all parameters as a function of delta"
   ]
  },
  {
   "cell_type": "code",
   "execution_count": null,
   "metadata": {},
   "outputs": [],
   "source": []
  },
  {
   "cell_type": "code",
   "execution_count": 20,
   "metadata": {},
   "outputs": [
    {
     "data": {
      "image/png": "[encoded data removed]",
      "text/plain": [
       "<Figure size 432x288 with 1 Axes>"
      ]
     },
     "metadata": {
      "needs_background": "light"
     },
     "output_type": "display_data"
    },
    {
     "data": {
      "image/png": "[encoded data removed]",
      "text/plain": [
       "<Figure size 432x288 with 1 Axes>"
      ]
     },
     "metadata": {
      "needs_background": "light"
     },
     "output_type": "display_data"
    },
    {
     "data": {
      "image/png": "[encoded data removed]",
      "text/plain": [
       "<Figure size 432x288 with 1 Axes>"
      ]
     },
     "metadata": {
      "needs_background": "light"
     },
     "output_type": "display_data"
    },
    {
     "data": {
      "image/png": "[encoded data removed]",
      "text/plain": [
       "<Figure size 432x288 with 1 Axes>"
      ]
     },
     "metadata": {
      "needs_background": "light"
     },
     "output_type": "display_data"
    },
    {
     "data": {
      "image/png": "[encoded data removed]",
      "text/plain": [
       "<Figure size 432x288 with 1 Axes>"
      ]
     },
     "metadata": {
      "needs_background": "light"
     },
     "output_type": "display_data"
    },
    {
     "data": {
      "image/png": "[encoded data removed]",
      "text/plain": [
       "<Figure size 432x288 with 1 Axes>"
      ]
     },
     "metadata": {
      "needs_background": "light"
     },
     "output_type": "display_data"
    }
   ],
   "source": [
    "for i, params in enumerate([param0s, param1s, param2s, param3s, param4s,param5s]):\n",
    "    plt.plot(deltas, params)\n",
    "    plt.xlabel(\"Delta Value\")\n",
    "    plt.ylabel(\"Parameter\")\n",
    "    plt.title(f\"Parameter: {i}\")\n",
    "    plt.show()"
   ]
  },
  {
   "cell_type": "code",
   "execution_count": 21,
   "metadata": {},
   "outputs": [],
   "source": [
    "def get_optimal_energy(delta):\n",
    "    i = deltas.index(delta)\n",
    "    return float(energies[i])"
   ]
  },
  {
   "cell_type": "code",
   "execution_count": 22,
   "metadata": {},
   "outputs": [
    {
     "ename": "ValueError",
     "evalue": "0.3 is not in list",
     "output_type": "error",
     "traceback": [
      "\u001b[0;31m---------------------------------------------------------------------------\u001b[0m",
      "\u001b[0;31mValueError\u001b[0m                                Traceback (most recent call last)",
      "\u001b[0;32m<ipython-input-22-66d02886136f>\u001b[0m in \u001b[0;36m<module>\u001b[0;34m()\u001b[0m\n\u001b[0;32m----> 1\u001b[0;31m \u001b[0mfloat\u001b[0m\u001b[0;34m(\u001b[0m\u001b[0mget_optimal_energy\u001b[0m\u001b[0;34m(\u001b[0m\u001b[0;36m0.3\u001b[0m\u001b[0;34m)\u001b[0m\u001b[0;34m)\u001b[0m\u001b[0;34m\u001b[0m\u001b[0m\n\u001b[0m",
      "\u001b[0;32m<ipython-input-21-5cac1e0f96a4>\u001b[0m in \u001b[0;36mget_optimal_energy\u001b[0;34m(delta)\u001b[0m\n\u001b[1;32m      1\u001b[0m \u001b[0;32mdef\u001b[0m \u001b[0mget_optimal_energy\u001b[0m\u001b[0;34m(\u001b[0m\u001b[0mdelta\u001b[0m\u001b[0;34m)\u001b[0m\u001b[0;34m:\u001b[0m\u001b[0;34m\u001b[0m\u001b[0m\n\u001b[0;32m----> 2\u001b[0;31m     \u001b[0mi\u001b[0m \u001b[0;34m=\u001b[0m \u001b[0mdeltas\u001b[0m\u001b[0;34m.\u001b[0m\u001b[0mindex\u001b[0m\u001b[0;34m(\u001b[0m\u001b[0mdelta\u001b[0m\u001b[0;34m)\u001b[0m\u001b[0;34m\u001b[0m\u001b[0m\n\u001b[0m\u001b[1;32m      3\u001b[0m     \u001b[0;32mreturn\u001b[0m \u001b[0mfloat\u001b[0m\u001b[0;34m(\u001b[0m\u001b[0menergies\u001b[0m\u001b[0;34m[\u001b[0m\u001b[0mi\u001b[0m\u001b[0;34m]\u001b[0m\u001b[0;34m)\u001b[0m\u001b[0;34m\u001b[0m\u001b[0m\n",
      "\u001b[0;31mValueError\u001b[0m: 0.3 is not in list"
     ]
    }
   ],
   "source": [
    "float(get_optimal_energy(0.3))"
   ]
  },
  {
   "cell_type": "code",
   "execution_count": 23,
   "metadata": {},
   "outputs": [
    {
     "ename": "SyntaxError",
     "evalue": "invalid syntax (<ipython-input-23-6c40b223a589>, line 2)",
     "output_type": "error",
     "traceback": [
      "\u001b[0;36m  File \u001b[0;32m\"<ipython-input-23-6c40b223a589>\"\u001b[0;36m, line \u001b[0;32m2\u001b[0m\n\u001b[0;31m    for d in range()\u001b[0m\n\u001b[0m                    ^\u001b[0m\n\u001b[0;31mSyntaxError\u001b[0m\u001b[0;31m:\u001b[0m invalid syntax\n"
     ]
    }
   ],
   "source": [
    "do_print = False\n",
    "for d in range()\n",
    "for x in H.eigenvects():\n",
    "    energy, multiplicity, vec = x\n",
    "    if do_print:\n",
    "        print(\"--\"*20)\n",
    "        print(f\"Energy: {energy}\")\n",
    "        print(f\"Mult: {multiplicity}\")\n",
    "        print(f\"Vector: {vec}\")"
   ]
  },
  {
   "cell_type": "markdown",
   "metadata": {},
   "source": [
    "# 2 Particle grount States"
   ]
  },
  {
   "cell_type": "code",
   "execution_count": 18,
   "metadata": {},
   "outputs": [],
   "source": [
    "d = sp.Symbol('delta')\n",
    "E = sp.Symbol('E') # energy eigen value\n",
    "quater = sp.Rational(1,4)\n",
    "neg_half = sp.Rational(1,2)\n",
    "H = sp.Matrix(\n",
    "    [[quater, 0, 0 , 0],\n",
    "     [0, -1*quater, neg_half, 0 ],\n",
    "     [0, neg_half, -1*quater, 0],\n",
    "     [0, 0, 0, quater]\n",
    "              ])\n",
    "I = sp.eye(6)"
   ]
  },
  {
   "cell_type": "code",
   "execution_count": 19,
   "metadata": {},
   "outputs": [
    {
     "data": {
      "text/plain": [
       "[(-3/4, 1, [Matrix([\n",
       "   [ 0],\n",
       "   [-1],\n",
       "   [ 1],\n",
       "   [ 0]])]), (1/4, 3, [Matrix([\n",
       "   [1],\n",
       "   [0],\n",
       "   [0],\n",
       "   [0]]), Matrix([\n",
       "   [0],\n",
       "   [1],\n",
       "   [1],\n",
       "   [0]]), Matrix([\n",
       "   [0],\n",
       "   [0],\n",
       "   [0],\n",
       "   [1]])])]"
      ]
     },
     "execution_count": 19,
     "metadata": {},
     "output_type": "execute_result"
    }
   ],
   "source": [
    "H.eigenvects()"
   ]
  },
  {
   "cell_type": "markdown",
   "metadata": {},
   "source": [
    "## Complex Number Testing"
   ]
  },
  {
   "cell_type": "code",
   "execution_count": 20,
   "metadata": {},
   "outputs": [],
   "source": [
    "x = complex(10,2)"
   ]
  },
  {
   "cell_type": "code",
   "execution_count": 21,
   "metadata": {},
   "outputs": [
    {
     "data": {
      "text/plain": [
       "True"
      ]
     },
     "execution_count": 21,
     "metadata": {},
     "output_type": "execute_result"
    }
   ],
   "source": [
    "complex(1,2) == 1 + 2j"
   ]
  },
  {
   "cell_type": "code",
   "execution_count": 22,
   "metadata": {},
   "outputs": [
    {
     "data": {
      "text/plain": [
       "(10+2j)"
      ]
     },
     "execution_count": 22,
     "metadata": {},
     "output_type": "execute_result"
    }
   ],
   "source": [
    "x"
   ]
  },
  {
   "cell_type": "code",
   "execution_count": null,
   "metadata": {},
   "outputs": [],
   "source": []
  },
  {
   "cell_type": "code",
   "execution_count": null,
   "metadata": {},
   "outputs": [],
   "source": []
  },
  {
   "cell_type": "code",
   "execution_count": null,
   "metadata": {},
   "outputs": [],
   "source": []
  },
  {
   "cell_type": "code",
   "execution_count": null,
   "metadata": {},
   "outputs": [],
   "source": []
  }
 ],
 "metadata": {
  "kernelspec": {
   "display_name": "Python 3",
   "language": "python",
   "name": "python3"
  },
  "language_info": {
   "codemirror_mode": {
    "name": "ipython",
    "version": 3
   },
   "file_extension": ".py",
   "mimetype": "text/x-python",
   "name": "python",
   "nbconvert_exporter": "python",
   "pygments_lexer": "ipython3",
   "version": "3.7.0"
  }
 },
 "nbformat": 4,
 "nbformat_minor": 2
}

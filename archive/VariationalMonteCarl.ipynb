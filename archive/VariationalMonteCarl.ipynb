{
 "cells": [
  {
   "cell_type": "markdown",
   "metadata": {},
   "source": [
    "# Variational Monte Carlo\n",
    "### For a 4 Particle System"
   ]
  },
  {
   "cell_type": "code",
   "execution_count": 173,
   "metadata": {},
   "outputs": [],
   "source": [
    "import numpy as np\n",
    "import random\n",
    "import math\n",
    "from matplotlib import pyplot as plt\n",
    "from IPython.display import clear_output\n",
    "from math import exp\n",
    "\n",
    "from pdb import set_trace"
   ]
  },
  {
   "cell_type": "code",
   "execution_count": 174,
   "metadata": {},
   "outputs": [
    {
     "data": {
      "text/plain": [
       "array([[ 1,  1, -1, -1],\n",
       "       [-1, -1,  1,  1],\n",
       "       [ 1, -1,  1, -1],\n",
       "       [-1,  1, -1,  1],\n",
       "       [ 1, -1, -1,  1],\n",
       "       [-1,  1,  1, -1]])"
      ]
     },
     "execution_count": 174,
     "metadata": {},
     "output_type": "execute_result"
    }
   ],
   "source": [
    "# 1 is up and 0 is down\n",
    "# these are all the possible ground configurations that might\n",
    "# contribute to the ground states\n",
    "\n",
    "# this version makes it readable\n",
    "states = np.asarray([\n",
    "    [1, 1, 0, 0],\n",
    "    [0, 0, 1, 1],\n",
    "    [1, 0, 1, 0],\n",
    "    [0, 1, 0, 1],\n",
    "    [1, 0, 0, 1],\n",
    "    [0, 1, 1, 0],\n",
    "])\n",
    "\n",
    "# this line turns all the 0s to -1s for computational purposes\n",
    "states = states*2 - 1; states"
   ]
  },
  {
   "cell_type": "code",
   "execution_count": null,
   "metadata": {},
   "outputs": [],
   "source": []
  },
  {
   "cell_type": "code",
   "execution_count": 175,
   "metadata": {},
   "outputs": [],
   "source": [
    "def get_random_state():\n",
    "    return random.choice(states)"
   ]
  },
  {
   "cell_type": "code",
   "execution_count": 176,
   "metadata": {},
   "outputs": [],
   "source": [
    "def get_variational_projection(state, alpha):\n",
    "    \"\"\"\n",
    "    This function computes the projection of state in the spin basis\n",
    "    onto the varitional wave function\n",
    "    \"\"\"\n",
    "    exponent = 0 \n",
    "    # FOO DO WE COUNT THE SUMS TWICE?\n",
    "    for i in range(len(state)):\n",
    "        for j in range(0, len(state)):\n",
    "            if i is not j:\n",
    "                new_exp_term = (alpha/(min(abs(i-j),abs((i-len(state)) - j), abs(i - (j-len(state))))))*state[i]*state[j]/4 # need the \"/4\" because spin 1/2 particles\n",
    "                exponent += new_exp_term\n",
    "    return math.exp(exponent)"
   ]
  },
  {
   "cell_type": "code",
   "execution_count": 177,
   "metadata": {},
   "outputs": [
    {
     "data": {
      "text/plain": [
       "0.6065306597126334"
      ]
     },
     "execution_count": 177,
     "metadata": {},
     "output_type": "execute_result"
    }
   ],
   "source": [
    "get_variational_projection(states[0], 1)"
   ]
  },
  {
   "cell_type": "code",
   "execution_count": 178,
   "metadata": {},
   "outputs": [],
   "source": [
    "def get_off_diagonal_configurations(state):\n",
    "    \"\"\"\n",
    "    This function generates a list of configurations that could\n",
    "    be flipped into the inputted by state by the application of\n",
    "    Raising or lowering operators (Check the hamiltonian equation)\n",
    "    \n",
    "    returns a list of configurations\n",
    "    \n",
    "    ***NOTE: This solution is computational intractable and might not\n",
    "    be the most optimal one\n",
    "    \"\"\"\n",
    "    state_copy = state.copy()\n",
    "    off_diagonal_configurations = list()\n",
    "    for i in range(len(state)):\n",
    "        if i == len(state) - 1:\n",
    "            if state[i] != state[0]:\n",
    "                state_copy[i] *= -1\n",
    "                state_copy[0] *= -1\n",
    "                off_diagonal_configurations.append(state_copy)\n",
    "            return off_diagonal_configurations\n",
    "        if state[i] != state[i+1]:\n",
    "            state_copy[i] *= -1\n",
    "            state_copy[i+1] *= -1\n",
    "            off_diagonal_configurations.append(state_copy)\n",
    "            state_copy = state.copy()"
   ]
  },
  {
   "cell_type": "code",
   "execution_count": 179,
   "metadata": {},
   "outputs": [],
   "source": [
    "def calculate_local_energy(state, alpha):\n",
    "    \"\"\"\n",
    "    This function calculates the local energy of a state\n",
    "    \"\"\"\n",
    "    # contribution from Z direction spin terms\n",
    "    energy = 0\n",
    "    state_proj = get_variational_projection(state, alpha)\n",
    "    for i in range(len(state)):\n",
    "        if i == len(state) - 1:\n",
    "            energy += (state_proj*state[i] * state[0])/4\n",
    "        else:\n",
    "            energy += (state_proj*state[i] * state[i+1])/4\n",
    "            \n",
    "    # contributions from off diagonal terms\n",
    "    non_diagonal_energies = 0\n",
    "    off_diag_config_states = get_off_diagonal_configurations(state)\n",
    "    for configuration in off_diag_config_states:\n",
    "        non_diagonal_energies += (-0.5)*get_variational_projection(configuration, alpha)\n",
    "    energy += non_diagonal_energies\n",
    "    return energy / state_proj"
   ]
  },
  {
   "cell_type": "code",
   "execution_count": 180,
   "metadata": {},
   "outputs": [],
   "source": [
    "def compute_R(trial_state, initial_state, alpha):\n",
    "    \"\"\"\n",
    "    Function compute \"R\", which is the ratio between the weight functions\n",
    "    of the initial state and the trial state.\n",
    "    \"\"\"\n",
    "    numerator = get_variational_projection(trial_state, alpha) **2\n",
    "    denominator = get_variational_projection(initial_state, alpha) **2\n",
    "    return numerator / denominator"
   ]
  },
  {
   "cell_type": "code",
   "execution_count": 181,
   "metadata": {},
   "outputs": [],
   "source": [
    "def random_flip(state):\n",
    "    \"\"\"\n",
    "    Randomly flips two bits of a state such\n",
    "    that there are still two up and two down\n",
    "    \"\"\"\n",
    "    choices = random.sample(list(range(0,len(state))), len(state))\n",
    "    flip1_index = choices.pop()\n",
    "    flip1_value = state[flip1_index]\n",
    "    state[flip1_index] *= -1\n",
    "    cont = True\n",
    "    while(cont):\n",
    "        flip2_index = choices.pop()\n",
    "        if state[flip2_index] != flip1_value:\n",
    "            state[flip2_index] *= -1\n",
    "            cont = False\n",
    "    return state"
   ]
  },
  {
   "cell_type": "code",
   "execution_count": 182,
   "metadata": {},
   "outputs": [],
   "source": [
    "def monte_carlo_estimation(alpha, num_steps):\n",
    "    x_initial = get_random_state()\n",
    "    running_total = 0\n",
    "    for i in range(num_steps):\n",
    "        x_trial = random_flip(x_initial.copy())\n",
    "        R = compute_R(x_trial, x_initial, alpha)\n",
    "        r = random.uniform(0,1)\n",
    "        if R > r:\n",
    "            x_initial = x_trial.copy()\n",
    "        running_total += calculate_local_energy(x_initial, alpha)\n",
    "    return running_total / num_steps"
   ]
  },
  {
   "cell_type": "markdown",
   "metadata": {},
   "source": [
    "## Scan The Solution Space to find the Optimal Alpha and the Minimum Energy"
   ]
  },
  {
   "cell_type": "code",
   "execution_count": 183,
   "metadata": {},
   "outputs": [],
   "source": [
    "def ground_truth_variational_energy(alpha):\n",
    "    \"\"\"\n",
    "    with respect to alpha\n",
    "    \"\"\"\n",
    "    numerator = -4*exp(-2*alpha) + -1*exp(-3*alpha)\n",
    "    denominator = 2*exp(-1*alpha) + exp(-3*alpha)\n",
    "    \n",
    "    return numerator/denominator"
   ]
  },
  {
   "cell_type": "code",
   "execution_count": 184,
   "metadata": {},
   "outputs": [],
   "source": [
    "def get_optimal_alpha(alphas, num_steps=5000):\n",
    "    energies = list()\n",
    "    for i, alpha in enumerate(alphas):\n",
    "        clear_output(wait=True)\n",
    "        print(f\"Alpha: {i+1}/{len(alphas)}\")\n",
    "        energies.append(monte_carlo_estimation(alpha, num_steps))\n",
    "    return alphas[np.argmin(energies)], np.argmin(energies), energies"
   ]
  },
  {
   "cell_type": "code",
   "execution_count": 185,
   "metadata": {},
   "outputs": [
    {
     "name": "stdout",
     "output_type": "stream",
     "text": [
      "Alpha: 20/20\n"
     ]
    },
    {
     "data": {
      "image/png": "[encoded data removed]",
      "text/plain": [
       "<Figure size 432x288 with 1 Axes>"
      ]
     },
     "metadata": {
      "needs_background": "light"
     },
     "output_type": "display_data"
    },
    {
     "name": "stdout",
     "output_type": "stream",
     "text": [
      "Optimal Alpha found at -0.5\n",
      "Minimum Energy: -1.9746840828436814\n"
     ]
    }
   ],
   "source": [
    "## alphas = [i*0.05 for i in range(20,40)]\n",
    "num_steps = 5000\n",
    "alphas = [i*0.5 for i in range(-10,10)]\n",
    "xs = np.asarray([i*0.1 for i in range(-200, 200)])\n",
    "ys = np.asarray([ground_truth_variational_energy(x) for x in xs])\n",
    "\n",
    "optimal_alpha, index, energies = get_optimal_alpha(alphas, num_steps=num_steps)\n",
    "\n",
    "plt.plot(xs, ys)\n",
    "plt.plot(alphas, energies)\n",
    "# plt.xlim(1,2)\n",
    "plt.ylim()\n",
    "plt.ylabel(\"Variational Energy\")\n",
    "plt.xlabel(\"Alpha\")\n",
    "plt.title(f\"Variational Energy at Various Alphas ({num_steps})\")\n",
    "plt.show()\n",
    "print(f\"Optimal Alpha found at {optimal_alpha}\")\n",
    "print(f\"Minimum Energy: {energies[index]}\")"
   ]
  },
  {
   "cell_type": "markdown",
   "metadata": {},
   "source": [
    "# Apply Sorella's Method for Finding the Optimal Alpha \n",
    "#### (Instead of Searching the Entire Solution Space, we can apply steapest descent)"
   ]
  },
  {
   "cell_type": "code",
   "execution_count": 36,
   "metadata": {},
   "outputs": [],
   "source": [
    "def get_variational_energy_derivative(E_var, alpha):\n",
    "    \"\"\"\n",
    "    This function gets the derivative of the variational energy with\n",
    "    respect to alpha. Currently, it just uses the expression I derived\n",
    "    analytically, but it will need to be rewritten for the sake of \n",
    "    generalizability\n",
    "    Args:\n",
    "    - E_var (float) : Variational Energy\n",
    "    - alpha (float) : alpha\n",
    "    return:\n",
    "    - derivative of E_var with respect to alpa (float)\n",
    "    \"\"\"\n",
    "    a = 8*exp(-2*alpha) + 3*exp(-3*alpha)\n",
    "    b = -2*exp(-1*alpha) - 3*exp(-3*alpha)\n",
    "    denom = 4*exp(-1*alpha) + 2*exp(-3*alpha)\n",
    "    return 2*(a - E_var*b)/denom"
   ]
  },
  {
   "cell_type": "markdown",
   "metadata": {},
   "source": [
    "### Use these functions to test if our analytical expression is correct"
   ]
  },
  {
   "cell_type": "code",
   "execution_count": 37,
   "metadata": {},
   "outputs": [],
   "source": [
    "def ground_truth_derivative(alpha):\n",
    "    numerator = 4*exp(alpha)*(exp(alpha) + 2*exp(2*alpha) - 1)\n",
    "    denominator = (2*exp(2*alpha) + 1) ** 2\n",
    "    return numerator/denominator"
   ]
  },
  {
   "cell_type": "code",
   "execution_count": 47,
   "metadata": {},
   "outputs": [],
   "source": [
    "test_alphas = np.asarray([i*0.1 for i in range(-200, 200)])\n",
    "gt_eng = np.asarray([ground_truth_variational_energy(alpha) for alpha in test_alphas])\n",
    "gt_der = np.asarray([ground_truth_derivative(alpha) for alpha in test_alphas])\n",
    "model_der = np.asarray([get_variational_energy_derivative(ground_truth_variational_energy(alpha), alpha) for alpha in test_alphas])"
   ]
  },
  {
   "cell_type": "code",
   "execution_count": 50,
   "metadata": {},
   "outputs": [
    {
     "data": {
      "image/png": "[encoded data removed]",
      "text/plain": [
       "<Figure size 432x288 with 1 Axes>"
      ]
     },
     "metadata": {
      "needs_background": "light"
     },
     "output_type": "display_data"
    },
    {
     "data": {
      "image/png": "[encoded data removed]",
      "text/plain": [
       "<Figure size 432x288 with 1 Axes>"
      ]
     },
     "metadata": {
      "needs_background": "light"
     },
     "output_type": "display_data"
    },
    {
     "data": {
      "image/png": "[encoded data removed]",
      "text/plain": [
       "<Figure size 432x288 with 1 Axes>"
      ]
     },
     "metadata": {
      "needs_background": "light"
     },
     "output_type": "display_data"
    }
   ],
   "source": [
    "plt.plot(test_alphas, gt_eng)\n",
    "plt.xlabel(\"Alpha\")\n",
    "plt.ylabel(\"Variational Energy\")\n",
    "plt.title(\"Ground Truth Energy Curve\")\n",
    "plt.show()\n",
    "\n",
    "plt.plot(test_alphas, gt_der, color=\"orange\")\n",
    "plt.xlabel(\"Alpha\")\n",
    "plt.ylabel(\"Variational Energy\")\n",
    "plt.title(\"Ground Truth Derivative Curve\")\n",
    "plt.show()\n",
    "\n",
    "plt.plot(test_alphas[0:400], model_der[0:400], color=\"green\")\n",
    "plt.xlabel(\"Alpha\")\n",
    "plt.ylabel(\"Variational Energy\")\n",
    "plt.title(\"Sorella's Model Derivative Curve\")\n",
    "plt.show()"
   ]
  },
  {
   "cell_type": "code",
   "execution_count": 49,
   "metadata": {},
   "outputs": [
    {
     "data": {
      "text/plain": [
       "-0.009105524512492481"
      ]
     },
     "execution_count": 49,
     "metadata": {},
     "output_type": "execute_result"
    }
   ],
   "source": [
    "model_der[np.argmin(gt_eng)]"
   ]
  },
  {
   "cell_type": "code",
   "execution_count": 38,
   "metadata": {},
   "outputs": [
    {
     "name": "stdout",
     "output_type": "stream",
     "text": [
      "Ground Truth\n",
      "Energy: -1.9738471015202512\n",
      "Derivative: -0.1378153500111318\n",
      "--------------------\n",
      "Analytical Function\n",
      "Model Prediction: -0.0037667815999372876\n"
     ]
    }
   ],
   "source": [
    "print(f\"Ground Truth\")\n",
    "alpha = 1\n",
    "\n",
    "energy = get_variational_energy_test(alpha); print(f\"Energy: {energy}\")\n",
    "gt = get_variational_energy_derivative_test(energy)\n",
    "derivative = get_variational_energy_derivative_test(alpha); print(f\"Derivative: {derivative}\")\n",
    "\n",
    "print(\"--\"*10)\n",
    "print(\"Analytical Function\")\n",
    "model = get_variational_energy_derivative(energy, alpha)\n",
    "print(f\"Model Prediction: {model}\")"
   ]
  },
  {
   "cell_type": "code",
   "execution_count": null,
   "metadata": {},
   "outputs": [],
   "source": []
  },
  {
   "cell_type": "code",
   "execution_count": null,
   "metadata": {},
   "outputs": [],
   "source": []
  },
  {
   "cell_type": "code",
   "execution_count": null,
   "metadata": {},
   "outputs": [],
   "source": []
  }
 ],
 "metadata": {
  "kernelspec": {
   "display_name": "Python 3",
   "language": "python",
   "name": "python3"
  },
  "language_info": {
   "codemirror_mode": {
    "name": "ipython",
    "version": 3
   },
   "file_extension": ".py",
   "mimetype": "text/x-python",
   "name": "python",
   "nbconvert_exporter": "python",
   "pygments_lexer": "ipython3",
   "version": "3.7.0"
  }
 },
 "nbformat": 4,
 "nbformat_minor": 2
}

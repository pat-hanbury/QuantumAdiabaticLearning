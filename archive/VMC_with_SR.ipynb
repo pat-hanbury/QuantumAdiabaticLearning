{
 "cells": [
  {
   "cell_type": "markdown",
   "metadata": {},
   "source": [
    "# Variational Monte Carlo with Stochastic Reconfiguration"
   ]
  },
  {
   "cell_type": "code",
   "execution_count": 1,
   "metadata": {},
   "outputs": [],
   "source": [
    "import numpy as np\n",
    "import random\n",
    "import math\n",
    "from matplotlib import pyplot as plt\n",
    "from IPython.display import clear_output\n",
    "from math import exp\n",
    "\n",
    "from pdb import set_trace"
   ]
  },
  {
   "cell_type": "markdown",
   "metadata": {},
   "source": [
    "## Make sure that new \"Wave Function\" Works\n",
    "This is checking that the code for generating the wave function\n",
    "and variational projection works where the ratio\n",
    "between all aphas is fixed"
   ]
  },
  {
   "cell_type": "code",
   "execution_count": 2,
   "metadata": {},
   "outputs": [],
   "source": [
    "# these are all the possible ground configurations that might\n",
    "# contribute to the ground states\n",
    "\n",
    "def get_random_state(num_particles):\n",
    "    state = []\n",
    "    positive_positions = random.sample(range(0, num_particles - 1), int(num_particles/2))\n",
    "    for i in range(num_particles):\n",
    "        if i in positive_positions:\n",
    "            state.append(1)\n",
    "        else:\n",
    "            state.append(-1)\n",
    "    return np.asarray(state)"
   ]
  },
  {
   "cell_type": "code",
   "execution_count": 174,
   "metadata": {},
   "outputs": [],
   "source": [
    "def get_variational_projection(state, alpha):\n",
    "    \"\"\"\n",
    "    The projection of input `state` onto the variational\n",
    "    wave function. Ie: returns e^omega for the particular\n",
    "    state\n",
    "    N === number of particles\n",
    "    Args:\n",
    "    - state : N length np array of state represented as +1 or -1\n",
    "    - alpha : N-1 length of np array of each variational parameter\n",
    "    Return:\n",
    "    - coeff (float)\n",
    "    \"\"\"\n",
    "    try:\n",
    "        return exp(0.5*state[0]*np.dot(state[1:],alpha))\n",
    "    except OverflowError:\n",
    "        print(f\"Error: Overflow. State = {state}   alpha = {alpha}\")\n",
    "        return None"
   ]
  },
  {
   "cell_type": "code",
   "execution_count": 125,
   "metadata": {},
   "outputs": [],
   "source": [
    "def get_off_diagonal_configurations(state):\n",
    "    \"\"\"\n",
    "    This function generates a list of configurations that could\n",
    "    be flipped into the inputted by state by the application of\n",
    "    Raising or lowering operators (Check the hamiltonian equation)\n",
    "    \n",
    "    returns a list of configurations\n",
    "    \n",
    "    ***NOTE: This solution is computational intractable and might not\n",
    "    be the most optimal one\n",
    "    \"\"\"\n",
    "    state_copy = state.copy()\n",
    "    off_diagonal_configurations = list()\n",
    "    for i in range(len(state)):\n",
    "        if i == len(state) - 1:\n",
    "            if state[i] != state[0]:\n",
    "                state_copy[i] *= -1\n",
    "                state_copy[0] *= -1\n",
    "                off_diagonal_configurations.append(state_copy)\n",
    "            return off_diagonal_configurations\n",
    "        if state[i] != state[i+1]:\n",
    "            state_copy[i] *= -1\n",
    "            state_copy[i+1] *= -1\n",
    "            off_diagonal_configurations.append(state_copy)\n",
    "            state_copy = state.copy()"
   ]
  },
  {
   "cell_type": "code",
   "execution_count": 126,
   "metadata": {},
   "outputs": [],
   "source": [
    "do_print = False"
   ]
  },
  {
   "cell_type": "code",
   "execution_count": 170,
   "metadata": {},
   "outputs": [],
   "source": [
    "def calculate_local_energy(state, alpha):\n",
    "    \"\"\"\n",
    "    This function calculates the local energy of a state\n",
    "    \"\"\"\n",
    "    # print(f\"State for calc local energy: {state}\")\n",
    "    # contribution from Z direction spin terms\n",
    "    energy = 0\n",
    "    state_proj = get_variational_projection(state, alpha)\n",
    "    for i in range(len(state)):\n",
    "        if i == len(state) - 1:\n",
    "            energy += (state_proj*state[i] * state[0])/4\n",
    "        else:\n",
    "            energy += (state_proj*state[i] * state[i+1])/4\n",
    "    diagonal_energies = energy\n",
    "            \n",
    "    # contributions from off diagonal terms\n",
    "    non_diagonal_energies = 0\n",
    "    off_diag_config_states = get_off_diagonal_configurations(state)\n",
    "    for configuration in off_diag_config_states:\n",
    "        non_diagonal_energies += (-0.5)*get_variational_projection(configuration, alpha)\n",
    "    energy += non_diagonal_energies\n",
    "    \n",
    "    if do_print:\n",
    "        print(f\"Non-diag config: {off_diag_config_states}\")\n",
    "        print(f\"Diag Energy: {diagonal_energies}\")\n",
    "        print(f\"Non Diag energies: {non_diagonal_energies}\")\n",
    "    \n",
    "    \n",
    "    return energy / state_proj"
   ]
  },
  {
   "cell_type": "code",
   "execution_count": 171,
   "metadata": {},
   "outputs": [
    {
     "name": "stdout",
     "output_type": "stream",
     "text": [
      "Non-diag config: [array([-1,  1,  1, -1]), array([ 1,  1, -1, -1]), array([ 1, -1, -1,  1]), array([-1, -1,  1,  1])]\n",
      "Diag Energy: -1.3247847587288655\n",
      "Non Diag energies: -2.1965702806156515\n"
     ]
    },
    {
     "data": {
      "text/plain": [
       "-2.6580582363608003"
      ]
     },
     "execution_count": 171,
     "metadata": {},
     "output_type": "execute_result"
    }
   ],
   "source": [
    "calculate_local_energy(np.asarray([1, -1, 1, -1]), -0.75*np.asarray([1, 0.5, 1]))"
   ]
  },
  {
   "cell_type": "code",
   "execution_count": 143,
   "metadata": {},
   "outputs": [],
   "source": [
    "def compute_R(trial_state, initial_state, alpha):\n",
    "    \"\"\"\n",
    "    Function compute \"R\", which is the ratio between the weight functions\n",
    "    of the initial state and the trial state.\n",
    "    \"\"\"\n",
    "    numerator = get_variational_projection(trial_state, alpha) **2\n",
    "    denominator = get_variational_projection(initial_state, alpha) **2\n",
    "    if denominator < numerator:\n",
    "        return 2.0\n",
    "    return numerator / denominator"
   ]
  },
  {
   "cell_type": "code",
   "execution_count": 144,
   "metadata": {},
   "outputs": [],
   "source": [
    "def random_flip(state):\n",
    "    \"\"\"\n",
    "    Randomly flips two bits of a state such\n",
    "    that there are still two up and two down\n",
    "    \"\"\"\n",
    "    choices = random.sample(list(range(0,len(state))), len(state))\n",
    "    flip1_index = choices.pop()\n",
    "    flip1_value = state[flip1_index]\n",
    "    state[flip1_index] *= -1\n",
    "    cont = True\n",
    "    while(cont):\n",
    "        flip2_index = choices.pop()\n",
    "        if state[flip2_index] != flip1_value:\n",
    "            state[flip2_index] *= -1\n",
    "            cont = False\n",
    "    return state"
   ]
  },
  {
   "cell_type": "code",
   "execution_count": 145,
   "metadata": {},
   "outputs": [],
   "source": [
    "def monte_carlo_estimation(alpha, num_steps, num_particles):\n",
    "    # only works for even number of particles\n",
    "    assert num_particles %2 == 0, \"Number of particles must be even\"\n",
    "\n",
    "    x_initial = get_random_state(num_particles)\n",
    "    running_total = 0\n",
    "    for i in range(num_steps):\n",
    "        if i % 750 == 0:\n",
    "            clear_output(wait=True)\n",
    "            print(f\"Alpha: {alpha[0]} -- Step: {i+1}/{num_steps}\")\n",
    "        x_trial = random_flip(x_initial.copy())\n",
    "        R = compute_R(x_trial, x_initial, alpha)\n",
    "        r = random.uniform(0,1)\n",
    "        if R > r:\n",
    "            x_initial = x_trial.copy()\n",
    "        running_total += calculate_local_energy(x_initial, alpha)\n",
    "    return running_total / num_steps"
   ]
  },
  {
   "cell_type": "code",
   "execution_count": 146,
   "metadata": {},
   "outputs": [],
   "source": [
    "def get_optimal_alpha(alpha_factors, num_particles, num_steps=5000):\n",
    "    energies = list()\n",
    "    for i, alpha_factor in enumerate(alpha_factors):\n",
    "        alpha = alpha_factor*np.asarray([1,0.5,1])\n",
    "        energies.append(monte_carlo_estimation(alpha, num_steps, num_particles))\n",
    "    return alpha_factors[np.argmin(energies)], np.argmin(energies), energies"
   ]
  },
  {
   "cell_type": "code",
   "execution_count": 147,
   "metadata": {},
   "outputs": [],
   "source": [
    "# This function was derived analytically, and represents\n",
    "# what we should expect out of the energy curve\n",
    "\n",
    "def ground_truth_variational_energy(alpha):\n",
    "    \"\"\"\n",
    "    with respect to alpha\n",
    "    \"\"\"\n",
    "    numerator = -4*exp(-2*alpha) + -1*exp(-3*alpha)\n",
    "    denominator = 2*exp(-1*alpha) + exp(-3*alpha)\n",
    "    \n",
    "    return numerator/denominator"
   ]
  },
  {
   "cell_type": "code",
   "execution_count": 148,
   "metadata": {},
   "outputs": [
    {
     "name": "stdout",
     "output_type": "stream",
     "text": [
      "Alpha: 4.0 -- Step: 4501/5000\n"
     ]
    },
    {
     "data": {
      "image/png": "[encoded data removed]",
      "text/plain": [
       "<Figure size 432x288 with 1 Axes>"
      ]
     },
     "metadata": {
      "needs_background": "light"
     },
     "output_type": "display_data"
    },
    {
     "name": "stdout",
     "output_type": "stream",
     "text": [
      "Optimal Alpha Factor found at -3\n",
      "Minimum Energy: -1.9970677930834289\n"
     ]
    }
   ],
   "source": [
    "## alphas = [i*0.05 for i in range(20,40)]\n",
    "num_steps = 5000\n",
    "num_particles = 4\n",
    "alpha_factors = [i*1 for i in range(-5,5)]\n",
    "xs = np.asarray([i*1 for i in range(-5, 5)])\n",
    "ys = np.asarray([ground_truth_variational_energy(x) for x in xs])\n",
    "\n",
    "optimal_alpha_factor, index, energies = get_optimal_alpha(alpha_factors, num_particles, num_steps=num_steps)\n",
    "\n",
    "plt.plot(alpha_factors, energies)\n",
    "# plt.xlim(1,2)\n",
    "plt.ylim()\n",
    "plt.ylabel(\"Variational Energy\")\n",
    "plt.xlabel(\"Alpha\")\n",
    "plt.title(f\"Variational Energy at Various Alphas ({num_steps})\")\n",
    "plt.show()\n",
    "print(f\"Optimal Alpha Factor found at {optimal_alpha_factor}\")\n",
    "print(f\"Minimum Energy: {energies[index]}\")"
   ]
  },
  {
   "cell_type": "markdown",
   "metadata": {},
   "source": [
    "## Add Stochastic Reconstruction"
   ]
  },
  {
   "cell_type": "code",
   "execution_count": 198,
   "metadata": {},
   "outputs": [],
   "source": [
    "# functions to calculate variables of interest\n",
    "# with a given state as input\n",
    "# expection values will be calcualate by averaging\n",
    "# these functions over many states\n",
    "\n",
    "# this are intermediate variables defined in my\n",
    "# physical notebook\n",
    "\n",
    "def calculate_delta_x(state, alpha):\n",
    "    \"\"\"\n",
    "    This function gives the delta vector for a particular\n",
    "    state. The delta vector is a vector with the derivative\n",
    "    of the wave function with respect to the particular\n",
    "    indexed paramater. The len the vector is the \n",
    "    number of particles - 1 which the number of \n",
    "    variational paramters.\n",
    "    args:\n",
    "    state - number array length N\n",
    "    return:\n",
    "    - delta_x : array length N-1 fo derivatives\n",
    "    \"\"\"\n",
    "    return 0.5*state[0]*np.multiply(state[1:], alpha) # before this was 0.5\n",
    " \n",
    "def calculate_P_of_x(delta_x):\n",
    "    \n",
    "    \"\"\"\n",
    "    Args:\n",
    "    delta_x : array outputted by the calculate_delta_x function\n",
    "    returns:\n",
    "    - matrix of size delta_x by delta_x where \n",
    "    value(i,j) = delta_x[i]*delta_x[j]\n",
    "    \"\"\"\n",
    "    temp1 = np.expand_dims(delta_x, axis=0)\n",
    "    temp1 = np.repeat(temp1, len(delta_x), axis=0)\n",
    "    temp2 = temp1.T\n",
    "    return np.multiply(temp1, temp2)\n",
    "\n",
    "def calculate_Q_of_x(delta_x, local_energy):\n",
    "    return local_energy*delta_x"
   ]
  },
  {
   "cell_type": "code",
   "execution_count": 199,
   "metadata": {},
   "outputs": [],
   "source": [
    "do_print = False"
   ]
  },
  {
   "cell_type": "code",
   "execution_count": 200,
   "metadata": {},
   "outputs": [],
   "source": [
    "def monte_carlo_estimation(alpha, num_steps, num_particles):\n",
    "    \"\"\"\n",
    "    This function calculates expectation values for the \n",
    "    4 variables of interest P, Q, \n",
    "    \"\"\"\n",
    "    # only works for even number of particles\n",
    "    assert num_particles %2 == 0, \"Number of particles must be even\"\n",
    "\n",
    "    x_initial = get_random_state(num_particles)\n",
    "\n",
    "    # initialize running variables\n",
    "    expectation_local_energy = 0\n",
    "    expection_delta = 0\n",
    "    expectation_P = 0\n",
    "    expectation_Q =0\n",
    "    \n",
    "    for i in range(num_steps):\n",
    "        clear_output(wait=True)\n",
    "        if False:\n",
    "            if i % 500 == 0:\n",
    "                print(f\"Alpha: {alpha[0]} -- Step: {i+1}/{num_steps}\")\n",
    "        x_trial = random_flip(x_initial.copy())\n",
    "        R = compute_R(x_trial, x_initial, alpha)\n",
    "        r = random.uniform(0,1)\n",
    "        if R > r:\n",
    "            x_initial = x_trial.copy()\n",
    "        # these \"expectation\" variables are running totals of the variables/arrays/matrixes.\n",
    "        # they represent the sum of all the values for all the trial state inputs (x)\n",
    "        # and will be normalized by dividing by the number of steps after the simulation\n",
    "        delta_x = calculate_delta_x(x_initial, alpha)\n",
    "        local_energy = calculate_local_energy(x_initial, alpha)\n",
    "        P_of_x = calculate_P_of_x(delta_x)\n",
    "        Q_of_x = calculate_Q_of_x(delta_x, local_energy)\n",
    "\n",
    "        if do_print:\n",
    "            print(f\"State input: {x_initial}\")\n",
    "            print(f\"Local Energy: {local_energy}\")\n",
    "            print(f\"P(x) = {P_of_x}\")\n",
    "            print(f\"Q(x) = {Q_of_x}\")\n",
    "            print(f\"delta(x) = {delta_x}\")\n",
    "        \n",
    "        expectation_local_energy += local_energy\n",
    "        expection_delta += delta_x\n",
    "        expectation_P += P_of_x\n",
    "        expectation_Q += Q_of_x\n",
    "    # normalize expectation values\n",
    "    expectation_local_energy = expectation_local_energy / num_steps\n",
    "    expectation_delta = expection_delta / num_steps\n",
    "    expectation_P = expectation_P / num_steps\n",
    "    expectation_Q = expectation_Q / num_steps\n",
    "    return expectation_local_energy, expectation_delta, expectation_P, expectation_Q"
   ]
  },
  {
   "cell_type": "code",
   "execution_count": 201,
   "metadata": {},
   "outputs": [],
   "source": [
    "def get_random_alpha(num_particles):\n",
    "    alpha = random.sample(range(1, 100), num_particles -1 )\n",
    "    alpha = np.asarray(alpha)\n",
    "    alpha = alpha - 50\n",
    "    alpha = alpha / 25\n",
    "    return alpha"
   ]
  },
  {
   "cell_type": "code",
   "execution_count": 202,
   "metadata": {},
   "outputs": [],
   "source": [
    "def update_variational_parameters(alpha, exp_local_energy, exp_delta, exp_P, exp_Q, lr=0.03):\n",
    "    \"\"\"\n",
    "    This function applies the SR technique.\n",
    "    \"\"\"\n",
    "    \n",
    "    # cap the change in alpha\n",
    "    d_alpha_cap = 0.3\n",
    "    \n",
    "    # contruction the f vector\n",
    "    f = exp_Q - exp_delta*exp_local_energy\n",
    "    \n",
    "    \n",
    "    # constructing the S matrix\n",
    "    temp1 = np.expand_dims(exp_delta, axis=0)\n",
    "    temp1 = np.repeat(temp1, len(exp_delta), axis=0)\n",
    "    temp2 = temp1.T\n",
    "    temp3 = np.multiply(temp1, temp2)\n",
    "    S = exp_P - temp3\n",
    "    \n",
    "    if do_print:\n",
    "        print(f\"f vector = {f}\")\n",
    "        print(f\"S Matrix = {S}\")\n",
    "    \n",
    "    # perform the updates\n",
    "    d_alpha = alpha - lr*np.matmul(np.linalg.inv(S), f)\n",
    "    \n",
    "    # cap the changes in each parameter\n",
    "    for i, param in enumerate(alpha):\n",
    "        if param > d_alpha_cap:\n",
    "            d_alpha[i] = d_alpha_cap\n",
    "        if param < d_alpha_cap:\n",
    "            d_alpha[i] = -1*d_alpha_cap\n",
    "            \n",
    "    alpha = d_alpha\n",
    "    return alpha"
   ]
  },
  {
   "cell_type": "code",
   "execution_count": 203,
   "metadata": {},
   "outputs": [
    {
     "name": "stdout",
     "output_type": "stream",
     "text": [
      "[[0. 1. 2.]\n",
      " [3. 4. 5.]\n",
      " [6. 7. 8.]] [0. 1. 2.]\n"
     ]
    },
    {
     "data": {
      "text/plain": [
       "array([ 5., 14., 23.])"
      ]
     },
     "execution_count": 203,
     "metadata": {},
     "output_type": "execute_result"
    }
   ],
   "source": [
    "x1 = np.arange(9.0).reshape((3, 3))\n",
    "x2 = np.arange(3.0); print(x1, x2)\n",
    "np.matmul(x1, x2)"
   ]
  },
  {
   "cell_type": "code",
   "execution_count": 204,
   "metadata": {},
   "outputs": [],
   "source": [
    "def run_stochastic_reconfiguration(num_steps, num_particles, lr):\n",
    "    show_plot = True\n",
    "    \n",
    "    alpha = get_random_alpha(num_particles)\n",
    "    \n",
    "    # get inital condition\n",
    "    alphas = [] # list of all alphas that we test\n",
    "    alpha1s = []\n",
    "    alpha2s = []\n",
    "    alpha3s = []\n",
    "    energies = [] # list of all energies corresponding to those alphas\n",
    "    \n",
    "    # pre loop conditions\n",
    "    cont = True\n",
    "    min_energy = 99999999999\n",
    "    latest_energy = min_energy\n",
    "    energy = latest_energy\n",
    "    time_caught_in_local_min = 0\n",
    "    loop_count = 0\n",
    "    \n",
    "    reset_count = 0 # the number of times the alpha was randomly initialized\n",
    "    \n",
    "    while(cont):\n",
    "        try:\n",
    "            clear_output(wait=True)\n",
    "            \n",
    "            if not show_plot:\n",
    "                if loop_count % 1 == 0:\n",
    "                    print(f\"\"\"Optimal Energy: %3.2f \n",
    "                    \\nCurrent Energy: %3.2f \n",
    "                    \\nloop count: %i\n",
    "                    \\nCurrent Alpha: {alpha}\n",
    "                    \"\"\" % (min_energy, energy, loop_count))\n",
    "            alphas.append(alpha)\n",
    "            alpha1s.append(alpha[0])\n",
    "            alpha2s.append(alpha[1])\n",
    "            alpha3s.append(alpha[2])\n",
    "\n",
    "            energy, exp_delta, exp_P, exp_Q = monte_carlo_estimation(alpha, num_steps, num_particles)\n",
    "            energies.append(energy)\n",
    "            \n",
    "            if show_plot:\n",
    "                plt.plot(alpha1s, energies)\n",
    "                plt.plot(alpha2s, energies)\n",
    "                plt.plot(alpha3s, energies)\n",
    "                plt.show()\n",
    "            # if this energy is lowest, update optimal measurements,\n",
    "            # and assume you can do better (set end count, i, to zero)\n",
    "            if energy < (latest_energy - 0.01):\n",
    "                time_caught_in_local_min = 0\n",
    "                if energy < min_energy:\n",
    "                    min_energy = energy\n",
    "                    opt_alpha = alpha\n",
    "            # if not, inncrement the end count. If you don't get better\n",
    "            # after 400 tries, it's probably time to stop\n",
    "            else:\n",
    "                time_caught_in_local_min += 1\n",
    "                if time_caught_in_local_min == 10:\n",
    "                    if reset_count == 4:\n",
    "                        cont = False\n",
    "                    alpha = get_random_alpha(num_particles)\n",
    "                    reset_count += 1\n",
    "                    \n",
    "            latest_energy = energy\n",
    "\n",
    "\n",
    "            alpha = update_variational_parameters(alpha, energy, exp_delta, exp_P, exp_Q, lr)\n",
    "\n",
    "            loop_count += 1\n",
    "        except KeyboardInterrupt:\n",
    "            cont = False\n",
    "        \n",
    "    print(f\"Optimal Alpha: {opt_alpha}\" )\n",
    "    print(\"Optimal Energy: %3.2f\" % min_energy)\n",
    "\n",
    "    return opt_alpha, min_energy, alphas, energies"
   ]
  },
  {
   "cell_type": "code",
   "execution_count": 209,
   "metadata": {},
   "outputs": [
    {
     "data": {
      "image/png": "[encoded data removed]",
      "text/plain": [
       "<Figure size 432x288 with 1 Axes>"
      ]
     },
     "metadata": {
      "needs_background": "light"
     },
     "output_type": "display_data"
    },
    {
     "ename": "LinAlgError",
     "evalue": "Singular matrix",
     "output_type": "error",
     "traceback": [
      "\u001b[0;31m---------------------------------------------------------------------------\u001b[0m",
      "\u001b[0;31mLinAlgError\u001b[0m                               Traceback (most recent call last)",
      "\u001b[0;32m<ipython-input-209-e2b098415a22>\u001b[0m in \u001b[0;36m<module>\u001b[0;34m()\u001b[0m\n\u001b[0;32m----> 1\u001b[0;31m \u001b[0mrun_stochastic_reconfiguration\u001b[0m\u001b[0;34m(\u001b[0m\u001b[0;36m1000\u001b[0m\u001b[0;34m,\u001b[0m \u001b[0;36m4\u001b[0m\u001b[0;34m,\u001b[0m \u001b[0mlr\u001b[0m \u001b[0;34m=\u001b[0m \u001b[0;36m0.3\u001b[0m\u001b[0;34m)\u001b[0m\u001b[0;34m\u001b[0m\u001b[0m\n\u001b[0m",
      "\u001b[0;32m<ipython-input-204-38b438b8de76>\u001b[0m in \u001b[0;36mrun_stochastic_reconfiguration\u001b[0;34m(num_steps, num_particles, lr)\u001b[0m\n\u001b[1;32m     65\u001b[0m \u001b[0;34m\u001b[0m\u001b[0m\n\u001b[1;32m     66\u001b[0m \u001b[0;34m\u001b[0m\u001b[0m\n\u001b[0;32m---> 67\u001b[0;31m             \u001b[0malpha\u001b[0m \u001b[0;34m=\u001b[0m \u001b[0mupdate_variational_parameters\u001b[0m\u001b[0;34m(\u001b[0m\u001b[0malpha\u001b[0m\u001b[0;34m,\u001b[0m \u001b[0menergy\u001b[0m\u001b[0;34m,\u001b[0m \u001b[0mexp_delta\u001b[0m\u001b[0;34m,\u001b[0m \u001b[0mexp_P\u001b[0m\u001b[0;34m,\u001b[0m \u001b[0mexp_Q\u001b[0m\u001b[0;34m,\u001b[0m \u001b[0mlr\u001b[0m\u001b[0;34m)\u001b[0m\u001b[0;34m\u001b[0m\u001b[0m\n\u001b[0m\u001b[1;32m     68\u001b[0m \u001b[0;34m\u001b[0m\u001b[0m\n\u001b[1;32m     69\u001b[0m             \u001b[0mloop_count\u001b[0m \u001b[0;34m+=\u001b[0m \u001b[0;36m1\u001b[0m\u001b[0;34m\u001b[0m\u001b[0m\n",
      "\u001b[0;32m<ipython-input-202-3d1bd749b967>\u001b[0m in \u001b[0;36mupdate_variational_parameters\u001b[0;34m(alpha, exp_local_energy, exp_delta, exp_P, exp_Q, lr)\u001b[0m\n\u001b[1;32m     23\u001b[0m \u001b[0;34m\u001b[0m\u001b[0m\n\u001b[1;32m     24\u001b[0m     \u001b[0;31m# perform the updates\u001b[0m\u001b[0;34m\u001b[0m\u001b[0;34m\u001b[0m\u001b[0m\n\u001b[0;32m---> 25\u001b[0;31m     \u001b[0md_alpha\u001b[0m \u001b[0;34m=\u001b[0m \u001b[0malpha\u001b[0m \u001b[0;34m-\u001b[0m \u001b[0mlr\u001b[0m\u001b[0;34m*\u001b[0m\u001b[0mnp\u001b[0m\u001b[0;34m.\u001b[0m\u001b[0mmatmul\u001b[0m\u001b[0;34m(\u001b[0m\u001b[0mnp\u001b[0m\u001b[0;34m.\u001b[0m\u001b[0mlinalg\u001b[0m\u001b[0;34m.\u001b[0m\u001b[0minv\u001b[0m\u001b[0;34m(\u001b[0m\u001b[0mS\u001b[0m\u001b[0;34m)\u001b[0m\u001b[0;34m,\u001b[0m \u001b[0mf\u001b[0m\u001b[0;34m)\u001b[0m\u001b[0;34m\u001b[0m\u001b[0m\n\u001b[0m\u001b[1;32m     26\u001b[0m \u001b[0;34m\u001b[0m\u001b[0m\n\u001b[1;32m     27\u001b[0m     \u001b[0;31m# cap the changes in each parameter\u001b[0m\u001b[0;34m\u001b[0m\u001b[0;34m\u001b[0m\u001b[0m\n",
      "\u001b[0;32m~/miniconda3/lib/python3.7/site-packages/numpy/linalg/linalg.py\u001b[0m in \u001b[0;36minv\u001b[0;34m(a)\u001b[0m\n\u001b[1;32m    530\u001b[0m     \u001b[0msignature\u001b[0m \u001b[0;34m=\u001b[0m \u001b[0;34m'D->D'\u001b[0m \u001b[0;32mif\u001b[0m \u001b[0misComplexType\u001b[0m\u001b[0;34m(\u001b[0m\u001b[0mt\u001b[0m\u001b[0;34m)\u001b[0m \u001b[0;32melse\u001b[0m \u001b[0;34m'd->d'\u001b[0m\u001b[0;34m\u001b[0m\u001b[0m\n\u001b[1;32m    531\u001b[0m     \u001b[0mextobj\u001b[0m \u001b[0;34m=\u001b[0m \u001b[0mget_linalg_error_extobj\u001b[0m\u001b[0;34m(\u001b[0m\u001b[0m_raise_linalgerror_singular\u001b[0m\u001b[0;34m)\u001b[0m\u001b[0;34m\u001b[0m\u001b[0m\n\u001b[0;32m--> 532\u001b[0;31m     \u001b[0mainv\u001b[0m \u001b[0;34m=\u001b[0m \u001b[0m_umath_linalg\u001b[0m\u001b[0;34m.\u001b[0m\u001b[0minv\u001b[0m\u001b[0;34m(\u001b[0m\u001b[0ma\u001b[0m\u001b[0;34m,\u001b[0m \u001b[0msignature\u001b[0m\u001b[0;34m=\u001b[0m\u001b[0msignature\u001b[0m\u001b[0;34m,\u001b[0m \u001b[0mextobj\u001b[0m\u001b[0;34m=\u001b[0m\u001b[0mextobj\u001b[0m\u001b[0;34m)\u001b[0m\u001b[0;34m\u001b[0m\u001b[0m\n\u001b[0m\u001b[1;32m    533\u001b[0m     \u001b[0;32mreturn\u001b[0m \u001b[0mwrap\u001b[0m\u001b[0;34m(\u001b[0m\u001b[0mainv\u001b[0m\u001b[0;34m.\u001b[0m\u001b[0mastype\u001b[0m\u001b[0;34m(\u001b[0m\u001b[0mresult_t\u001b[0m\u001b[0;34m,\u001b[0m \u001b[0mcopy\u001b[0m\u001b[0;34m=\u001b[0m\u001b[0;32mFalse\u001b[0m\u001b[0;34m)\u001b[0m\u001b[0;34m)\u001b[0m\u001b[0;34m\u001b[0m\u001b[0m\n\u001b[1;32m    534\u001b[0m \u001b[0;34m\u001b[0m\u001b[0m\n",
      "\u001b[0;32m~/miniconda3/lib/python3.7/site-packages/numpy/linalg/linalg.py\u001b[0m in \u001b[0;36m_raise_linalgerror_singular\u001b[0;34m(err, flag)\u001b[0m\n\u001b[1;32m     87\u001b[0m \u001b[0;34m\u001b[0m\u001b[0m\n\u001b[1;32m     88\u001b[0m \u001b[0;32mdef\u001b[0m \u001b[0m_raise_linalgerror_singular\u001b[0m\u001b[0;34m(\u001b[0m\u001b[0merr\u001b[0m\u001b[0;34m,\u001b[0m \u001b[0mflag\u001b[0m\u001b[0;34m)\u001b[0m\u001b[0;34m:\u001b[0m\u001b[0;34m\u001b[0m\u001b[0m\n\u001b[0;32m---> 89\u001b[0;31m     \u001b[0;32mraise\u001b[0m \u001b[0mLinAlgError\u001b[0m\u001b[0;34m(\u001b[0m\u001b[0;34m\"Singular matrix\"\u001b[0m\u001b[0;34m)\u001b[0m\u001b[0;34m\u001b[0m\u001b[0m\n\u001b[0m\u001b[1;32m     90\u001b[0m \u001b[0;34m\u001b[0m\u001b[0m\n\u001b[1;32m     91\u001b[0m \u001b[0;32mdef\u001b[0m \u001b[0m_raise_linalgerror_nonposdef\u001b[0m\u001b[0;34m(\u001b[0m\u001b[0merr\u001b[0m\u001b[0;34m,\u001b[0m \u001b[0mflag\u001b[0m\u001b[0;34m)\u001b[0m\u001b[0;34m:\u001b[0m\u001b[0;34m\u001b[0m\u001b[0m\n",
      "\u001b[0;31mLinAlgError\u001b[0m: Singular matrix"
     ]
    }
   ],
   "source": [
    "run_stochastic_reconfiguration(1000, 4, lr = 0.3)"
   ]
  },
  {
   "cell_type": "code",
   "execution_count": 195,
   "metadata": {},
   "outputs": [],
   "source": [
    "def run_stochastic_reconfiguration_debug(num_steps, num_particles, lr):\n",
    "    show_plot = False\n",
    "    \n",
    "    alpha =np.asarray([1, -0.5, -2])\n",
    "    \n",
    "    # get inital condition\n",
    "    alphas = [] # list of all alphas that we test\n",
    "    alpha1s = []\n",
    "    alpha2s = []\n",
    "    alpha3s = []\n",
    "    energies = [] # list of all energies corresponding to those alphas\n",
    "    \n",
    "    \n",
    "    # pre loop conditions\n",
    "    cont = True\n",
    "    min_energy = 99999999999\n",
    "    latest_energy = min_energy\n",
    "    energy = latest_energy\n",
    "    time_caught_in_local_min = 0\n",
    "    loop_count = 0\n",
    "    \n",
    "    reset_count = 0 # the number of times the alpha was randomly initialized\n",
    "    \n",
    "    while(cont):\n",
    "        try:\n",
    "            clear_output(wait=True)\n",
    "            \n",
    "            if not show_plot:\n",
    "                if loop_count % 1 == 0:\n",
    "                    print(f\"\"\"Optimal Energy: %3.2f \n",
    "                    \\nCurrent Energy: %3.2f \n",
    "                    \\nloop count: %i\n",
    "                    \\nCurrent Alpha: {alpha}\n",
    "                    \"\"\" % (min_energy, energy, loop_count))\n",
    "            alphas.append(alpha)\n",
    "            alpha1s.append(alpha[0])\n",
    "            alpha2s.append(alpha[1])\n",
    "            alpha3s.append(alpha[2])\n",
    "\n",
    "            energy, exp_delta, exp_P, exp_Q = monte_carlo_estimation(alpha, num_steps, num_particles)\n",
    "            energies.append(energy)\n",
    "            \n",
    "            if show_plot:\n",
    "                plt.plot(alpha1s, energies)\n",
    "                plt.plot(alpha2s, energies)\n",
    "                plt.plot(alpha3s, energies)\n",
    "                plt.show()\n",
    "            # if this energy is lowest, update optimal measurements,\n",
    "            # and assume you can do better (set end count, i, to zero)\n",
    "            if energy < (latest_energy - 0.01):\n",
    "                time_caught_in_local_min = 0\n",
    "                if energy < min_energy:\n",
    "                    min_energy = energy\n",
    "                    opt_alpha = alpha\n",
    "            # if not, inncrement the end count. If you don't get better\n",
    "            # after 400 tries, it's probably time to stop\n",
    "            else:\n",
    "                time_caught_in_local_min += 1\n",
    "                if time_caught_in_local_min == 10:\n",
    "                    if reset_count == 4:\n",
    "                        cont = False\n",
    "                    alpha = get_random_alpha(num_particles)\n",
    "                    reset_count += 1\n",
    "                    \n",
    "            latest_energy = energy\n",
    "\n",
    "\n",
    "            alpha = update_variational_parameters(alpha, energy, exp_delta, exp_P, exp_Q, lr)\n",
    "            print(f\"New Alpha: {alpha}\")\n",
    "            cont = False\n",
    "\n",
    "            loop_count += 1\n",
    "        except KeyboardInterrupt:\n",
    "            cont = False\n",
    "        \n",
    "    print(f\"Optimal Alpha: {opt_alpha}\" )\n",
    "    print(\"Optimal Energy: %3.2f\" % min_energy)\n",
    "\n",
    "    return opt_alpha, min_energy, alphas, energies"
   ]
  },
  {
   "cell_type": "code",
   "execution_count": 213,
   "metadata": {},
   "outputs": [
    {
     "name": "stdout",
     "output_type": "stream",
     "text": [
      "Non-diag config: [array([ 1, -1,  1, -1]), array([-1,  1, -1,  1])]\n",
      "Diag Energy: 0.0\n",
      "Non Diag energies: -1.2840254166877414\n",
      "State input: [ 1  1 -1 -1]\n",
      "Local Energy: -0.2231301601484298\n",
      "P(x) = [[0.25   0.125  0.5   ]\n",
      " [0.125  0.0625 0.25  ]\n",
      " [0.5    0.25   1.    ]]\n",
      "Q(x) = [-0.11156508 -0.05578254 -0.22313016]\n",
      "delta(x) = [0.5  0.25 1.  ]\n",
      "f vector = [0.296041   0.14210406 0.02366574]\n",
      "S Matrix = [[ 0.054636    0.025905    0.005652  ]\n",
      " [ 0.025905    0.01299375 -0.000165  ]\n",
      " [ 0.005652   -0.000165    0.011964  ]]\n",
      "New Alpha: [ 0.3 -0.3 -0.3]\n",
      "Optimal Alpha: [ 1.  -0.5 -2. ]\n",
      "Optimal Energy: -0.54\n"
     ]
    },
    {
     "data": {
      "text/plain": [
       "(array([ 1. , -0.5, -2. ]),\n",
       " -0.5373987357476043,\n",
       " [array([ 1. , -0.5, -2. ])],\n",
       " [-0.5373987357476043])"
      ]
     },
     "execution_count": 213,
     "metadata": {},
     "output_type": "execute_result"
    }
   ],
   "source": [
    "run_stochastic_reconfiguration_debug(1000, 4, lr = 0.03)"
   ]
  },
  {
   "cell_type": "code",
   "execution_count": 177,
   "metadata": {},
   "outputs": [
    {
     "data": {
      "text/plain": [
       "1.2840254166877414"
      ]
     },
     "execution_count": 177,
     "metadata": {},
     "output_type": "execute_result"
    }
   ],
   "source": [
    "get_variational_projection([1,-1,1,-1], alpha=[1, -0.5, -2])"
   ]
  },
  {
   "cell_type": "code",
   "execution_count": 179,
   "metadata": {},
   "outputs": [
    {
     "name": "stdout",
     "output_type": "stream",
     "text": [
      "Non-diag config: [[-1, 1, 1, -1], [1, 1, -1, -1], [1, -1, -1, 1], [-1, -1, 1, 1]]\n",
      "Diag Energy: -1.2840254166877414\n",
      "Non Diag energies: -6.041107472865921\n"
     ]
    },
    {
     "data": {
      "text/plain": [
       "-5.704819230486495"
      ]
     },
     "execution_count": 179,
     "metadata": {},
     "output_type": "execute_result"
    }
   ],
   "source": [
    "calculate_local_energy([1,-1,1,-1], alpha=[1, -0.5, -2])"
   ]
  },
  {
   "cell_type": "code",
   "execution_count": 211,
   "metadata": {},
   "outputs": [],
   "source": [
    "do_print = True"
   ]
  },
  {
   "cell_type": "code",
   "execution_count": 178,
   "metadata": {},
   "outputs": [
    {
     "data": {
      "text/plain": [
       "0.22260869565217392"
      ]
     },
     "execution_count": 178,
     "metadata": {},
     "output_type": "execute_result"
    }
   ],
   "source": [
    "1.28/5.75"
   ]
  },
  {
   "cell_type": "code",
   "execution_count": 214,
   "metadata": {},
   "outputs": [
    {
     "data": {
      "text/plain": [
       "array([-0.11 , -0.055, -0.22 ])"
      ]
     },
     "execution_count": 214,
     "metadata": {},
     "output_type": "execute_result"
    }
   ],
   "source": [
    "-0.22*np.asarray([0.5, 0.25, 1])"
   ]
  },
  {
   "cell_type": "code",
   "execution_count": 215,
   "metadata": {},
   "outputs": [],
   "source": [
    "exp_delta = np.asarray([0.5, 0.25, 1.0 ])\n",
    "\n",
    "temp1 = np.expand_dims(exp_delta, axis=0)\n",
    "temp1 = np.repeat(temp1, len(exp_delta), axis=0)\n",
    "temp2 = temp1.T\n",
    "temp3 = np.multiply(temp1, temp2)"
   ]
  },
  {
   "cell_type": "code",
   "execution_count": 216,
   "metadata": {},
   "outputs": [
    {
     "data": {
      "text/plain": [
       "array([[0.25  , 0.125 , 0.5   ],\n",
       "       [0.125 , 0.0625, 0.25  ],\n",
       "       [0.5   , 0.25  , 1.    ]])"
      ]
     },
     "execution_count": 216,
     "metadata": {},
     "output_type": "execute_result"
    }
   ],
   "source": [
    "temp3"
   ]
  },
  {
   "cell_type": "code",
   "execution_count": null,
   "metadata": {},
   "outputs": [],
   "source": []
  }
 ],
 "metadata": {
  "kernelspec": {
   "display_name": "Python 3",
   "language": "python",
   "name": "python3"
  },
  "language_info": {
   "codemirror_mode": {
    "name": "ipython",
    "version": 3
   },
   "file_extension": ".py",
   "mimetype": "text/x-python",
   "name": "python",
   "nbconvert_exporter": "python",
   "pygments_lexer": "ipython3",
   "version": "3.7.0"
  }
 },
 "nbformat": 4,
 "nbformat_minor": 2
}

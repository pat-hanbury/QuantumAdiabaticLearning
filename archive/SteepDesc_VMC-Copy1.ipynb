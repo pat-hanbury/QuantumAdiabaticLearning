{
 "cells": [
  {
   "cell_type": "markdown",
   "metadata": {},
   "source": [
    "# Variational Monte Carlo Using St|eepest Descent"
   ]
  },
  {
   "cell_type": "code",
   "execution_count": 1,
   "metadata": {},
   "outputs": [],
   "source": [
    "import numpy as np\n",
    "import random\n",
    "import math\n",
    "from matplotlib import pyplot as plt\n",
    "from IPython.display import clear_output\n",
    "from math import exp\n",
    "\n",
    "from pdb import set_trace"
   ]
  },
  {
   "cell_type": "markdown",
   "metadata": {},
   "source": [
    "## Monte Carlo Functions"
   ]
  },
  {
   "cell_type": "code",
   "execution_count": 2,
   "metadata": {},
   "outputs": [
    {
     "data": {
      "text/plain": [
       "array([[ 1,  1, -1, -1],\n",
       "       [-1, -1,  1,  1],\n",
       "       [ 1, -1,  1, -1],\n",
       "       [-1,  1, -1,  1],\n",
       "       [ 1, -1, -1,  1],\n",
       "       [-1,  1,  1, -1]])"
      ]
     },
     "execution_count": 2,
     "metadata": {},
     "output_type": "execute_result"
    }
   ],
   "source": [
    "# 1 is up and 0 is down\n",
    "# these are all the possible ground configurations that might\n",
    "# contribute to the ground states\n",
    "\n",
    "# this version makes it readable\n",
    "states = np.asarray([\n",
    "    [1, 1, 0, 0],\n",
    "    [0, 0, 1, 1],\n",
    "    [1, 0, 1, 0],\n",
    "    [0, 1, 0, 1],\n",
    "    [1, 0, 0, 1],\n",
    "    [0, 1, 1, 0],\n",
    "])\n",
    "\n",
    "# this line turns all the 0s to -1s for computational purposes\n",
    "states = states*2 - 1; states"
   ]
  },
  {
   "cell_type": "code",
   "execution_count": 3,
   "metadata": {},
   "outputs": [],
   "source": [
    "def get_random_state():\n",
    "    return random.choice(states)"
   ]
  },
  {
   "cell_type": "code",
   "execution_count": 4,
   "metadata": {},
   "outputs": [],
   "source": [
    "def get_variational_projection(state, alpha):\n",
    "    \"\"\"\n",
    "    This function computes the projection of state in the spin basis\n",
    "    onto the varitional wave function\n",
    "    \"\"\"\n",
    "    exponent = 0 \n",
    "    # FOO DO WE COUNT THE SUMS TWICE?\n",
    "    for i in range(len(state)):\n",
    "        for j in range(0, len(state)):\n",
    "            if i is not j:\n",
    "                new_exp_term = (alpha/(min(abs(i-j),abs((i-len(state)) - j), abs(i - (j-len(state))))))*state[i]*state[j]/4 # need the \"/4\" because spin 1/2 particles\n",
    "                exponent += new_exp_term\n",
    "    return math.exp(exponent)"
   ]
  },
  {
   "cell_type": "code",
   "execution_count": 5,
   "metadata": {},
   "outputs": [],
   "source": [
    "def get_off_diagonal_configurations(state):\n",
    "    \"\"\"\n",
    "    This function generates a list of configurations that could\n",
    "    be flipped into the inputted by state by the application of\n",
    "    Raising or lowering operators (Check the hamiltonian equation)\n",
    "    \n",
    "    returns a list of configurations\n",
    "    \n",
    "    ***NOTE: This solution is computational intractable and might not\n",
    "    be the most optimal one\n",
    "    \"\"\"\n",
    "    state_copy = state.copy()\n",
    "    off_diagonal_configurations = list()\n",
    "    for i in range(len(state)):\n",
    "        if i == len(state) - 1:\n",
    "            if state[i] != state[0]:\n",
    "                state_copy[i] *= -1\n",
    "                state_copy[0] *= -1\n",
    "                off_diagonal_configurations.append(state_copy)\n",
    "            return off_diagonal_configurations\n",
    "        if state[i] != state[i+1]:\n",
    "            state_copy[i] *= -1\n",
    "            state_copy[i+1] *= -1\n",
    "            off_diagonal_configurations.append(state_copy)\n",
    "            state_copy = state.copy()"
   ]
  },
  {
   "cell_type": "code",
   "execution_count": 9,
   "metadata": {},
   "outputs": [],
   "source": [
    "def calculate_local_energy(state, alpha):\n",
    "    \"\"\"\n",
    "    This function calculates the local energy of a state\n",
    "    \"\"\"\n",
    "    # contribution from Z direction spin terms\n",
    "    energy = 0\n",
    "    state_proj = get_variational_projection(state, alpha)\n",
    "    for i in range(len(state)):\n",
    "        if i == len(state) - 1:\n",
    "            energy += (state_proj*state[i] * state[0])/4\n",
    "        else:\n",
    "            energy += (state_proj*state[i] * state[i+1])/4\n",
    "            \n",
    "    # contributions from off diagonal terms\n",
    "    non_diagonal_energies = 0\n",
    "    off_diag_config_states = get_off_diagonal_configurations(state)\n",
    "    for configuration in off_diag_config_states:\n",
    "        non_diagonal_energies += (-0.5)*get_variational_projection(configuration, alpha)\n",
    "    energy += non_diagonal_energies\n",
    "    return energy / state_proj"
   ]
  },
  {
   "cell_type": "code",
   "execution_count": 10,
   "metadata": {},
   "outputs": [],
   "source": [
    "def compute_R(trial_state, initial_state, alpha):\n",
    "    \"\"\"\n",
    "    Function compute \"R\", which is the ratio between the weight functions\n",
    "    of the initial state and the trial state.\n",
    "    \"\"\"\n",
    "    numerator = get_variational_projection(trial_state, alpha) **2\n",
    "    denominator = get_variational_projection(initial_state, alpha) **2\n",
    "    return numerator / denominator"
   ]
  },
  {
   "cell_type": "code",
   "execution_count": 11,
   "metadata": {},
   "outputs": [],
   "source": [
    "def random_flip(state):\n",
    "    \"\"\"\n",
    "    Randomly flips two bits of a state such\n",
    "    that there are still two up and two down\n",
    "    \"\"\"\n",
    "    choices = random.sample(list(range(0,len(state))), len(state))\n",
    "    flip1_index = choices.pop()\n",
    "    flip1_value = state[flip1_index]\n",
    "    state[flip1_index] *= -1\n",
    "    cont = True\n",
    "    while(cont):\n",
    "        flip2_index = choices.pop()\n",
    "        if state[flip2_index] != flip1_value:\n",
    "            state[flip2_index] *= -1\n",
    "            cont = False\n",
    "    return state"
   ]
  },
  {
   "cell_type": "code",
   "execution_count": 12,
   "metadata": {},
   "outputs": [],
   "source": [
    "def monte_carlo_estimation(alpha, num_steps):\n",
    "    x_initial = get_random_state()\n",
    "    running_total = 0\n",
    "    for i in range(num_steps):\n",
    "        x_trial = random_flip(x_initial.copy())\n",
    "        R = compute_R(x_trial, x_initial, alpha)\n",
    "        r = random.uniform(0,1)\n",
    "        if R > r:\n",
    "            x_initial = x_trial.copy()\n",
    "        running_total += calculate_local_energy(x_initial, alpha)\n",
    "    return running_total / num_steps"
   ]
  },
  {
   "cell_type": "markdown",
   "metadata": {},
   "source": [
    "## Scan The Solution Space to find the Optimal Alpha and the Minimum Energy\n"
   ]
  },
  {
   "cell_type": "code",
   "execution_count": 15,
   "metadata": {},
   "outputs": [],
   "source": [
    "# This function was derived analytically, and represents\n",
    "# what we should expect out of the energy curve\n",
    "\n",
    "def ground_truth_variational_energy(alpha):\n",
    "    \"\"\"\n",
    "    with respect to alpha\n",
    "    \"\"\"\n",
    "    numerator = -4*exp(-2*alpha) + -1*exp(-3*alpha)\n",
    "    denominator = 2*exp(-1*alpha) + exp(-3*alpha)\n",
    "    \n",
    "    return numerator/denominator"
   ]
  },
  {
   "cell_type": "code",
   "execution_count": 16,
   "metadata": {},
   "outputs": [],
   "source": [
    "def get_optimal_alpha(alphas, num_steps=5000):\n",
    "    energies = list()\n",
    "    for i, alpha in enumerate(alphas):\n",
    "        clear_output(wait=True)\n",
    "        print(f\"Alpha: {i+1}/{len(alphas)}\")\n",
    "        energies.append(monte_carlo_estimation(alpha, num_steps))\n",
    "    return alphas[np.argmin(energies)], np.argmin(energies), energies"
   ]
  },
  {
   "cell_type": "code",
   "execution_count": 17,
   "metadata": {},
   "outputs": [
    {
     "name": "stdout",
     "output_type": "stream",
     "text": [
      "Alpha: 20/20\n"
     ]
    },
    {
     "data": {
      "image/png": "[encoded data removed]",
      "text/plain": [
       "<Figure size 432x288 with 1 Axes>"
      ]
     },
     "metadata": {
      "needs_background": "light"
     },
     "output_type": "display_data"
    },
    {
     "name": "stdout",
     "output_type": "stream",
     "text": [
      "Optimal Alpha found at -0.5\n",
      "Minimum Energy: -1.9706208344928617\n"
     ]
    }
   ],
   "source": [
    "## alphas = [i*0.05 for i in range(20,40)]\n",
    "num_steps = 5000\n",
    "alphas = [i*0.5 for i in range(-10,10)]\n",
    "xs = np.asarray([i*0.1 for i in range(-200, 200)])\n",
    "ys = np.asarray([ground_truth_variational_energy(x) for x in xs])\n",
    "\n",
    "optimal_alpha, index, energies = get_optimal_alpha(alphas, num_steps=num_steps)\n",
    "\n",
    "plt.plot(xs, ys)\n",
    "plt.plot(alphas, energies)\n",
    "# plt.xlim(1,2)\n",
    "plt.ylim()\n",
    "plt.ylabel(\"Variational Energy\")\n",
    "plt.xlabel(\"Alpha\")\n",
    "plt.title(f\"Variational Energy at Various Alphas ({num_steps})\")\n",
    "plt.show()\n",
    "print(f\"Optimal Alpha found at {optimal_alpha}\")\n",
    "print(f\"Minimum Energy: {energies[index]}\")"
   ]
  },
  {
   "cell_type": "markdown",
   "metadata": {},
   "source": [
    "## Sorella's Derivative Estimation Function"
   ]
  },
  {
   "cell_type": "code",
   "execution_count": 18,
   "metadata": {},
   "outputs": [],
   "source": [
    "def get_variational_energy_derivative(E_var, alpha):\n",
    "    \"\"\"\n",
    "    This function gets the derivative of the variational energy with\n",
    "    respect to alpha. Currently, it just uses the expression I derived\n",
    "    analytically, but it will need to be rewritten for the sake of \n",
    "    generalizability\n",
    "    Args:\n",
    "    - E_var (float) : Variational Energy\n",
    "    - alpha (float) : alpha\n",
    "    return:\n",
    "    - derivative of E_var with respect to alpa (float)\n",
    "    \"\"\"\n",
    "    a = 8*exp(-2*alpha) + 3*exp(-3*alpha)\n",
    "    b = -2*exp(-1*alpha) - 3*exp(-3*alpha)\n",
    "    denom = 4*exp(-1*alpha) + 2*exp(-3*alpha)\n",
    "    return 2*(a - E_var*b)/denom"
   ]
  },
  {
   "cell_type": "code",
   "execution_count": 31,
   "metadata": {},
   "outputs": [],
   "source": [
    "def find_optimal_alpha(lr = 0.03, num_steps =1000):\n",
    "    \"\"\"\n",
    "    Note: only finds local minimums\n",
    "    \n",
    "    Algorithm will continue an additional 10 iterations\n",
    "    after finding what it thinks is the optimal value\n",
    "    \"\"\"\n",
    "    \n",
    "    # cap the change in alpha\n",
    "    d_alpha_cap = 0.3\n",
    "    \n",
    "    # get inital condition\n",
    "    alphas = [] # list of all alphas that we test\n",
    "    energies = [] # list of all energies corresponding to those alphas\n",
    "    alpha = random.randint(-1000,1000)/100 # initial guess at alpha\n",
    "    \n",
    "    # pre loop conditions\n",
    "    cont = True\n",
    "    min_energy = 99999999999\n",
    "    i = 0\n",
    "    loop_count = 0\n",
    "    plt.axis([0, 10, 0, 1])\n",
    "    while(cont):\n",
    "        clear_output(wait=True)\n",
    "        # print(f\"Loop Number: {loop_count} \\nEnd Count: {i} \\nAlpha: {alpha} \\nMin Energy: {min_energy}\")\n",
    "        energy = monte_carlo_estimation(alpha, num_steps)\n",
    "        derivative = get_variational_energy_derivative(energy, alpha)\n",
    "        plt.plot(alphas, energies)\n",
    "        plt.show()\n",
    "        # update logs\n",
    "        alphas.append(alpha)\n",
    "        energies.append(energy)\n",
    "        \n",
    "        # if this energy is lowest, update optimal measurements,\n",
    "        # and assume you can do better (set end count, i, to zero)\n",
    "        if energy < min_energy:\n",
    "                min_energy = energy\n",
    "                opt_alpha = alpha\n",
    "                i = 0\n",
    "        # if not, inncrement the end count. If you don't get better\n",
    "        # after 100 tries, it's probably time to stop\n",
    "        else:\n",
    "            i += 1\n",
    "            if i == 400:\n",
    "                cont = False\n",
    "        # in case our derivative is close to zero\n",
    "        if abs(lr*energy/derivative) > d_alpha_cap:\n",
    "            derivative = lr*energy/d_alpha_cap\n",
    "        \n",
    "        try:\n",
    "            alpha = alpha + lr*energy/derivative\n",
    "        except ZeroDivisionError:\n",
    "            alpha = alpha + lr*energy/(derivative+2)\n",
    "            \n",
    "        loop_count += 1\n",
    "            \n",
    "    print(\"Optimal Alpha: %3.2f\" % opt_alpha)\n",
    "    print(\"Optimal Energy: %3.2f\" % min_energy)\n",
    "\n",
    "    return opt_alpha, min_energy, alphas, energies"
   ]
  },
  {
   "cell_type": "code",
   "execution_count": 33,
   "metadata": {},
   "outputs": [
    {
     "data": {
      "image/png": "[encoded data removed]",
      "text/plain": [
       "<Figure size 432x288 with 1 Axes>"
      ]
     },
     "metadata": {
      "needs_background": "light"
     },
     "output_type": "display_data"
    },
    {
     "name": "stdout",
     "output_type": "stream",
     "text": [
      "Optimal Alpha: -0.84\n",
      "Optimal Energy: -2.01\n"
     ]
    }
   ],
   "source": [
    "opt_alpha, min_energy, alphas, energies = find_optimal_alpha()"
   ]
  }
 ],
 "metadata": {
  "kernelspec": {
   "display_name": "Python 3",
   "language": "python",
   "name": "python3"
  },
  "language_info": {
   "codemirror_mode": {
    "name": "ipython",
    "version": 3
   },
   "file_extension": ".py",
   "mimetype": "text/x-python",
   "name": "python",
   "nbconvert_exporter": "python",
   "pygments_lexer": "ipython3",
   "version": "3.7.0"
  }
 },
 "nbformat": 4,
 "nbformat_minor": 2
}

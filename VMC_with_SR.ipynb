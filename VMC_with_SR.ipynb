{
 "cells": [
  {
   "cell_type": "markdown",
   "metadata": {},
   "source": [
    "# Variational Monte Carlo with Stochastic Reconfiguration"
   ]
  },
  {
   "cell_type": "code",
   "execution_count": 127,
   "metadata": {},
   "outputs": [],
   "source": [
    "import numpy as np\n",
    "import random\n",
    "import math\n",
    "from matplotlib import pyplot as plt\n",
    "from IPython.display import clear_output\n",
    "from math import exp\n",
    "\n",
    "from pdb import set_trace"
   ]
  },
  {
   "cell_type": "markdown",
   "metadata": {},
   "source": [
    "## Make sure that new \"Wave Function\" Works\n",
    "This is checking that the code for generating the wave function\n",
    "and variational projection works where the ratio\n",
    "between all aphas is fixed"
   ]
  },
  {
   "cell_type": "code",
   "execution_count": 199,
   "metadata": {},
   "outputs": [],
   "source": [
    "# these are all the possible ground configurations that might\n",
    "# contribute to the ground states\n",
    "\n",
    "def get_random_state(num_particles):\n",
    "    state = []\n",
    "    positive_positions = random.sample(range(0, num_particles - 1), int(num_particles/2))\n",
    "    for i in range(num_particles):\n",
    "        if i in positive_positions:\n",
    "            state.append(1)\n",
    "        else:\n",
    "            state.append(-1)\n",
    "    return np.asarray(state)"
   ]
  },
  {
   "cell_type": "code",
   "execution_count": 129,
   "metadata": {},
   "outputs": [],
   "source": [
    "def get_variational_projection(state, alpha):\n",
    "    \"\"\"\n",
    "    The projection of input `state` onto the variational\n",
    "    wave function. Ie: returns e^omega for the particular\n",
    "    state\n",
    "    N === number of particles\n",
    "    Args:\n",
    "    - state : N length np array of state represented as +1 or -1\n",
    "    - alpha : N-1 length of np array of each variational parameter\n",
    "    Return:\n",
    "    - coeff (float)\n",
    "    \"\"\"\n",
    "    return exp(0.5*state[0]*np.dot(state[1:],alpha))"
   ]
  },
  {
   "cell_type": "code",
   "execution_count": 130,
   "metadata": {},
   "outputs": [],
   "source": [
    "def get_off_diagonal_configurations(state):\n",
    "    \"\"\"\n",
    "    This function generates a list of configurations that could\n",
    "    be flipped into the inputted by state by the application of\n",
    "    Raising or lowering operators (Check the hamiltonian equation)\n",
    "    \n",
    "    returns a list of configurations\n",
    "    \n",
    "    ***NOTE: This solution is computational intractable and might not\n",
    "    be the most optimal one\n",
    "    \"\"\"\n",
    "    state_copy = state.copy()\n",
    "    off_diagonal_configurations = list()\n",
    "    for i in range(len(state)):\n",
    "        if i == len(state) - 1:\n",
    "            if state[i] != state[0]:\n",
    "                state_copy[i] *= -1\n",
    "                state_copy[0] *= -1\n",
    "                off_diagonal_configurations.append(state_copy)\n",
    "            return off_diagonal_configurations\n",
    "        if state[i] != state[i+1]:\n",
    "            state_copy[i] *= -1\n",
    "            state_copy[i+1] *= -1\n",
    "            off_diagonal_configurations.append(state_copy)\n",
    "            state_copy = state.copy()"
   ]
  },
  {
   "cell_type": "code",
   "execution_count": 131,
   "metadata": {},
   "outputs": [],
   "source": [
    "def calculate_local_energy(state, alpha):\n",
    "    \"\"\"\n",
    "    This function calculates the local energy of a state\n",
    "    \"\"\"\n",
    "    # contribution from Z direction spin terms\n",
    "    energy = 0\n",
    "    state_proj = get_variational_projection(state, alpha)\n",
    "    for i in range(len(state)):\n",
    "        if i == len(state) - 1:\n",
    "            energy += (state_proj*state[i] * state[0])/4\n",
    "        else:\n",
    "            energy += (state_proj*state[i] * state[i+1])/4\n",
    "            \n",
    "    # contributions from off diagonal terms\n",
    "    non_diagonal_energies = 0\n",
    "    off_diag_config_states = get_off_diagonal_configurations(state)\n",
    "    for configuration in off_diag_config_states:\n",
    "        non_diagonal_energies += (-0.5)*get_variational_projection(configuration, alpha)\n",
    "    energy += non_diagonal_energies\n",
    "    return energy / state_proj"
   ]
  },
  {
   "cell_type": "code",
   "execution_count": 132,
   "metadata": {},
   "outputs": [
    {
     "data": {
      "text/plain": [
       "-2.3745785575819442"
      ]
     },
     "execution_count": 132,
     "metadata": {},
     "output_type": "execute_result"
    }
   ],
   "source": [
    "calculate_local_energy(np.asarray([1, -1, 1, -1]), -0.75*np.asarray([1, 0.5, 1]))"
   ]
  },
  {
   "cell_type": "code",
   "execution_count": 133,
   "metadata": {},
   "outputs": [],
   "source": [
    "def compute_R(trial_state, initial_state, alpha):\n",
    "    \"\"\"\n",
    "    Function compute \"R\", which is the ratio between the weight functions\n",
    "    of the initial state and the trial state.\n",
    "    \"\"\"\n",
    "    numerator = get_variational_projection(trial_state, alpha) **2\n",
    "    denominator = get_variational_projection(initial_state, alpha) **2\n",
    "    return numerator / denominator"
   ]
  },
  {
   "cell_type": "code",
   "execution_count": 134,
   "metadata": {},
   "outputs": [],
   "source": [
    "def random_flip(state):\n",
    "    \"\"\"\n",
    "    Randomly flips two bits of a state such\n",
    "    that there are still two up and two down\n",
    "    \"\"\"\n",
    "    choices = random.sample(list(range(0,len(state))), len(state))\n",
    "    flip1_index = choices.pop()\n",
    "    flip1_value = state[flip1_index]\n",
    "    state[flip1_index] *= -1\n",
    "    cont = True\n",
    "    while(cont):\n",
    "        flip2_index = choices.pop()\n",
    "        if state[flip2_index] != flip1_value:\n",
    "            state[flip2_index] *= -1\n",
    "            cont = False\n",
    "    return state"
   ]
  },
  {
   "cell_type": "code",
   "execution_count": 142,
   "metadata": {},
   "outputs": [],
   "source": [
    "def monte_carlo_estimation(alpha, num_steps, num_particles):\n",
    "    # only works for even number of particles\n",
    "    assert num_particles %2 == 0, \"Number of particles must be even\"\n",
    "\n",
    "    x_initial = get_random_state(num_particles)\n",
    "    running_total = 0\n",
    "    for i in range(num_steps):\n",
    "        clear_output(wait=True)\n",
    "        if i % 500 == 0:\n",
    "            print(f\"Alpha: {alpha[0]} -- Step: {i+1}/{num_steps}\")\n",
    "        x_trial = random_flip(x_initial.copy())\n",
    "        R = compute_R(x_trial, x_initial, alpha)\n",
    "        r = random.uniform(0,1)\n",
    "        if R > r:\n",
    "            x_initial = x_trial.copy()\n",
    "        running_total += calculate_local_energy(x_initial, alpha)\n",
    "    return running_total / num_steps"
   ]
  },
  {
   "cell_type": "code",
   "execution_count": 143,
   "metadata": {},
   "outputs": [],
   "source": [
    "def get_optimal_alpha(alpha_factors, num_particles, num_steps=5000):\n",
    "    energies = list()\n",
    "    for i, alpha_factor in enumerate(alpha_factors):\n",
    "        alpha = alpha_factor*np.asarray([1,0.5,1])\n",
    "        energies.append(monte_carlo_estimation(alpha, num_steps, num_particles))\n",
    "    return alpha_factors[np.argmin(energies)], np.argmin(energies), energies"
   ]
  },
  {
   "cell_type": "code",
   "execution_count": 144,
   "metadata": {},
   "outputs": [],
   "source": [
    "# This function was derived analytically, and represents\n",
    "# what we should expect out of the energy curve\n",
    "\n",
    "def ground_truth_variational_energy(alpha):\n",
    "    \"\"\"\n",
    "    with respect to alpha\n",
    "    \"\"\"\n",
    "    numerator = -4*exp(-2*alpha) + -1*exp(-3*alpha)\n",
    "    denominator = 2*exp(-1*alpha) + exp(-3*alpha)\n",
    "    \n",
    "    return numerator/denominator"
   ]
  },
  {
   "cell_type": "code",
   "execution_count": 145,
   "metadata": {},
   "outputs": [
    {
     "data": {
      "image/png": "[encoded data removed]",
      "text/plain": [
       "<Figure size 432x288 with 1 Axes>"
      ]
     },
     "metadata": {
      "needs_background": "light"
     },
     "output_type": "display_data"
    },
    {
     "name": "stdout",
     "output_type": "stream",
     "text": [
      "Optimal Alpha Factor found at -1\n",
      "Minimum Energy: -1.9746840828436758\n"
     ]
    }
   ],
   "source": [
    "## alphas = [i*0.05 for i in range(20,40)]\n",
    "num_steps = 5000\n",
    "num_particles = 4\n",
    "alpha_factors = [i*1 for i in range(-5,5)]\n",
    "xs = np.asarray([i*1 for i in range(-5, 5)])\n",
    "ys = np.asarray([ground_truth_variational_energy(x) for x in xs])\n",
    "\n",
    "optimal_alpha_factor, index, energies = get_optimal_alpha(alpha_factors, num_particles, num_steps=num_steps)\n",
    "\n",
    "plt.plot(alpha_factors, energies)\n",
    "# plt.xlim(1,2)\n",
    "plt.ylim()\n",
    "plt.ylabel(\"Variational Energy\")\n",
    "plt.xlabel(\"Alpha\")\n",
    "plt.title(f\"Variational Energy at Various Alphas ({num_steps})\")\n",
    "plt.show()\n",
    "print(f\"Optimal Alpha Factor found at {optimal_alpha_factor}\")\n",
    "print(f\"Minimum Energy: {energies[index]}\")"
   ]
  },
  {
   "cell_type": "markdown",
   "metadata": {},
   "source": [
    "## Add Stochastic Reconstruction"
   ]
  },
  {
   "cell_type": "code",
   "execution_count": 214,
   "metadata": {},
   "outputs": [],
   "source": [
    "# functions to calculate variables of interest\n",
    "# with a given state as input\n",
    "# expection values will be calcualate by averaging\n",
    "# these functions over many states\n",
    "\n",
    "# this are intermediate variables defined in my\n",
    "# physical notebook\n",
    "\n",
    "def calculate_delta_x(state, alpha):\n",
    "    \"\"\"\n",
    "    This function gives the delta vector for a particular\n",
    "    state. The delta vector is a vector with the derivative\n",
    "    of the wave function with respect to the particular\n",
    "    indexed paramater. The len the vector is the \n",
    "    number of particles - 1 which the number of \n",
    "    variational paramters.\n",
    "    args:\n",
    "    state - number array length N\n",
    "    return:\n",
    "    - delta_x : array length N-1 fo derivatives\n",
    "    \"\"\"\n",
    "    return 0.25*state[0]*np.multiply(state[1:], alpha)\n",
    "\n",
    "def calculate_P_of_x(delta_x):\n",
    "    \n",
    "    \"\"\"\n",
    "    Args:\n",
    "    delta_x : array outputted by the calculate_delta_x function\n",
    "    returns:\n",
    "    - matrix of size delta_x by delta_x where \n",
    "    value(i,j) = delta_x[i]*delta_x[j]\n",
    "    \"\"\"\n",
    "    temp1 = np.expand_dims(delta_x, axis=0)\n",
    "    temp1 = np.repeat(temp1, len(delta_x), axis=0)\n",
    "    temp2 = temp1.T\n",
    "    return np.multiply(temp1, temp2)\n",
    "\n",
    "def calculate_Q_of_x(delta_x, local_energy):\n",
    "    return local_energy*delta_x"
   ]
  },
  {
   "cell_type": "code",
   "execution_count": 241,
   "metadata": {},
   "outputs": [],
   "source": [
    "def monte_carlo_estimation(alpha, num_steps, num_particles):\n",
    "    \"\"\"\n",
    "    This function calculates expectation values for the \n",
    "    4 variables of interest P, Q, \n",
    "    \"\"\"\n",
    "    # only works for even number of particles\n",
    "    assert num_particles %2 == 0, \"Number of particles must be even\"\n",
    "\n",
    "    x_initial = get_random_state(num_particles)\n",
    "\n",
    "    # initialize running variables\n",
    "    expectation_local_energy = 0\n",
    "    expection_delta = 0\n",
    "    expectation_P = 0\n",
    "    expectation_Q =0\n",
    "    \n",
    "    for i in range(num_steps):\n",
    "        clear_output(wait=True)\n",
    "        if False:\n",
    "            if i % 500 == 0:\n",
    "                print(f\"Alpha: {alpha[0]} -- Step: {i+1}/{num_steps}\")\n",
    "        x_trial = random_flip(x_initial.copy())\n",
    "        R = compute_R(x_trial, x_initial, alpha)\n",
    "        r = random.uniform(0,1)\n",
    "        if R > r:\n",
    "            x_initial = x_trial.copy()\n",
    "        # these \"expectation\" variables are running totals of the variables/arrays/matrixes.\n",
    "        # they represent the sum of all the values for all the trial state inputs (x)\n",
    "        # and will be normalized by dividing by the number of steps after the simulation\n",
    "        local_energy = calculate_local_energy(x_initial, alpha)\n",
    "        expectation_local_energy += local_energy\n",
    "        delta_x = calculate_delta_x(x_initial, alpha)\n",
    "        expection_delta += delta_x\n",
    "        expectation_P += calculate_P_of_x(delta_x)\n",
    "        expectation_Q += calculate_Q_of_x(delta_x, local_energy)\n",
    "    # normalize expectation values\n",
    "    expectation_local_energy = expectation_local_energy / num_steps\n",
    "    expectation_delta = expection_delta / num_steps\n",
    "    expectation_P = expectation_P / num_steps\n",
    "    expectation_Q = expectation_Q / num_steps\n",
    "    return expectation_local_energy, expectation_delta, expectation_P, expectation_Q"
   ]
  },
  {
   "cell_type": "code",
   "execution_count": 242,
   "metadata": {},
   "outputs": [],
   "source": [
    "def get_random_alpha(num_particles):\n",
    "    alpha = random.sample(range(1, 100), num_particles -1 )\n",
    "    alpha = np.asarray(alpha)\n",
    "    alpha = alpha - 50\n",
    "    alpha = alpha / 25\n",
    "    return alpha"
   ]
  },
  {
   "cell_type": "code",
   "execution_count": 243,
   "metadata": {},
   "outputs": [],
   "source": [
    "def update_variational_parameters(alpha, exp_local_energy, exp_delta, exp_P, exp_Q, lr=0.03):\n",
    "    \"\"\"\n",
    "    This function applies the SR technique.\n",
    "    \"\"\"\n",
    "    # contruction the f vector\n",
    "    f = exp_Q - exp_delta*exp_local_energy\n",
    "    \n",
    "    # constructing the S matrix\n",
    "    temp1 = np.expand_dims(exp_delta, axis=0)\n",
    "    temp1 = np.repeat(temp1, len(exp_delta), axis=0)\n",
    "    temp2 = temp1.T\n",
    "    temp3 = np.multiply(temp1, temp2)\n",
    "    S = exp_P - temp3\n",
    "    \n",
    "    # perform the updates \n",
    "    alpha = alpha - lr*np.matmul(np.linalg.inv(S), f)\n",
    "    print(alpha)\n",
    "    return alpha"
   ]
  },
  {
   "cell_type": "code",
   "execution_count": 244,
   "metadata": {},
   "outputs": [
    {
     "name": "stdout",
     "output_type": "stream",
     "text": [
      "[[0. 1. 2.]\n",
      " [3. 4. 5.]\n",
      " [6. 7. 8.]] [0. 1. 2.]\n"
     ]
    },
    {
     "data": {
      "text/plain": [
       "array([ 5., 14., 23.])"
      ]
     },
     "execution_count": 244,
     "metadata": {},
     "output_type": "execute_result"
    }
   ],
   "source": [
    "x1 = np.arange(9.0).reshape((3, 3))\n",
    "x2 = np.arange(3.0); print(x1, x2)\n",
    "np.matmul(x1, x2)"
   ]
  },
  {
   "cell_type": "code",
   "execution_count": 247,
   "metadata": {},
   "outputs": [],
   "source": [
    "def run_stochastic_reconfiguration(num_steps, num_particles):\n",
    "    alpha = get_random_alpha(num_particles)\n",
    "    \n",
    "    # cap the change in alpha\n",
    "    d_alpha_cap = 0.3\n",
    "    \n",
    "    # get inital condition\n",
    "    alphas = [] # list of all alphas that we test\n",
    "    energies = [] # list of all energies corresponding to those alphas\n",
    "    \n",
    "    # pre loop conditions\n",
    "    cont = True\n",
    "    min_energy = 99999999999\n",
    "    i = 0\n",
    "    loop_count = 0\n",
    "    \n",
    "    while(cont):\n",
    "        clear_output(wait=True)\n",
    "        if loop_count % 100 == 0:\n",
    "            print(\"Optimal Energy: %3.2f loop count: %i\" % (min_energy, loop_count))\n",
    "        alphas.append(alpha)\n",
    "        energy, exp_delta, exp_P, exp_Q = monte_carlo_estimation(alpha, num_steps, num_particles)\n",
    "        energies.append(energy)\n",
    "        \n",
    "        # if this energy is lowest, update optimal measurements,\n",
    "        # and assume you can do better (set end count, i, to zero)\n",
    "        if energy < min_energy:\n",
    "            min_energy = energy\n",
    "            opt_alpha = alpha\n",
    "            i = 0\n",
    "         # if not, inncrement the end count. If you don't get better\n",
    "        # after 400 tries, it's probably time to stop\n",
    "        else:\n",
    "            i += 1\n",
    "            if i == 400:\n",
    "                cont = False\n",
    "                \n",
    "        alpha = update_variational_parameters(alpha, energy, exp_delta, exp_P, exp_Q)\n",
    "                \n",
    "        loop_count += 1\n",
    "        \n",
    "    print(\"Optimal Alpha: %3.2f\" % opt_alpha)\n",
    "    print(\"Optimal Energy: %3.2f\" % min_energy)\n",
    "\n",
    "    return opt_alpha, min_energy, alphas, energies"
   ]
  },
  {
   "cell_type": "code",
   "execution_count": 249,
   "metadata": {},
   "outputs": [
    {
     "ename": "KeyboardInterrupt",
     "evalue": "",
     "output_type": "error",
     "traceback": [
      "\u001b[0;31m---------------------------------------------------------------------------\u001b[0m",
      "\u001b[0;31mKeyboardInterrupt\u001b[0m                         Traceback (most recent call last)",
      "\u001b[0;32m<ipython-input-249-725eb473f7fa>\u001b[0m in \u001b[0;36m<module>\u001b[0;34m()\u001b[0m\n\u001b[0;32m----> 1\u001b[0;31m \u001b[0mrun_stochastic_reconfiguration\u001b[0m\u001b[0;34m(\u001b[0m\u001b[0;36m1000\u001b[0m\u001b[0;34m,\u001b[0m \u001b[0;36m4\u001b[0m\u001b[0;34m)\u001b[0m\u001b[0;34m\u001b[0m\u001b[0m\n\u001b[0m",
      "\u001b[0;32m<ipython-input-247-e7943b3fab69>\u001b[0m in \u001b[0;36mrun_stochastic_reconfiguration\u001b[0;34m(num_steps, num_particles)\u001b[0m\n\u001b[1;32m     20\u001b[0m             \u001b[0mprint\u001b[0m\u001b[0;34m(\u001b[0m\u001b[0;34m\"Optimal Energy: %3.2f loop count: %i\"\u001b[0m \u001b[0;34m%\u001b[0m \u001b[0;34m(\u001b[0m\u001b[0mmin_energy\u001b[0m\u001b[0;34m,\u001b[0m \u001b[0mloop_count\u001b[0m\u001b[0;34m)\u001b[0m\u001b[0;34m)\u001b[0m\u001b[0;34m\u001b[0m\u001b[0m\n\u001b[1;32m     21\u001b[0m         \u001b[0malphas\u001b[0m\u001b[0;34m.\u001b[0m\u001b[0mappend\u001b[0m\u001b[0;34m(\u001b[0m\u001b[0malpha\u001b[0m\u001b[0;34m)\u001b[0m\u001b[0;34m\u001b[0m\u001b[0m\n\u001b[0;32m---> 22\u001b[0;31m         \u001b[0menergy\u001b[0m\u001b[0;34m,\u001b[0m \u001b[0mexp_delta\u001b[0m\u001b[0;34m,\u001b[0m \u001b[0mexp_P\u001b[0m\u001b[0;34m,\u001b[0m \u001b[0mexp_Q\u001b[0m \u001b[0;34m=\u001b[0m \u001b[0mmonte_carlo_estimation\u001b[0m\u001b[0;34m(\u001b[0m\u001b[0malpha\u001b[0m\u001b[0;34m,\u001b[0m \u001b[0mnum_steps\u001b[0m\u001b[0;34m,\u001b[0m \u001b[0mnum_particles\u001b[0m\u001b[0;34m)\u001b[0m\u001b[0;34m\u001b[0m\u001b[0m\n\u001b[0m\u001b[1;32m     23\u001b[0m         \u001b[0menergies\u001b[0m\u001b[0;34m.\u001b[0m\u001b[0mappend\u001b[0m\u001b[0;34m(\u001b[0m\u001b[0menergy\u001b[0m\u001b[0;34m)\u001b[0m\u001b[0;34m\u001b[0m\u001b[0m\n\u001b[1;32m     24\u001b[0m \u001b[0;34m\u001b[0m\u001b[0m\n",
      "\u001b[0;32m<ipython-input-241-6b619348fd1c>\u001b[0m in \u001b[0;36mmonte_carlo_estimation\u001b[0;34m(alpha, num_steps, num_particles)\u001b[0m\n\u001b[1;32m     28\u001b[0m         \u001b[0;31m# they represent the sum of all the values for all the trial state inputs (x)\u001b[0m\u001b[0;34m\u001b[0m\u001b[0;34m\u001b[0m\u001b[0m\n\u001b[1;32m     29\u001b[0m         \u001b[0;31m# and will be normalized by dividing by the number of steps after the simulation\u001b[0m\u001b[0;34m\u001b[0m\u001b[0;34m\u001b[0m\u001b[0m\n\u001b[0;32m---> 30\u001b[0;31m         \u001b[0mlocal_energy\u001b[0m \u001b[0;34m=\u001b[0m \u001b[0mcalculate_local_energy\u001b[0m\u001b[0;34m(\u001b[0m\u001b[0mx_initial\u001b[0m\u001b[0;34m,\u001b[0m \u001b[0malpha\u001b[0m\u001b[0;34m)\u001b[0m\u001b[0;34m\u001b[0m\u001b[0m\n\u001b[0m\u001b[1;32m     31\u001b[0m         \u001b[0mexpectation_local_energy\u001b[0m \u001b[0;34m+=\u001b[0m \u001b[0mlocal_energy\u001b[0m\u001b[0;34m\u001b[0m\u001b[0m\n\u001b[1;32m     32\u001b[0m         \u001b[0mdelta_x\u001b[0m \u001b[0;34m=\u001b[0m \u001b[0mcalculate_delta_x\u001b[0m\u001b[0;34m(\u001b[0m\u001b[0mx_initial\u001b[0m\u001b[0;34m,\u001b[0m \u001b[0malpha\u001b[0m\u001b[0;34m)\u001b[0m\u001b[0;34m\u001b[0m\u001b[0m\n",
      "\u001b[0;32m<ipython-input-131-c725dc88ac30>\u001b[0m in \u001b[0;36mcalculate_local_energy\u001b[0;34m(state, alpha)\u001b[0m\n\u001b[1;32m     14\u001b[0m     \u001b[0;31m# contributions from off diagonal terms\u001b[0m\u001b[0;34m\u001b[0m\u001b[0;34m\u001b[0m\u001b[0m\n\u001b[1;32m     15\u001b[0m     \u001b[0mnon_diagonal_energies\u001b[0m \u001b[0;34m=\u001b[0m \u001b[0;36m0\u001b[0m\u001b[0;34m\u001b[0m\u001b[0m\n\u001b[0;32m---> 16\u001b[0;31m     \u001b[0moff_diag_config_states\u001b[0m \u001b[0;34m=\u001b[0m \u001b[0mget_off_diagonal_configurations\u001b[0m\u001b[0;34m(\u001b[0m\u001b[0mstate\u001b[0m\u001b[0;34m)\u001b[0m\u001b[0;34m\u001b[0m\u001b[0m\n\u001b[0m\u001b[1;32m     17\u001b[0m     \u001b[0;32mfor\u001b[0m \u001b[0mconfiguration\u001b[0m \u001b[0;32min\u001b[0m \u001b[0moff_diag_config_states\u001b[0m\u001b[0;34m:\u001b[0m\u001b[0;34m\u001b[0m\u001b[0m\n\u001b[1;32m     18\u001b[0m         \u001b[0mnon_diagonal_energies\u001b[0m \u001b[0;34m+=\u001b[0m \u001b[0;34m(\u001b[0m\u001b[0;34m-\u001b[0m\u001b[0;36m0.5\u001b[0m\u001b[0;34m)\u001b[0m\u001b[0;34m*\u001b[0m\u001b[0mget_variational_projection\u001b[0m\u001b[0;34m(\u001b[0m\u001b[0mconfiguration\u001b[0m\u001b[0;34m,\u001b[0m \u001b[0malpha\u001b[0m\u001b[0;34m)\u001b[0m\u001b[0;34m\u001b[0m\u001b[0m\n",
      "\u001b[0;32m<ipython-input-130-1e968fc25fcd>\u001b[0m in \u001b[0;36mget_off_diagonal_configurations\u001b[0;34m(state)\u001b[0m\n\u001b[1;32m     23\u001b[0m             \u001b[0mstate_copy\u001b[0m\u001b[0;34m[\u001b[0m\u001b[0mi\u001b[0m\u001b[0;34m+\u001b[0m\u001b[0;36m1\u001b[0m\u001b[0;34m]\u001b[0m \u001b[0;34m*=\u001b[0m \u001b[0;34m-\u001b[0m\u001b[0;36m1\u001b[0m\u001b[0;34m\u001b[0m\u001b[0m\n\u001b[1;32m     24\u001b[0m             \u001b[0moff_diagonal_configurations\u001b[0m\u001b[0;34m.\u001b[0m\u001b[0mappend\u001b[0m\u001b[0;34m(\u001b[0m\u001b[0mstate_copy\u001b[0m\u001b[0;34m)\u001b[0m\u001b[0;34m\u001b[0m\u001b[0m\n\u001b[0;32m---> 25\u001b[0;31m             \u001b[0mstate_copy\u001b[0m \u001b[0;34m=\u001b[0m \u001b[0mstate\u001b[0m\u001b[0;34m.\u001b[0m\u001b[0mcopy\u001b[0m\u001b[0;34m(\u001b[0m\u001b[0;34m)\u001b[0m\u001b[0;34m\u001b[0m\u001b[0m\n\u001b[0m",
      "\u001b[0;31mKeyboardInterrupt\u001b[0m: "
     ]
    }
   ],
   "source": [
    "run_stochastic_reconfiguration(1000, 4)"
   ]
  },
  {
   "cell_type": "code",
   "execution_count": null,
   "metadata": {},
   "outputs": [],
   "source": [
    "## alphas = [i*0.05 for i in range(20,40)]\n",
    "num_steps = 5000\n",
    "num_particles = 4\n",
    "alpha_factors = [i*1 for i in range(-5,5)]\n",
    "xs = np.asarray([i*1 ofr i in range(-5, 5)])\n",
    "ys = np.asarray([ground_truth_variational_energy(x) for x in xs])\n",
    "\n",
    "optimal_alpha_factor, index, energies = get_optimal_alpha(alpha_factors, num_particles, num_steps=num_steps)\n",
    "\n",
    "plt.plot(alpha_factors, energies)\n",
    "# plt.xlim(1,2)\n",
    "plt.ylim()\n",
    "plt.ylabel(\"Variational Energy\")\n",
    "plt.xlabel(\"Alpha\")\n",
    "plt.title(f\"Variational Energy at Various Alphas ({num_steps})\")\n",
    "plt.show()\n",
    "print(f\"Optimal Alpha Factor found at {optimal_alpha_factor}\")\n",
    "print(f\"Minimum Energy: {energies[index]}\")"
   ]
  },
  {
   "cell_type": "code",
   "execution_count": null,
   "metadata": {},
   "outputs": [],
   "source": []
  }
 ],
 "metadata": {
  "kernelspec": {
   "display_name": "Python 3",
   "language": "python",
   "name": "python3"
  },
  "language_info": {
   "codemirror_mode": {
    "name": "ipython",
    "version": 3
   },
   "file_extension": ".py",
   "mimetype": "text/x-python",
   "name": "python",
   "nbconvert_exporter": "python",
   "pygments_lexer": "ipython3",
   "version": "3.7.0"
  }
 },
 "nbformat": 4,
 "nbformat_minor": 2
}

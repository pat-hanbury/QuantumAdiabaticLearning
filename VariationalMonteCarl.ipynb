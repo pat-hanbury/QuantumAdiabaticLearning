{
 "cells": [
  {
   "cell_type": "markdown",
   "metadata": {},
   "source": [
    "# Variational Monte Carlo\n",
    "### For a 4 Particle System"
   ]
  },
  {
   "cell_type": "code",
   "execution_count": 20,
   "metadata": {},
   "outputs": [],
   "source": [
    "import numpy as np\n",
    "import random\n",
    "import math\n",
    "from matplotlib import pyplot as plt\n",
    "from IPython.display import clear_output\n",
    "\n",
    "\n",
    "from pdb import set_trace"
   ]
  },
  {
   "cell_type": "code",
   "execution_count": 21,
   "metadata": {},
   "outputs": [
    {
     "data": {
      "text/plain": [
       "array([[ 1,  1, -1, -1],\n",
       "       [-1, -1,  1,  1],\n",
       "       [ 1, -1,  1, -1],\n",
       "       [-1,  1, -1,  1],\n",
       "       [ 1, -1, -1,  1],\n",
       "       [-1,  1,  1, -1]])"
      ]
     },
     "execution_count": 21,
     "metadata": {},
     "output_type": "execute_result"
    }
   ],
   "source": [
    "# 1 is up and 0 is down\n",
    "# these are all the possible ground configurations that might\n",
    "# contribute to the ground states\n",
    "\n",
    "# this version makes it readable\n",
    "states = np.asarray([\n",
    "    [1, 1, 0, 0],\n",
    "    [0, 0, 1, 1],\n",
    "    [1, 0, 1, 0],\n",
    "    [0, 1, 0, 1],\n",
    "    [1, 0, 0, 1],\n",
    "    [0, 1, 1, 0],\n",
    "])\n",
    "\n",
    "# this line turns all the 0s to -1s for computational purposes\n",
    "states = states*2 - 1; states"
   ]
  },
  {
   "cell_type": "code",
   "execution_count": 22,
   "metadata": {},
   "outputs": [],
   "source": [
    "def get_random_state():\n",
    "    return random.choice(states)"
   ]
  },
  {
   "cell_type": "code",
   "execution_count": 23,
   "metadata": {},
   "outputs": [],
   "source": [
    "def get_variational_projection(state, alpha):\n",
    "    \"\"\"\n",
    "    This function computes the projection of state in the spin basis\n",
    "    onto the varitional wave function\n",
    "    \"\"\"\n",
    "    exponent = 0 \n",
    "    # FOO DO WE COUNT THE SUMS TWICE?\n",
    "    for i in range(len(state)):\n",
    "        for j in range(len(state)):\n",
    "            if i is not j:\n",
    "                exponent += -1*(alpha/abs(i-j))*state[i]*state[j]\n",
    "    return math.exp(exponent)"
   ]
  },
  {
   "cell_type": "code",
   "execution_count": 24,
   "metadata": {},
   "outputs": [],
   "source": [
    "def get_off_diagonal_configurations(state):\n",
    "    \"\"\"\n",
    "    This function generates a list of configurations that could\n",
    "    be flipped into the inputted by state by the application of\n",
    "    Raising or lowering operators (Check the hamiltonian equation)\n",
    "    \n",
    "    returns a list of configurations\n",
    "    \n",
    "    ***NOTE: This solution is computational intractable and might not\n",
    "    be the most optimal one\n",
    "    \"\"\"\n",
    "    state_copy = state.copy()\n",
    "    off_diagonal_configurations = list()\n",
    "    for i in range(len(state)):\n",
    "        if i == len(state) - 1:\n",
    "            if state[i] != state[0]:\n",
    "                state_copy[i] *= -1\n",
    "                state_copy[0] *= -1\n",
    "                off_diagonal_configurations.append(state_copy)\n",
    "            return off_diagonal_configurations\n",
    "        if state[i] != state[i+1]:\n",
    "            state_copy[i] *= -1\n",
    "            state_copy[i+1] *= -1\n",
    "            off_diagonal_configurations.append(state_copy)\n",
    "            state_copy = state.copy()"
   ]
  },
  {
   "cell_type": "code",
   "execution_count": 25,
   "metadata": {},
   "outputs": [],
   "source": [
    "def calculate_local_energy(state, alpha):\n",
    "    \"\"\"\n",
    "    This function calculates the local energy of a state\n",
    "    \"\"\"\n",
    "    # contribution from Z direction spin terms\n",
    "    energy = 0\n",
    "    variational_projection = get_variational_projection(state, alpha) # (The 1 is the h-bar, which is one in our units)\n",
    "    for i in range(len(state)):\n",
    "        if i == len(state) - 1:\n",
    "            energy += (variational_projection*state[i] * state[0])\n",
    "        else:\n",
    "            energy += (variational_projection*state[i] * state[i+1])  \n",
    "            \n",
    "    # contributions from off diagonal terms\n",
    "    for configuration_state in get_off_diagonal_configurations(state):\n",
    "        energy += get_variational_projection(configuration_state, alpha)*(1/8)\n",
    "    return energy / variational_projection"
   ]
  },
  {
   "cell_type": "code",
   "execution_count": 31,
   "metadata": {},
   "outputs": [],
   "source": [
    "def compute_R(trial_state, initial_state, alpha):\n",
    "    \"\"\"\n",
    "    Function compute \"R\", which is the ratio between the weight functions\n",
    "    of the initial state and the trial state.\n",
    "    \"\"\"\n",
    "    numerator = get_variational_projection(trial_state, alpha) **2\n",
    "    denominator = get_variational_projection(initial_state, alpha) **2\n",
    "    return numerator / denominator"
   ]
  },
  {
   "cell_type": "code",
   "execution_count": 32,
   "metadata": {},
   "outputs": [],
   "source": [
    "def random_flip(state):\n",
    "    \"\"\"\n",
    "    Randomly flips two bits of a state such\n",
    "    that there are still two up and two down\n",
    "    \"\"\"\n",
    "    choices = random.sample(list(range(0,len(state))), len(state))\n",
    "    flip1_index = choices.pop()\n",
    "    flip1_value = state[flip1_index]\n",
    "    state[flip1_index] *= -1\n",
    "    cont = True\n",
    "    while(cont):\n",
    "        flip2_index = choices.pop()\n",
    "        if state[flip2_index] != flip1_value:\n",
    "            state[flip2_index] *= -1\n",
    "            cont = False\n",
    "    return state"
   ]
  },
  {
   "cell_type": "code",
   "execution_count": 33,
   "metadata": {},
   "outputs": [],
   "source": [
    "def monte_carlo_estimation(alpha, num_steps):\n",
    "    x_initial = get_random_state()\n",
    "    running_total = 0\n",
    "    for i in range(num_steps):\n",
    "        x_trial = random_flip(x_initial)\n",
    "        R = compute_R(x_trial, x_initial, alpha)\n",
    "        r = random.uniform(0,1)\n",
    "        if R > r:\n",
    "            x_initial = x_trial\n",
    "        running_total += calculate_local_energy(x_initial, alpha)\n",
    "    return running_total / num_steps"
   ]
  },
  {
   "cell_type": "code",
   "execution_count": 46,
   "metadata": {},
   "outputs": [],
   "source": [
    "def get_optimal_alpha(alphas, num_steps=50000):\n",
    "    energies = list()\n",
    "    for i, alpha in enumerate(alphas):\n",
    "        clear_output(wait=True)\n",
    "        print(f\"Alpha: {i+1}/{len(alphas)}\")\n",
    "        energies.append(monte_carlo_estimation(alpha, num_steps))\n",
    "    return alphas[np.argmin(energies)], np.argmin(energies), energies"
   ]
  },
  {
   "cell_type": "code",
   "execution_count": 47,
   "metadata": {},
   "outputs": [
    {
     "data": {
      "text/plain": [
       "[0.01, 0.02, 0.03, 0.04, 0.05, 0.06, 0.07, 0.08, 0.09]"
      ]
     },
     "execution_count": 47,
     "metadata": {},
     "output_type": "execute_result"
    }
   ],
   "source": [
    "alphas"
   ]
  },
  {
   "cell_type": "code",
   "execution_count": 63,
   "metadata": {},
   "outputs": [
    {
     "name": "stdout",
     "output_type": "stream",
     "text": [
      "Alpha: 9/9\n"
     ]
    },
    {
     "data": {
      "image/png": "[encoded data removed]",
      "text/plain": [
       "<Figure size 432x288 with 1 Axes>"
      ]
     },
     "metadata": {
      "needs_background": "light"
     },
     "output_type": "display_data"
    },
    {
     "name": "stdout",
     "output_type": "stream",
     "text": [
      "Optimal Alpha found at 0.05\n",
      "Minimum Energy: -1.01147338255197\n"
     ]
    }
   ],
   "source": [
    "alphas = [i*0.05 for i in range(1,10)]\n",
    "num_steps = 10000\n",
    "\n",
    "optimal_alpha, index, energies = get_optimal_alpha(alphas, num_steps=num_steps)\n",
    "\n",
    "plt.plot(alphas, energies)\n",
    "plt.ylabel(\"Variational Energy\")\n",
    "plt.xlabel(\"Alpha\")\n",
    "plt.title(f\"Variational Energy at Various Alphas ({num_steps})\")\n",
    "plt.show()\n",
    "print(f\"Optimal Alpha found at {optimal_alpha}\")\n",
    "print(f\"Minimum Energy: {energies[index]}\")"
   ]
  },
  {
   "cell_type": "code",
   "execution_count": 62,
   "metadata": {},
   "outputs": [
    {
     "name": "stdout",
     "output_type": "stream",
     "text": [
      "Alpha: 9/9\n"
     ]
    },
    {
     "data": {
      "image/png": "[encoded data removed]",
      "text/plain": [
       "<Figure size 432x288 with 1 Axes>"
      ]
     },
     "metadata": {
      "needs_background": "light"
     },
     "output_type": "display_data"
    },
    {
     "name": "stdout",
     "output_type": "stream",
     "text": [
      "Optimal Alpha found at 0.1\n",
      "Minimum Energy: -0.9892013264472005\n"
     ]
    }
   ],
   "source": [
    "alphas = [i*0.1 for i in range(1,10)]\n",
    "num_steps = 10000\n",
    "optimal_alpha, index, energies = get_optimal_alpha(alphas, num_steps=num_steps)\n",
    "\n",
    "plt.plot(alphas, energies)\n",
    "plt.ylabel(\"Variational Energy\")\n",
    "plt.xlabel(\"Alpha\")\n",
    "plt.title(f\"Variational Energy at Various Alphas ({num_steps})\")\n",
    "plt.show()\n",
    "print(f\"Optimal Alpha found at {optimal_alpha}\")\n",
    "print(f\"Minimum Energy: {energies[index]}\")"
   ]
  },
  {
   "cell_type": "code",
   "execution_count": 66,
   "metadata": {},
   "outputs": [
    {
     "name": "stdout",
     "output_type": "stream",
     "text": [
      "Alpha: 9/9\n"
     ]
    },
    {
     "data": {
      "image/png": "[encoded data removed]",
      "text/plain": [
       "<Figure size 432x288 with 1 Axes>"
      ]
     },
     "metadata": {
      "needs_background": "light"
     },
     "output_type": "display_data"
    },
    {
     "name": "stdout",
     "output_type": "stream",
     "text": [
      "Optimal Alpha found at 0.01\n",
      "Minimum Energy: -0.9996842608940645\n"
     ]
    }
   ],
   "source": [
    "alphas = [i*0.01 for i in range(1,10)]\n",
    "num_steps = 100000\n",
    "optimal_alpha, index, energies = get_optimal_alpha(alphas, num_steps=num_steps)\n",
    "\n",
    "plt.plot(alphas, energies)\n",
    "plt.ylabel(\"Variational Energy\")\n",
    "plt.xlabel(\"Alpha\")\n",
    "plt.title(f\"Variational Energy at Various Alphas ({num_steps})\")\n",
    "plt.show()\n",
    "print(f\"Optimal Alpha found at {optimal_alpha}\")\n",
    "print(f\"Minimum Energy: {energies[index]}\")"
   ]
  },
  {
   "cell_type": "code",
   "execution_count": null,
   "metadata": {},
   "outputs": [],
   "source": []
  }
 ],
 "metadata": {
  "kernelspec": {
   "display_name": "Python 3",
   "language": "python",
   "name": "python3"
  },
  "language_info": {
   "codemirror_mode": {
    "name": "ipython",
    "version": 3
   },
   "file_extension": ".py",
   "mimetype": "text/x-python",
   "name": "python",
   "nbconvert_exporter": "python",
   "pygments_lexer": "ipython3",
   "version": "3.7.0"
  }
 },
 "nbformat": 4,
 "nbformat_minor": 2
}

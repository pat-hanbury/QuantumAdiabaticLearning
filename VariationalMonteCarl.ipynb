{
 "cells": [
  {
   "cell_type": "markdown",
   "metadata": {},
   "source": [
    "# Variational Monte Carlo\n",
    "### For a 4 Particle System"
   ]
  },
  {
   "cell_type": "code",
   "execution_count": null,
   "metadata": {},
   "outputs": [],
   "source": [
    "import numpy as np\n",
    "import random\n",
    "import math\n",
    "from matplotlib import pyplot as plt\n",
    "from IPython.display import clear_output\n",
    "\n",
    "\n",
    "from pdb import set_trace"
   ]
  },
  {
   "cell_type": "code",
   "execution_count": null,
   "metadata": {},
   "outputs": [],
   "source": [
    "# 1 is up and 0 is down\n",
    "# these are all the possible ground configurations that might\n",
    "# contribute to the ground states\n",
    "\n",
    "# this version makes it readable\n",
    "states = np.asarray([\n",
    "    [1, 1, 0, 0],\n",
    "    [0, 0, 1, 1],\n",
    "    [1, 0, 1, 0],\n",
    "    [0, 1, 0, 1],\n",
    "    [1, 0, 0, 1],\n",
    "    [0, 1, 1, 0],\n",
    "])\n",
    "\n",
    "# this line turns all the 0s to -1s for computational purposes\n",
    "states = states*2 - 1; states"
   ]
  },
  {
   "cell_type": "code",
   "execution_count": null,
   "metadata": {},
   "outputs": [],
   "source": [
    "def get_random_state():\n",
    "    return random.choice(states)"
   ]
  },
  {
   "cell_type": "code",
   "execution_count": 507,
   "metadata": {},
   "outputs": [],
   "source": [
    "def get_variational_projection(state, alpha):\n",
    "    \"\"\"\n",
    "    This function computes the projection of state in the spin basis\n",
    "    onto the varitional wave function\n",
    "    \"\"\"\n",
    "    exponent = 0 \n",
    "    # FOO DO WE COUNT THE SUMS TWICE?\n",
    "    for i in range(len(state)):\n",
    "        for j in range(i, len(state)):\n",
    "            if i is not j:\n",
    "                new_exp_term = -1*((-1)^(min(abs(i-j),abs((i-len(state)) - j), abs(i - (j-len(state)) ))))*(alpha/(min(abs(i-j),abs((i-len(state)) - j), abs(i - (j-len(state)) ))))*state[i]*state[j]/4 # need the \"/4\" because spin 1/2 particles\n",
    "                exponent += new_exp_term\n",
    "    return math.exp(exponent)"
   ]
  },
  {
   "cell_type": "code",
   "execution_count": 494,
   "metadata": {},
   "outputs": [],
   "source": [
    "def get_off_diagonal_configurations(state):\n",
    "    \"\"\"\n",
    "    This function generates a list of configurations that could\n",
    "    be flipped into the inputted by state by the application of\n",
    "    Raising or lowering operators (Check the hamiltonian equation)\n",
    "    \n",
    "    returns a list of configurations\n",
    "    \n",
    "    ***NOTE: This solution is computational intractable and might not\n",
    "    be the most optimal one\n",
    "    \"\"\"\n",
    "    state_copy = state.copy()\n",
    "    off_diagonal_configurations = list()\n",
    "    for i in range(len(state)):\n",
    "        if i == len(state) - 1:\n",
    "            if state[i] != state[0]:\n",
    "                state_copy[i] *= -1\n",
    "                state_copy[0] *= -1\n",
    "                off_diagonal_configurations.append(state_copy)\n",
    "            return off_diagonal_configurations\n",
    "        if state[i] != state[i+1]:\n",
    "            state_copy[i] *= -1\n",
    "            state_copy[i+1] *= -1\n",
    "            off_diagonal_configurations.append(state_copy)\n",
    "            state_copy = state.copy()"
   ]
  },
  {
   "cell_type": "code",
   "execution_count": 495,
   "metadata": {},
   "outputs": [],
   "source": [
    "def calculate_local_energy(state, alpha):\n",
    "    \"\"\"\n",
    "    This function calculates the local energy of a state\n",
    "    \"\"\"\n",
    "    # contribution from Z direction spin terms\n",
    "    energy = 0\n",
    "    variational_projection = get_variational_projection(state, alpha) # (The 1 is the h-bar, which is one in our units)\n",
    "    for i in range(len(state)):\n",
    "        if i == len(state) - 1:\n",
    "            energy += (variational_projection*state[i] * state[0])/4\n",
    "        else:\n",
    "            energy += (variational_projection*state[i] * state[i+1])/4\n",
    "    # print(f\"Diagonal energy: {energy}\")\n",
    "            \n",
    "    # contributions from off diagonal terms\n",
    "    non_diagonal_energies = 0\n",
    "    for configuration_state in get_off_diagonal_configurations(state):\n",
    "        non_diagonal_energies += get_variational_projection(configuration_state, alpha)*(1/2)\n",
    "    energy += non_diagonal_energies\n",
    "    # print(f\"Non-Diagonal energies: {non_diagonal_energies}\")\n",
    "    # print(f\"Variational  Projection: {variational_projection}\")\n",
    "    return energy / variational_projection"
   ]
  },
  {
   "cell_type": "code",
   "execution_count": 496,
   "metadata": {},
   "outputs": [
    {
     "data": {
      "text/plain": [
       "22025.46584020665"
      ]
     },
     "execution_count": 496,
     "metadata": {},
     "output_type": "execute_result"
    }
   ],
   "source": [
    "calculate_local_energy(states[2], alpha=20)"
   ]
  },
  {
   "cell_type": "code",
   "execution_count": null,
   "metadata": {},
   "outputs": [],
   "source": []
  },
  {
   "cell_type": "code",
   "execution_count": null,
   "metadata": {},
   "outputs": [],
   "source": []
  },
  {
   "cell_type": "code",
   "execution_count": 497,
   "metadata": {},
   "outputs": [],
   "source": [
    "def compute_R(trial_state, initial_state, alpha):\n",
    "    \"\"\"\n",
    "    Function compute \"R\", which is the ratio between the weight functions\n",
    "    of the initial state and the trial state.\n",
    "    \"\"\"\n",
    "    numerator = get_variational_projection(trial_state, alpha) **2\n",
    "    denominator = get_variational_projection(initial_state, alpha) **2\n",
    "    return numerator / denominator"
   ]
  },
  {
   "cell_type": "code",
   "execution_count": 498,
   "metadata": {},
   "outputs": [],
   "source": [
    "def random_flip(state):\n",
    "    \"\"\"\n",
    "    Randomly flips two bits of a state such\n",
    "    that there are still two up and two down\n",
    "    \"\"\"\n",
    "    choices = random.sample(list(range(0,len(state))), len(state))\n",
    "    flip1_index = choices.pop()\n",
    "    flip1_value = state[flip1_index]\n",
    "    state[flip1_index] *= -1\n",
    "    cont = True\n",
    "    while(cont):\n",
    "        flip2_index = choices.pop()\n",
    "        if state[flip2_index] != flip1_value:\n",
    "            state[flip2_index] *= -1\n",
    "            cont = False\n",
    "    return state"
   ]
  },
  {
   "cell_type": "code",
   "execution_count": 499,
   "metadata": {},
   "outputs": [],
   "source": [
    "def monte_carlo_estimation(alpha, num_steps):\n",
    "    x_initial = get_random_state()\n",
    "    running_total = 0\n",
    "    for i in range(num_steps):\n",
    "        x_trial = random_flip(x_initial.copy())\n",
    "        R = compute_R(x_trial, x_initial, alpha)\n",
    "        r = random.uniform(0,1)\n",
    "        if R > r:\n",
    "            x_initial = x_trial.copy()\n",
    "        running_total += calculate_local_energy(x_initial, alpha)\n",
    "    return running_total / num_steps"
   ]
  },
  {
   "cell_type": "code",
   "execution_count": 500,
   "metadata": {},
   "outputs": [],
   "source": [
    "def get_optimal_alpha(alphas, num_steps=50000):\n",
    "    energies = list()\n",
    "    for i, alpha in enumerate(alphas):\n",
    "        clear_output(wait=True)\n",
    "        print(f\"Alpha: {i+1}/{len(alphas)}\")\n",
    "        energies.append(monte_carlo_estimation(alpha, num_steps))\n",
    "    return alphas[np.argmin(energies)], np.argmin(energies), energies"
   ]
  },
  {
   "cell_type": "code",
   "execution_count": 501,
   "metadata": {},
   "outputs": [
    {
     "data": {
      "text/plain": [
       "[0.25,\n",
       " 0.5,\n",
       " 0.75,\n",
       " 1.0,\n",
       " 1.25,\n",
       " 1.5,\n",
       " 1.75,\n",
       " 2.0,\n",
       " 2.25,\n",
       " 2.5,\n",
       " 2.75,\n",
       " 3.0,\n",
       " 3.25,\n",
       " 3.5,\n",
       " 3.75,\n",
       " 4.0,\n",
       " 4.25,\n",
       " 4.5,\n",
       " 4.75,\n",
       " 5.0,\n",
       " 5.25,\n",
       " 5.5,\n",
       " 5.75,\n",
       " 6.0,\n",
       " 6.25,\n",
       " 6.5,\n",
       " 6.75,\n",
       " 7.0,\n",
       " 7.25,\n",
       " 7.5,\n",
       " 7.75,\n",
       " 8.0,\n",
       " 8.25,\n",
       " 8.5,\n",
       " 8.75,\n",
       " 9.0,\n",
       " 9.25,\n",
       " 9.5,\n",
       " 9.75]"
      ]
     },
     "execution_count": 501,
     "metadata": {},
     "output_type": "execute_result"
    }
   ],
   "source": [
    "alphas"
   ]
  },
  {
   "cell_type": "code",
   "execution_count": 509,
   "metadata": {},
   "outputs": [
    {
     "name": "stdout",
     "output_type": "stream",
     "text": [
      "Alpha: 20/20\n"
     ]
    },
    {
     "data": {
      "image/png": "[encoded data removed]",
      "text/plain": [
       "<Figure size 432x288 with 1 Axes>"
      ]
     },
     "metadata": {
      "needs_background": "light"
     },
     "output_type": "display_data"
    },
    {
     "name": "stdout",
     "output_type": "stream",
     "text": [
      "Optimal Alpha found at 19\n",
      "Minimum Energy: 7.485182988770099e-05\n"
     ]
    }
   ],
   "source": [
    "alphas = [i*1 for i in range(0,20)]\n",
    "num_steps = 5000\n",
    "\n",
    "optimal_alpha, index, energies = get_optimal_alpha(alphas, num_steps=num_steps)\n",
    "\n",
    "plt.plot(alphas, energies)\n",
    "plt.ylabel(\"Variational Energy\")\n",
    "plt.xlabel(\"Alpha\")\n",
    "plt.title(f\"Variational Energy at Various Alphas ({num_steps})\")\n",
    "plt.show()\n",
    "print(f\"Optimal Alpha found at {optimal_alpha}\")\n",
    "print(f\"Minimum Energy: {energies[index]}\")"
   ]
  },
  {
   "cell_type": "code",
   "execution_count": 464,
   "metadata": {},
   "outputs": [
    {
     "ename": "ValueError",
     "evalue": "attempt to get argmin of an empty sequence",
     "output_type": "error",
     "traceback": [
      "\u001b[0;31m---------------------------------------------------------------------------\u001b[0m",
      "\u001b[0;31mAttributeError\u001b[0m                            Traceback (most recent call last)",
      "\u001b[0;32m~/miniconda3/lib/python3.7/site-packages/numpy/core/fromnumeric.py\u001b[0m in \u001b[0;36m_wrapfunc\u001b[0;34m(obj, method, *args, **kwds)\u001b[0m\n\u001b[1;32m     50\u001b[0m     \u001b[0;32mtry\u001b[0m\u001b[0;34m:\u001b[0m\u001b[0;34m\u001b[0m\u001b[0m\n\u001b[0;32m---> 51\u001b[0;31m         \u001b[0;32mreturn\u001b[0m \u001b[0mgetattr\u001b[0m\u001b[0;34m(\u001b[0m\u001b[0mobj\u001b[0m\u001b[0;34m,\u001b[0m \u001b[0mmethod\u001b[0m\u001b[0;34m)\u001b[0m\u001b[0;34m(\u001b[0m\u001b[0;34m*\u001b[0m\u001b[0margs\u001b[0m\u001b[0;34m,\u001b[0m \u001b[0;34m**\u001b[0m\u001b[0mkwds\u001b[0m\u001b[0;34m)\u001b[0m\u001b[0;34m\u001b[0m\u001b[0m\n\u001b[0m\u001b[1;32m     52\u001b[0m \u001b[0;34m\u001b[0m\u001b[0m\n",
      "\u001b[0;31mAttributeError\u001b[0m: 'list' object has no attribute 'argmin'",
      "\nDuring handling of the above exception, another exception occurred:\n",
      "\u001b[0;31mValueError\u001b[0m                                Traceback (most recent call last)",
      "\u001b[0;32m<ipython-input-464-9b0069b3f34b>\u001b[0m in \u001b[0;36m<module>\u001b[0;34m()\u001b[0m\n\u001b[1;32m      1\u001b[0m \u001b[0malphas\u001b[0m \u001b[0;34m=\u001b[0m \u001b[0;34m[\u001b[0m\u001b[0mi\u001b[0m\u001b[0;34m*\u001b[0m\u001b[0;36m0.1\u001b[0m \u001b[0;32mfor\u001b[0m \u001b[0mi\u001b[0m \u001b[0;32min\u001b[0m \u001b[0mrange\u001b[0m\u001b[0;34m(\u001b[0m\u001b[0;36m1\u001b[0m\u001b[0;34m,\u001b[0m\u001b[0;36m1\u001b[0m\u001b[0;34m)\u001b[0m\u001b[0;34m]\u001b[0m\u001b[0;34m\u001b[0m\u001b[0m\n\u001b[1;32m      2\u001b[0m \u001b[0mnum_steps\u001b[0m \u001b[0;34m=\u001b[0m \u001b[0;36m10000\u001b[0m\u001b[0;34m\u001b[0m\u001b[0m\n\u001b[0;32m----> 3\u001b[0;31m \u001b[0moptimal_alpha\u001b[0m\u001b[0;34m,\u001b[0m \u001b[0mindex\u001b[0m\u001b[0;34m,\u001b[0m \u001b[0menergies\u001b[0m \u001b[0;34m=\u001b[0m \u001b[0mget_optimal_alpha\u001b[0m\u001b[0;34m(\u001b[0m\u001b[0malphas\u001b[0m\u001b[0;34m,\u001b[0m \u001b[0mnum_steps\u001b[0m\u001b[0;34m=\u001b[0m\u001b[0mnum_steps\u001b[0m\u001b[0;34m)\u001b[0m\u001b[0;34m\u001b[0m\u001b[0m\n\u001b[0m\u001b[1;32m      4\u001b[0m \u001b[0;34m\u001b[0m\u001b[0m\n\u001b[1;32m      5\u001b[0m \u001b[0mplt\u001b[0m\u001b[0;34m.\u001b[0m\u001b[0mplot\u001b[0m\u001b[0;34m(\u001b[0m\u001b[0malphas\u001b[0m\u001b[0;34m,\u001b[0m \u001b[0menergies\u001b[0m\u001b[0;34m)\u001b[0m\u001b[0;34m\u001b[0m\u001b[0m\n",
      "\u001b[0;32m<ipython-input-401-c6248f1bbff6>\u001b[0m in \u001b[0;36mget_optimal_alpha\u001b[0;34m(alphas, num_steps)\u001b[0m\n\u001b[1;32m      5\u001b[0m         \u001b[0mprint\u001b[0m\u001b[0;34m(\u001b[0m\u001b[0;34mf\"Alpha: {i+1}/{len(alphas)}\"\u001b[0m\u001b[0;34m)\u001b[0m\u001b[0;34m\u001b[0m\u001b[0m\n\u001b[1;32m      6\u001b[0m         \u001b[0menergies\u001b[0m\u001b[0;34m.\u001b[0m\u001b[0mappend\u001b[0m\u001b[0;34m(\u001b[0m\u001b[0mmonte_carlo_estimation\u001b[0m\u001b[0;34m(\u001b[0m\u001b[0malpha\u001b[0m\u001b[0;34m,\u001b[0m \u001b[0mnum_steps\u001b[0m\u001b[0;34m)\u001b[0m\u001b[0;34m)\u001b[0m\u001b[0;34m\u001b[0m\u001b[0m\n\u001b[0;32m----> 7\u001b[0;31m     \u001b[0;32mreturn\u001b[0m \u001b[0malphas\u001b[0m\u001b[0;34m[\u001b[0m\u001b[0mnp\u001b[0m\u001b[0;34m.\u001b[0m\u001b[0margmin\u001b[0m\u001b[0;34m(\u001b[0m\u001b[0menergies\u001b[0m\u001b[0;34m)\u001b[0m\u001b[0;34m]\u001b[0m\u001b[0;34m,\u001b[0m \u001b[0mnp\u001b[0m\u001b[0;34m.\u001b[0m\u001b[0margmin\u001b[0m\u001b[0;34m(\u001b[0m\u001b[0menergies\u001b[0m\u001b[0;34m)\u001b[0m\u001b[0;34m,\u001b[0m \u001b[0menergies\u001b[0m\u001b[0;34m\u001b[0m\u001b[0m\n\u001b[0m",
      "\u001b[0;32m~/miniconda3/lib/python3.7/site-packages/numpy/core/fromnumeric.py\u001b[0m in \u001b[0;36margmin\u001b[0;34m(a, axis, out)\u001b[0m\n\u001b[1;32m   1099\u001b[0m \u001b[0;34m\u001b[0m\u001b[0m\n\u001b[1;32m   1100\u001b[0m     \"\"\"\n\u001b[0;32m-> 1101\u001b[0;31m     \u001b[0;32mreturn\u001b[0m \u001b[0m_wrapfunc\u001b[0m\u001b[0;34m(\u001b[0m\u001b[0ma\u001b[0m\u001b[0;34m,\u001b[0m \u001b[0;34m'argmin'\u001b[0m\u001b[0;34m,\u001b[0m \u001b[0maxis\u001b[0m\u001b[0;34m=\u001b[0m\u001b[0maxis\u001b[0m\u001b[0;34m,\u001b[0m \u001b[0mout\u001b[0m\u001b[0;34m=\u001b[0m\u001b[0mout\u001b[0m\u001b[0;34m)\u001b[0m\u001b[0;34m\u001b[0m\u001b[0m\n\u001b[0m\u001b[1;32m   1102\u001b[0m \u001b[0;34m\u001b[0m\u001b[0m\n\u001b[1;32m   1103\u001b[0m \u001b[0;34m\u001b[0m\u001b[0m\n",
      "\u001b[0;32m~/miniconda3/lib/python3.7/site-packages/numpy/core/fromnumeric.py\u001b[0m in \u001b[0;36m_wrapfunc\u001b[0;34m(obj, method, *args, **kwds)\u001b[0m\n\u001b[1;32m     59\u001b[0m     \u001b[0;31m# a downstream library like 'pandas'.\u001b[0m\u001b[0;34m\u001b[0m\u001b[0;34m\u001b[0m\u001b[0m\n\u001b[1;32m     60\u001b[0m     \u001b[0;32mexcept\u001b[0m \u001b[0;34m(\u001b[0m\u001b[0mAttributeError\u001b[0m\u001b[0;34m,\u001b[0m \u001b[0mTypeError\u001b[0m\u001b[0;34m)\u001b[0m\u001b[0;34m:\u001b[0m\u001b[0;34m\u001b[0m\u001b[0m\n\u001b[0;32m---> 61\u001b[0;31m         \u001b[0;32mreturn\u001b[0m \u001b[0m_wrapit\u001b[0m\u001b[0;34m(\u001b[0m\u001b[0mobj\u001b[0m\u001b[0;34m,\u001b[0m \u001b[0mmethod\u001b[0m\u001b[0;34m,\u001b[0m \u001b[0;34m*\u001b[0m\u001b[0margs\u001b[0m\u001b[0;34m,\u001b[0m \u001b[0;34m**\u001b[0m\u001b[0mkwds\u001b[0m\u001b[0;34m)\u001b[0m\u001b[0;34m\u001b[0m\u001b[0m\n\u001b[0m\u001b[1;32m     62\u001b[0m \u001b[0;34m\u001b[0m\u001b[0m\n\u001b[1;32m     63\u001b[0m \u001b[0;34m\u001b[0m\u001b[0m\n",
      "\u001b[0;32m~/miniconda3/lib/python3.7/site-packages/numpy/core/fromnumeric.py\u001b[0m in \u001b[0;36m_wrapit\u001b[0;34m(obj, method, *args, **kwds)\u001b[0m\n\u001b[1;32m     39\u001b[0m     \u001b[0;32mexcept\u001b[0m \u001b[0mAttributeError\u001b[0m\u001b[0;34m:\u001b[0m\u001b[0;34m\u001b[0m\u001b[0m\n\u001b[1;32m     40\u001b[0m         \u001b[0mwrap\u001b[0m \u001b[0;34m=\u001b[0m \u001b[0;32mNone\u001b[0m\u001b[0;34m\u001b[0m\u001b[0m\n\u001b[0;32m---> 41\u001b[0;31m     \u001b[0mresult\u001b[0m \u001b[0;34m=\u001b[0m \u001b[0mgetattr\u001b[0m\u001b[0;34m(\u001b[0m\u001b[0masarray\u001b[0m\u001b[0;34m(\u001b[0m\u001b[0mobj\u001b[0m\u001b[0;34m)\u001b[0m\u001b[0;34m,\u001b[0m \u001b[0mmethod\u001b[0m\u001b[0;34m)\u001b[0m\u001b[0;34m(\u001b[0m\u001b[0;34m*\u001b[0m\u001b[0margs\u001b[0m\u001b[0;34m,\u001b[0m \u001b[0;34m**\u001b[0m\u001b[0mkwds\u001b[0m\u001b[0;34m)\u001b[0m\u001b[0;34m\u001b[0m\u001b[0m\n\u001b[0m\u001b[1;32m     42\u001b[0m     \u001b[0;32mif\u001b[0m \u001b[0mwrap\u001b[0m\u001b[0;34m:\u001b[0m\u001b[0;34m\u001b[0m\u001b[0m\n\u001b[1;32m     43\u001b[0m         \u001b[0;32mif\u001b[0m \u001b[0;32mnot\u001b[0m \u001b[0misinstance\u001b[0m\u001b[0;34m(\u001b[0m\u001b[0mresult\u001b[0m\u001b[0;34m,\u001b[0m \u001b[0mmu\u001b[0m\u001b[0;34m.\u001b[0m\u001b[0mndarray\u001b[0m\u001b[0;34m)\u001b[0m\u001b[0;34m:\u001b[0m\u001b[0;34m\u001b[0m\u001b[0m\n",
      "\u001b[0;31mValueError\u001b[0m: attempt to get argmin of an empty sequence"
     ]
    }
   ],
   "source": [
    "alphas = [i*0.1 for i in range(1,1)]\n",
    "num_steps = 10000\n",
    "optimal_alpha, index, energies = get_optimal_alpha(alphas, num_steps=num_steps)\n",
    "\n",
    "plt.plot(alphas, energies)\n",
    "plt.ylabel(\"Variational Energy\")\n",
    "plt.xlabel(\"Alpha\")\n",
    "plt.title(f\"Variational Energy at Various Alphas ({num_steps})\")\n",
    "plt.show()\n",
    "print(f\"Optimal Alpha found at {optimal_alpha}\")\n",
    "print(f\"Minimum Energy: {energies[index]}\")"
   ]
  },
  {
   "cell_type": "code",
   "execution_count": null,
   "metadata": {},
   "outputs": [],
   "source": [
    "alphas = [i*0.01 for i in range(1,10)]\n",
    "num_steps = 10000\n",
    "optimal_alpha, index, energies = get_optimal_alpha(alphas, num_steps=num_steps)\n",
    "\n",
    "plt.plot(alphas, energies)\n",
    "plt.ylabel(\"Variational Energy\")\n",
    "plt.xlabel(\"Alpha\")\n",
    "plt.title(f\"Variational Energy at Various Alphas ({num_steps})\")\n",
    "plt.show()\n",
    "print(f\"Optimal Alpha found at {optimal_alpha}\")\n",
    "print(f\"Minimum Energy: {energies[index]}\")"
   ]
  },
  {
   "cell_type": "code",
   "execution_count": null,
   "metadata": {},
   "outputs": [],
   "source": [
    "alphas = [i*1 for i in range(8,16)]\n",
    "num_steps = 10000\n",
    "optimal_alpha, index, energies = get_optimal_alpha(alphas, num_steps=num_steps)\n",
    "\n",
    "plt.plot(alphas, energies)\n",
    "plt.ylabel(\"Variational Energy\")\n",
    "plt.xlabel(\"Alpha\")\n",
    "plt.title(f\"Variational Energy at Various Alphas ({num_steps})\")\n",
    "plt.show()\n",
    "print(f\"Optimal Alpha found at {optimal_alpha}\")\n",
    "print(f\"Minimum Energy: {energies[index]}\")"
   ]
  },
  {
   "cell_type": "code",
   "execution_count": null,
   "metadata": {},
   "outputs": [],
   "source": [
    "states[0]"
   ]
  },
  {
   "cell_type": "code",
   "execution_count": null,
   "metadata": {},
   "outputs": [],
   "source": [
    "get_off_diagonal_configurations(states[2])"
   ]
  },
  {
   "cell_type": "code",
   "execution_count": null,
   "metadata": {},
   "outputs": [],
   "source": []
  },
  {
   "cell_type": "code",
   "execution_count": null,
   "metadata": {},
   "outputs": [],
   "source": [
    "-2*math.exp(float(1.5))"
   ]
  },
  {
   "cell_type": "markdown",
   "metadata": {},
   "source": [
    "## This one is without translational invariance"
   ]
  },
  {
   "cell_type": "code",
   "execution_count": null,
   "metadata": {},
   "outputs": [],
   "source": [
    "def get_variational_projection(state, alpha):\n",
    "    \"\"\"\n",
    "    This function computes the projection of state in the spin basis\n",
    "    onto the varitional wave function\n",
    "    \"\"\"\n",
    "    exponent = 0 \n",
    "    # FOO DO WE COUNT THE SUMS TWICE?\n",
    "    for i in range(len(state)):\n",
    "        for j in range(len(state)):\n",
    "            if i is not j:\n",
    "                new_exp_term = -1*(alpha/(abs(i-j))*state[i]*state[j])/4 # need the \"/4\" because spin 1/2 particles\n",
    "                exponent += new_exp_term\n",
    "    return math.exp(exponent)"
   ]
  },
  {
   "cell_type": "code",
   "execution_count": null,
   "metadata": {},
   "outputs": [],
   "source": [
    "def get_off_diagonal_configurations(state):\n",
    "    \"\"\"\n",
    "    This function generates a list of configurations that could\n",
    "    be flipped into the inputted by state by the application of\n",
    "    Raising or lowering operators (Check the hamiltonian equation)\n",
    "    \n",
    "    returns a list of configurations\n",
    "    \n",
    "    ***NOTE: This solution is computational intractable and might not\n",
    "    be the most optimal one\n",
    "    \"\"\"\n",
    "    state_copy = state.copy()\n",
    "    off_diagonal_configurations = list()\n",
    "    for i in range(len(state)):\n",
    "        if i == len(state) - 1:\n",
    "            return off_diagonal_configurations\n",
    "        if state[i] != state[i+1]:\n",
    "            state_copy[i] *= -1\n",
    "            state_copy[i+1] *= -1\n",
    "            off_diagonal_configurations.append(state_copy)\n",
    "            state_copy = state.copy()"
   ]
  },
  {
   "cell_type": "code",
   "execution_count": null,
   "metadata": {},
   "outputs": [],
   "source": [
    "alphas = [i*1 for i in range(6,18)]\n",
    "num_steps = 10000\n",
    "optimal_alpha, index, energies = get_optimal_alpha(alphas, num_steps=num_steps)\n",
    "\n",
    "plt.plot(alphas, energies)\n",
    "plt.ylabel(\"Variational Energy\")\n",
    "plt.xlabel(\"Alpha\")\n",
    "plt.title(f\"Variational Energy at Various Alphas ({num_steps})\")\n",
    "plt.show()\n",
    "print(f\"Optimal Alpha found at {optimal_alpha}\")\n",
    "print(f\"Minimum Energy: {energies[index]}\")"
   ]
  },
  {
   "cell_type": "code",
   "execution_count": null,
   "metadata": {},
   "outputs": [],
   "source": []
  }
 ],
 "metadata": {
  "kernelspec": {
   "display_name": "Python 3",
   "language": "python",
   "name": "python3"
  },
  "language_info": {
   "codemirror_mode": {
    "name": "ipython",
    "version": 3
   },
   "file_extension": ".py",
   "mimetype": "text/x-python",
   "name": "python",
   "nbconvert_exporter": "python",
   "pygments_lexer": "ipython3",
   "version": "3.7.0"
  }
 },
 "nbformat": 4,
 "nbformat_minor": 2
}

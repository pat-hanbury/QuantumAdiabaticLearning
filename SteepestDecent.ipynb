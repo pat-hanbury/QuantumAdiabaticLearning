{
 "cells": [
  {
   "cell_type": "markdown",
   "metadata": {},
   "source": [
    "# Steepest Descent\n",
    "This notebook is for performing steepest decent on the variational energy equation for a 4 particle\n",
    "system that was derived analytically."
   ]
  },
  {
   "cell_type": "code",
   "execution_count": 80,
   "metadata": {},
   "outputs": [],
   "source": [
    "import numpy as np\n",
    "from matplotlib import pyplot as plt\n",
    "from math import exp\n",
    "import random\n",
    "from pdb import set_trace"
   ]
  },
  {
   "cell_type": "markdown",
   "metadata": {},
   "source": [
    "## Visualizing the Variational Energy Function"
   ]
  },
  {
   "cell_type": "code",
   "execution_count": 20,
   "metadata": {},
   "outputs": [],
   "source": [
    "xs = np.asarray([i*0.1 for i in range(-200, 200)])\n",
    "ys = np.asarray([(-1)*(4*exp(x) + exp(1.5*x))/(2*exp(0.5*x) + exp(1.5*x)) for x in xs])"
   ]
  },
  {
   "cell_type": "code",
   "execution_count": 60,
   "metadata": {},
   "outputs": [
    {
     "name": "stdout",
     "output_type": "stream",
     "text": [
      "Optimal Alpha: 1.40\n",
      "Optimal Energy: -2.00\n"
     ]
    },
    {
     "data": {
      "image/png": "[encoded data removed]",
      "text/plain": [
       "<Figure size 432x288 with 1 Axes>"
      ]
     },
     "metadata": {
      "needs_background": "light"
     },
     "output_type": "display_data"
    }
   ],
   "source": [
    "plt.plot(xs, ys)\n",
    "plt.title(\"Variational Energy as a function of Alpha\")\n",
    "plt.ylabel(\"Energy\")\n",
    "plt.xlabel(\"Alpha\")\n",
    "\n",
    "optimal_alpha = xs[np.argmin(ys)]\n",
    "optimal_energy = np.min(ys)\n",
    "\n",
    "plt.plot([optimal_alpha], [optimal_energy], marker='o', markersize=6, color=\"red\")\n",
    "\n",
    "print(\"Optimal Alpha: %3.2f\" % optimal_alpha)\n",
    "print(\"Optimal Energy: %3.2f\" % optimal_energy)"
   ]
  },
  {
   "cell_type": "markdown",
   "metadata": {},
   "source": [
    "## Newton Method "
   ]
  },
  {
   "cell_type": "markdown",
   "metadata": {},
   "source": [
    "The newton method takes guesses of the minimum using this equation:\n",
    "\n",
    "![Newton Method Equation](images/NM_eq.png)\n",
    "\n",
    "Ref: https://en.wikipedia.org/wiki/Newton%27s_method"
   ]
  },
  {
   "cell_type": "code",
   "execution_count": 31,
   "metadata": {},
   "outputs": [],
   "source": [
    "def get_variational_energy(alpha):\n",
    "    return (-1)*(4*exp(alpha) + exp(1.5*alpha))/(2*exp(0.5*alpha) + exp(1.5*alpha))"
   ]
  },
  {
   "cell_type": "code",
   "execution_count": 44,
   "metadata": {},
   "outputs": [],
   "source": [
    "def get_variational_energy_derivative(alpha):\n",
    "    \"\"\"\n",
    "    with respect to alpha\n",
    "    \"\"\"\n",
    "    numerator = -2*(2*exp(1.5*alpha) + exp(2*alpha) - exp(2.5*alpha))\n",
    "    denominator = (2*exp(0.5*alpha) + exp(1.5*alpha)) ** 2\n",
    "    \n",
    "    return numerator/denominator"
   ]
  },
  {
   "cell_type": "code",
   "execution_count": 186,
   "metadata": {},
   "outputs": [],
   "source": [
    "def steepest_descent(lr =0.001):\n",
    "    \"\"\"\n",
    "    Note: only finds local minimums\n",
    "    \n",
    "    Algorithm will continue an additional 10 iterations\n",
    "    after finding what it thinks is the optimal value\n",
    "    \"\"\"\n",
    "    alpha = random.randint(-2000,2000)/100\n",
    "    cont = True\n",
    "    min_energy = 99999999999\n",
    "    i = 0\n",
    "    while(cont):\n",
    "        try:\n",
    "            energy = get_variational_energy(alpha)\n",
    "            derivative = get_variational_energy_derivative(alpha)\n",
    "            if energy < min_energy:\n",
    "                min_energy = energy\n",
    "                opt_alpha = alpha\n",
    "                i = 0\n",
    "            else:\n",
    "                i += 1\n",
    "                if i == 100:\n",
    "                    cont = False\n",
    "            try:\n",
    "                alpha = alpha + lr*energy/derivative\n",
    "            except ZeroDivisionError:\n",
    "                alpha = alpha - lr*energy/(derivative+2)\n",
    "        except Exception as e:\n",
    "            print(e)\n",
    "            set_trace()\n",
    "    \n",
    "            \n",
    "        \n",
    "    print(\"Optimal Alpha: %3.2f\" % opt_alpha)\n",
    "    print(\"Optimal Energy: %3.2f\" % min_energy)"
   ]
  },
  {
   "cell_type": "code",
   "execution_count": 192,
   "metadata": {},
   "outputs": [
    {
     "name": "stdout",
     "output_type": "stream",
     "text": [
      "Optimal Alpha: 1.39\n",
      "Optimal Energy: -2.00\n"
     ]
    }
   ],
   "source": [
    "steepest_descent()"
   ]
  }
 ],
 "metadata": {
  "kernelspec": {
   "display_name": "Python 3",
   "language": "python",
   "name": "python3"
  },
  "language_info": {
   "codemirror_mode": {
    "name": "ipython",
    "version": 3
   },
   "file_extension": ".py",
   "mimetype": "text/x-python",
   "name": "python",
   "nbconvert_exporter": "python",
   "pygments_lexer": "ipython3",
   "version": "3.7.0"
  }
 },
 "nbformat": 4,
 "nbformat_minor": 2
}

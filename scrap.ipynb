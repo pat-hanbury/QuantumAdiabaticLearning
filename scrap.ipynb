{
 "cells": [
  {
   "cell_type": "code",
   "execution_count": 34,
   "metadata": {},
   "outputs": [],
   "source": [
    "import numpy as np\n",
    "from pdb import set_trace\n",
    "import time"
   ]
  },
  {
   "cell_type": "code",
   "execution_count": 2,
   "metadata": {},
   "outputs": [],
   "source": [
    "x = np.asarray([10])\n",
    "y = np.append(x, [10])"
   ]
  },
  {
   "cell_type": "code",
   "execution_count": 3,
   "metadata": {},
   "outputs": [
    {
     "data": {
      "text/plain": [
       "(array([10]), array([10, 10]))"
      ]
     },
     "execution_count": 3,
     "metadata": {},
     "output_type": "execute_result"
    }
   ],
   "source": [
    "x, y"
   ]
  },
  {
   "cell_type": "code",
   "execution_count": 29,
   "metadata": {},
   "outputs": [],
   "source": [
    "def generate_all_states(num_particles):\n",
    "    \"\"\"\n",
    "    This function generates all the possible states of a system in which\n",
    "    the total number of spin up particles equals the total number of\n",
    "    spin down particles.\n",
    "    \"\"\"\n",
    "    \n",
    "    # this is a helper function that will be called recursively to generate\n",
    "    # all states\n",
    "    def generate_substates(head, remaining_1s, remaining_0s):\n",
    "        if len(head) == num_particles:\n",
    "            return [head]\n",
    "        if not remaining_1s:\n",
    "            return [np.append(head, np.zeros(num_particles - len(head)))]\n",
    "        if not remaining_0s:\n",
    "            return [np.append(head, np.ones(num_particles - len(head)))]\n",
    "        branch0 = np.append(head, [0])\n",
    "        branch1 = np.append(head, [1])\n",
    "        states0 = generate_substates(branch0, remaining_1s, remaining_0s - 1)\n",
    "        states1 = generate_substates(branch1, remaining_1s - 1, remaining_0s)\n",
    "        return states0 + states1\n",
    "    \n",
    "    head = np.asarray([])\n",
    "    return generate_substates(head, num_particles/2, num_particles/2)"
   ]
  },
  {
   "cell_type": "code",
   "execution_count": null,
   "metadata": {},
   "outputs": [
    {
     "name": "stdout",
     "output_type": "stream",
     "text": [
      "4 took 0.0001537799835205078 sec\n",
      "12 took 0.019266843795776367 sec\n",
      "16 took 0.20862555503845215 sec\n",
      "20 took 2.631650447845459 sec\n",
      "24 took 38.05210876464844 sec\n"
     ]
    }
   ],
   "source": [
    "for num in [4, 12 , 16, 20, 24, 32]:\n",
    "    num_particles = num\n",
    "    start = time.time()\n",
    "    generate_all_states(num_particles)\n",
    "    end = time.time()\n",
    "    print(f\"{num_particles} took {end - start} sec\")"
   ]
  },
  {
   "cell_type": "code",
   "execution_count": null,
   "metadata": {},
   "outputs": [],
   "source": []
  }
 ],
 "metadata": {
  "kernelspec": {
   "display_name": "Python 3",
   "language": "python",
   "name": "python3"
  },
  "language_info": {
   "codemirror_mode": {
    "name": "ipython",
    "version": 3
   },
   "file_extension": ".py",
   "mimetype": "text/x-python",
   "name": "python",
   "nbconvert_exporter": "python",
   "pygments_lexer": "ipython3",
   "version": "3.7.0"
  }
 },
 "nbformat": 4,
 "nbformat_minor": 2
}
